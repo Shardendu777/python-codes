{
 "cells": [
  {
   "cell_type": "code",
   "execution_count": 1,
   "id": "e4784dc7-a8a8-46ed-b1cd-91f257c62d93",
   "metadata": {},
   "outputs": [
    {
     "name": "stdout",
     "output_type": "stream",
     "text": [
      "banana\n"
     ]
    }
   ],
   "source": [
    "a={\"fruit\":\"banana\",\"colour\":\"green\"}\n",
    "print(a[\"fruit\"])"
   ]
  },
  {
   "cell_type": "code",
   "execution_count": 3,
   "id": "9263031a-fbd8-48d7-8218-1cecb7f03378",
   "metadata": {},
   "outputs": [
    {
     "name": "stdout",
     "output_type": "stream",
     "text": [
      "2\n"
     ]
    }
   ],
   "source": [
    "a={\"fruit\":2,\"colour\":\"green\"}\n",
    "print(a[\"fruit\"])"
   ]
  },
  {
   "cell_type": "code",
   "execution_count": 4,
   "id": "317c0bb9-a019-42f5-86df-a0dba0667ef9",
   "metadata": {},
   "outputs": [
    {
     "name": "stdout",
     "output_type": "stream",
     "text": [
      "2.2\n"
     ]
    }
   ],
   "source": [
    "a={\"fruit\":2.2,\"colour\":\"green\"}\n",
    "print(a[\"fruit\"])"
   ]
  },
  {
   "cell_type": "code",
   "execution_count": 5,
   "id": "d8f97253-ea56-4420-b5d5-c77e64a9d1de",
   "metadata": {},
   "outputs": [
    {
     "name": "stdout",
     "output_type": "stream",
     "text": [
      "(3+4j)\n"
     ]
    }
   ],
   "source": [
    "a={\"fruit\":3+4j,\"colour\":\"green\"}\n",
    "print(a[\"fruit\"])"
   ]
  },
  {
   "cell_type": "code",
   "execution_count": 7,
   "id": "11b10146-af65-4114-bc1b-02134fd8ad22",
   "metadata": {},
   "outputs": [
    {
     "name": "stdout",
     "output_type": "stream",
     "text": [
      "(3+4j)\n"
     ]
    }
   ],
   "source": [
    "a={1:3+4j,\"colour\":\"green\"}\n",
    "print(a[1])"
   ]
  },
  {
   "cell_type": "code",
   "execution_count": 8,
   "id": "52dc681d-34f3-439a-8d30-82766a6407c4",
   "metadata": {},
   "outputs": [
    {
     "name": "stdout",
     "output_type": "stream",
     "text": [
      "(3+4j)\n"
     ]
    }
   ],
   "source": [
    "a={1.2:3+4j,\"colour\":\"green\"}\n",
    "print(a[1.2])"
   ]
  },
  {
   "cell_type": "code",
   "execution_count": 9,
   "id": "b2180d49-5540-4e73-828a-3996644dd58c",
   "metadata": {},
   "outputs": [
    {
     "name": "stdout",
     "output_type": "stream",
     "text": [
      "(3+4j)\n"
     ]
    }
   ],
   "source": [
    "a={1+4j:3+4j,\"colour\":\"green\"}\n",
    "print(a[1+4j])"
   ]
  },
  {
   "cell_type": "code",
   "execution_count": 13,
   "id": "1ef1bf2b-ea58-4d26-9fd6-2346c789dcee",
   "metadata": {},
   "outputs": [
    {
     "name": "stdout",
     "output_type": "stream",
     "text": [
      "green\n"
     ]
    }
   ],
   "source": [
    "a={1:3+4j,1:\"green\"}\n",
    "print(a[1])"
   ]
  },
  {
   "cell_type": "code",
   "execution_count": 22,
   "id": "eaeec20b-3181-41e6-a1e7-43b912b6902f",
   "metadata": {},
   "outputs": [
    {
     "name": "stdout",
     "output_type": "stream",
     "text": [
      "9\n"
     ]
    }
   ],
   "source": [
    "a={1+3j:3+4j,1+3j:\"green\",1+3j:6,1+3j:9}\n",
    "print(a[1+3j])"
   ]
  },
  {
   "cell_type": "code",
   "execution_count": 56,
   "id": "38c2b193-0f1a-45bc-8f31-0d927b0ca056",
   "metadata": {},
   "outputs": [
    {
     "name": "stdout",
     "output_type": "stream",
     "text": [
      "{True: 6, 2: 9}\n"
     ]
    }
   ],
   "source": [
    "a={True:3+4j,True:\"green\",True:6,2:9}\n",
    "print(a)"
   ]
  },
  {
   "cell_type": "code",
   "execution_count": 30,
   "id": "b989ded5-add8-4e7d-94c9-c6fc26a2bd5d",
   "metadata": {},
   "outputs": [],
   "source": [
    "a={}\n",
    "for i in a:\n",
    "    print(i)"
   ]
  },
  {
   "cell_type": "code",
   "execution_count": 35,
   "id": "62b4a3fa-45c8-424b-ad88-fcdbc79747c1",
   "metadata": {},
   "outputs": [
    {
     "name": "stdout",
     "output_type": "stream",
     "text": [
      "fruit\n",
      "colour\n"
     ]
    }
   ],
   "source": [
    "a={\"fruit\":\"banana\",\"colour\":\"green\"}\n",
    "for i in a:\n",
    "    print(i)\n",
    "#printing keys"
   ]
  },
  {
   "cell_type": "code",
   "execution_count": 36,
   "id": "5bd607d9-6dab-49ac-935d-5693b28cb704",
   "metadata": {},
   "outputs": [
    {
     "name": "stdout",
     "output_type": "stream",
     "text": [
      "banana\n",
      "green\n"
     ]
    }
   ],
   "source": [
    "a={\"fruit\":\"banana\",\"colour\":\"green\"}\n",
    "for i in a:\n",
    "    print(a[i])\n",
    "#printing values"
   ]
  },
  {
   "cell_type": "code",
   "execution_count": 37,
   "id": "12c27f86-a67d-478d-acd0-71d113c05f4b",
   "metadata": {},
   "outputs": [
    {
     "name": "stdout",
     "output_type": "stream",
     "text": [
      "<built-in method keys of dict object at 0x000002BEA36C3400>\n"
     ]
    }
   ],
   "source": [
    "a={\"fruit\":\"banana\",\"colour\":\"green\"}\n",
    "print(a.keys)\n",
    "#it will give the address of the whole dictionary where it is stored"
   ]
  },
  {
   "cell_type": "code",
   "execution_count": 40,
   "id": "97ae5b4a-43a0-4cd3-9811-19e254418685",
   "metadata": {},
   "outputs": [
    {
     "name": "stdout",
     "output_type": "stream",
     "text": [
      "dict_keys(['fruit', 'colour'])\n"
     ]
    }
   ],
   "source": [
    "a={\"fruit\":\"banana\",\"colour\":\"green\"}\n",
    "print(a.keys())"
   ]
  },
  {
   "cell_type": "code",
   "execution_count": 41,
   "id": "0b25a9b2-2125-4ab6-9404-4b093c16a454",
   "metadata": {},
   "outputs": [
    {
     "name": "stdout",
     "output_type": "stream",
     "text": [
      "['fruit', 'colour']\n"
     ]
    }
   ],
   "source": [
    "a={\"fruit\":\"banana\",\"colour\":\"green\"}\n",
    "print(list(a.keys()))"
   ]
  },
  {
   "cell_type": "code",
   "execution_count": 42,
   "id": "89202faa-da6b-4cd8-98f3-080de7ecfeff",
   "metadata": {},
   "outputs": [
    {
     "name": "stdout",
     "output_type": "stream",
     "text": [
      "<built-in method keys of dict object at 0x000002BEA3155400>\n"
     ]
    }
   ],
   "source": [
    "a={\"fruits\":\"banana\",\"colour\":\"green\"}\n",
    "print(a.keys)\n",
    "#it will give the address of the whole dictionary where it is stored"
   ]
  },
  {
   "cell_type": "code",
   "execution_count": 43,
   "id": "e5722603-f070-4554-bbc3-36f3da6ead99",
   "metadata": {},
   "outputs": [
    {
     "name": "stdout",
     "output_type": "stream",
     "text": [
      "<built-in method values of dict object at 0x000002BEA37204C0>\n"
     ]
    }
   ],
   "source": [
    "a={\"fruits\":\"banana\",\"colour\":\"green\"}\n",
    "print(a.values)"
   ]
  },
  {
   "cell_type": "code",
   "execution_count": 44,
   "id": "fa1f28c5-dc5d-4447-8374-83b1295b43b1",
   "metadata": {},
   "outputs": [
    {
     "name": "stdout",
     "output_type": "stream",
     "text": [
      "dict_values(['banana', 'green'])\n"
     ]
    }
   ],
   "source": [
    "a={\"fruits\":\"banana\",\"colour\":\"green\"}\n",
    "print(a.values())"
   ]
  },
  {
   "cell_type": "code",
   "execution_count": 49,
   "id": "c903d256-d5d3-4a18-8ad5-4ebb54fcb8b1",
   "metadata": {},
   "outputs": [
    {
     "name": "stdout",
     "output_type": "stream",
     "text": [
      "seb\n"
     ]
    },
    {
     "ename": "KeyError",
     "evalue": "'green'",
     "output_type": "error",
     "traceback": [
      "\u001b[1;31m---------------------------------------------------------------------------\u001b[0m",
      "\u001b[1;31mKeyError\u001b[0m                                  Traceback (most recent call last)",
      "Cell \u001b[1;32mIn[49], line 4\u001b[0m\n\u001b[0;32m      2\u001b[0m a[\u001b[38;5;124m\"\u001b[39m\u001b[38;5;124mfruits\u001b[39m\u001b[38;5;124m\"\u001b[39m]\u001b[38;5;241m=\u001b[39m\u001b[38;5;124m\"\u001b[39m\u001b[38;5;124mseb\u001b[39m\u001b[38;5;124m\"\u001b[39m\n\u001b[0;32m      3\u001b[0m \u001b[38;5;28mprint\u001b[39m(a[\u001b[38;5;124m\"\u001b[39m\u001b[38;5;124mfruits\u001b[39m\u001b[38;5;124m\"\u001b[39m])\n\u001b[1;32m----> 4\u001b[0m \u001b[38;5;28mprint\u001b[39m(\u001b[43ma\u001b[49m\u001b[43m[\u001b[49m\u001b[38;5;124;43m\"\u001b[39;49m\u001b[38;5;124;43mgreen\u001b[39;49m\u001b[38;5;124;43m\"\u001b[39;49m\u001b[43m]\u001b[49m)\n",
      "\u001b[1;31mKeyError\u001b[0m: 'green'"
     ]
    }
   ],
   "source": [
    "a={\"fruits\":\"banana\",\"colour\":\"green\"}\n",
    "a[\"fruits\"]=\"seb\"\n",
    "print(a[\"fruits\"])\n",
    "print(a[\"green\"])\n",
    "#doing changes in values(mutable),but can't change keys(immutable)"
   ]
  },
  {
   "cell_type": "code",
   "execution_count": 53,
   "id": "5c8895a8-5ba7-466f-925f-fc92b105f429",
   "metadata": {},
   "outputs": [
    {
     "name": "stdout",
     "output_type": "stream",
     "text": [
      "{'fruits': 'banana', 'colour': 'green', 'place': 'dun'}\n"
     ]
    }
   ],
   "source": [
    "a={\"fruits\":\"banana\",\"colour\":\"green\"}\n",
    "a[\"place\"]=\"rpg\"\n",
    "a[\"place\"]=\"dun\"\n",
    "print(a)\n",
    "#adding a new key-value pair"
   ]
  },
  {
   "cell_type": "code",
   "execution_count": 57,
   "id": "2f45946d-bccd-4687-9472-a99c27683170",
   "metadata": {},
   "outputs": [
    {
     "name": "stdout",
     "output_type": "stream",
     "text": [
      "{'colour': 'green'}\n"
     ]
    }
   ],
   "source": [
    "a={\"fruits\":\"banana\",\"colour\":\"green\"}\n",
    "del a[\"fruits\"]\n",
    "print(a)\n"
   ]
  },
  {
   "cell_type": "code",
   "execution_count": null,
   "id": "a6808671-9984-4a67-8e8b-65279f47291d",
   "metadata": {},
   "outputs": [],
   "source": [
    "-------------"
   ]
  },
  {
   "cell_type": "code",
   "execution_count": null,
   "id": "be7bc5c8-3cc8-43f0-bf31-2cf625911ffb",
   "metadata": {},
   "outputs": [],
   "source": [
    "-------------"
   ]
  },
  {
   "cell_type": "code",
   "execution_count": null,
   "id": "3170c9d5-462c-48b7-9cb8-2e4ee90ec2b1",
   "metadata": {},
   "outputs": [],
   "source": [
    "conclusion:1.dictionaries are mutable\n",
    "            2.keys are immutable but values are mutable\n",
    "            3.we can add or delete a key-value pair\n",
    "            4.if same keys are present,th"
   ]
  }
 ],
 "metadata": {
  "kernelspec": {
   "display_name": "Python 3 (ipykernel)",
   "language": "python",
   "name": "python3"
  },
  "language_info": {
   "codemirror_mode": {
    "name": "ipython",
    "version": 3
   },
   "file_extension": ".py",
   "mimetype": "text/x-python",
   "name": "python",
   "nbconvert_exporter": "python",
   "pygments_lexer": "ipython3",
   "version": "3.13.1"
  }
 },
 "nbformat": 4,
 "nbformat_minor": 5
}
