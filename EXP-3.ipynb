{
 "cells": [
  {
   "cell_type": "code",
   "execution_count": 4,
   "id": "ffd39ddf-12b3-4a6e-97b4-00f85ba4bd07",
   "metadata": {},
   "outputs": [
    {
     "name": "stdin",
     "output_type": "stream",
     "text": [
      "enter a number :  6\n"
     ]
    },
    {
     "name": "stdout",
     "output_type": "stream",
     "text": [
      "yes\n"
     ]
    }
   ],
   "source": [
    "#1\n",
    "n=int(input(\"enter a number : \"))\n",
    "if(n%3==0 or n%5==0):\n",
    "    print(\"yes\")\n",
    "else:\n",
    "    print(\"no\")"
   ]
  },
  {
   "cell_type": "code",
   "execution_count": 6,
   "id": "2dc1f810-ee1b-4836-9bc6-7d44e908196a",
   "metadata": {},
   "outputs": [
    {
     "name": "stdin",
     "output_type": "stream",
     "text": [
      "enter a number :  10\n"
     ]
    },
    {
     "name": "stdout",
     "output_type": "stream",
     "text": [
      "yes\n"
     ]
    }
   ],
   "source": [
    "#2\n",
    "n=int(input(\"enter a number : \"))\n",
    "if(n%5==0):\n",
    "    print(\"yes\")\n",
    "else:\n",
    "    print(\"no\")"
   ]
  },
  {
   "cell_type": "code",
   "execution_count": 10,
   "id": "e4c730d5-3b01-4818-94b4-34ef862a7388",
   "metadata": {},
   "outputs": [
    {
     "name": "stdin",
     "output_type": "stream",
     "text": [
      "enter first number :  9\n",
      "enter second number :  6\n"
     ]
    },
    {
     "name": "stdout",
     "output_type": "stream",
     "text": [
      "a is greater than b\n"
     ]
    }
   ],
   "source": [
    "#3\n",
    "a=int(input(\"enter first number : \"))\n",
    "b=int(input(\"enter second number : \"))\n",
    "if(a>b):\n",
    "    print(\"a is greater than b\")\n",
    "elif(b>a):\n",
    "    print(\"b is greater than a\")\n",
    "else:\n",
    "    print(\"numbers are equal\")"
   ]
  },
  {
   "cell_type": "code",
   "execution_count": 13,
   "id": "733c5a79-6eb3-43d3-90f5-c6cdb2d4ce95",
   "metadata": {},
   "outputs": [
    {
     "name": "stdin",
     "output_type": "stream",
     "text": [
      "enter first number :  4\n",
      "enter second number :  4\n",
      "enter third number :  6\n"
     ]
    },
    {
     "name": "stdout",
     "output_type": "stream",
     "text": [
      "invalid\n"
     ]
    }
   ],
   "source": [
    "#4\n",
    "a=int(input(\"enter first number : \"))\n",
    "b=int(input(\"enter second number : \"))\n",
    "c=int(input(\"enter third number : \"))\n",
    "if(a>b and b>c):\n",
    "    print(\"a is greatest\")\n",
    "elif(b>a and a>c):\n",
    "    print(\"b is greatest\")\n",
    "elif(c>a and a>b):\n",
    "    print(\"c is greatest\")\n",
    "else:\n",
    "    print(\"invalid\")"
   ]
  },
  {
   "cell_type": "code",
   "execution_count": 16,
   "id": "54f54314-32be-490f-a9a0-7bf6ad12ca42",
   "metadata": {},
   "outputs": [
    {
     "name": "stdin",
     "output_type": "stream",
     "text": [
      "enter a of the quad equation :  2\n",
      "enter b of the quad equation :  5\n",
      "enter c of the quad equation :  0\n"
     ]
    },
    {
     "name": "stdout",
     "output_type": "stream",
     "text": [
      "quad equation has 2 real and distinct roots\n",
      "0j (-2.5+0j)\n"
     ]
    }
   ],
   "source": [
    "#5\n",
    "a=float(input(\"enter a of the quad equation : \"))\n",
    "b=float(input(\"enter b of the quad equation : \"))\n",
    "c=float(input(\"enter c of the quad equation : \"))\n",
    "D=b**2-4*a*c\n",
    "if(D>0):\n",
    "    print(\"quad equation has 2 real and distinct roots\")\n",
    "elif(D==0):\n",
    "    print(\"quad equation has two real and equal roots\")\n",
    "elif(D<0):\n",
    "    print(\"quad equation has two imaginary roots\")\n",
    "root1=(-b+cmath.sqrt(D))/(2*a)\n",
    "root2=(-b-cmath.sqrt(D))/(2*a)\n",
    "print(root1,root2)\n"
   ]
  },
  {
   "cell_type": "code",
   "execution_count": 20,
   "id": "9a43b71a-1bb5-4621-bf56-45c8985cd0a9",
   "metadata": {},
   "outputs": [
    {
     "name": "stdin",
     "output_type": "stream",
     "text": [
      "enter a year :  1900\n"
     ]
    },
    {
     "name": "stdout",
     "output_type": "stream",
     "text": [
      "not a leap year\n"
     ]
    }
   ],
   "source": [
    "#6\n",
    "year=int(input(\"enter a year : \"))\n",
    "if(year<=0):\n",
    "    print(\"invalid\")\n",
    "elif(year%400==0):\n",
    "    print(\"it is a leap year\")\n",
    "elif(year%4==0 and year%100!=0):\n",
    "    print(\"it is a leap year\")\n",
    "else:\n",
    "    print(\"not a leap year\")\n",
    "    "
   ]
  },
  {
   "cell_type": "code",
   "execution_count": null,
   "id": "9fb693b6-ffaf-4995-b244-1e3cb5aff87e",
   "metadata": {},
   "outputs": [],
   "source": [
    "#8\n",
    "physics=float(input(\"enter the marks of physics:\"))\n",
    "chemistry=float(input(\"enter the marks of chemistry:\"))\n",
    "maths=float(input(\"enter the marks of maths:\"))\n",
    "python=float(input(\"enter the marks of python:\"))\n",
    "dsa=float(input(\"enter the marks of dsa:\"))\n",
    "CGPA=(((physics+chemistry+maths+python+dsa)/500)*100)/10\n",
    "if(CGPA<3.4 and CGPA>=0):\n",
    "    print(\"grade=f\")\n",
    "elif(CGPA>=3.4 and CGPA<5):\n",
    "    print(\"grade=c+\")\n",
    "elif(CGPA>=5 and CGPA<6):\n",
    "    print(\"grade=b\")\n",
    "elif(CGPA>=6 and CGPA<7):\n",
    "    print(\"grade=b+\")\n",
    "elif(CGPA>=7 and CGPA<8):\n",
    "    print(\"grade=a\")\n",
    "elif(CGPA>=8 and CGPA<9):\n",
    "    print(\"grade=a+\")\n",
    "    "
   ]
  }
 ],
 "metadata": {
  "kernelspec": {
   "display_name": "Python 3 (ipykernel)",
   "language": "python",
   "name": "python3"
  },
  "language_info": {
   "codemirror_mode": {
    "name": "ipython",
    "version": 3
   },
   "file_extension": ".py",
   "mimetype": "text/x-python",
   "name": "python",
   "nbconvert_exporter": "python",
   "pygments_lexer": "ipython3",
   "version": "3.13.1"
  }
 },
 "nbformat": 4,
 "nbformat_minor": 5
}
