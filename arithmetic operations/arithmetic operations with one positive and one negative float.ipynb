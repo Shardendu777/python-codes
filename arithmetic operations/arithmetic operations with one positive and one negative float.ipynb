{
 "cells": [
  {
   "cell_type": "code",
   "execution_count": 1,
   "id": "e16a03cf-33d5-46d7-a29e-d8ba6e4ae157",
   "metadata": {},
   "outputs": [
    {
     "data": {
      "text/plain": [
       "5.0"
      ]
     },
     "execution_count": 1,
     "metadata": {},
     "output_type": "execute_result"
    }
   ],
   "source": [
    "a=10.5 \n",
    "b=-5.5\n",
    "a+b"
   ]
  },
  {
   "cell_type": "code",
   "execution_count": 2,
   "id": "a669dc81-9c22-4f33-a1ab-c06f5ed7e56e",
   "metadata": {},
   "outputs": [
    {
     "data": {
      "text/plain": [
       "0.0"
      ]
     },
     "execution_count": 2,
     "metadata": {},
     "output_type": "execute_result"
    }
   ],
   "source": [
    "a=0.0\n",
    "b=0.0\n",
    "a+b"
   ]
  },
  {
   "cell_type": "code",
   "execution_count": 3,
   "id": "ba0b27e0-6b0b-46d7-845d-9de712d99ec7",
   "metadata": {},
   "outputs": [
    {
     "data": {
      "text/plain": [
       "10.5"
      ]
     },
     "execution_count": 3,
     "metadata": {},
     "output_type": "execute_result"
    }
   ],
   "source": [
    "a=10.5\n",
    "b=0.0\n",
    "a+b"
   ]
  },
  {
   "cell_type": "code",
   "execution_count": 4,
   "id": "6f867ad1-6987-48e6-ae63-aa8d3cde47dd",
   "metadata": {},
   "outputs": [
    {
     "data": {
      "text/plain": [
       "-10.5"
      ]
     },
     "execution_count": 4,
     "metadata": {},
     "output_type": "execute_result"
    }
   ],
   "source": [
    "a=0.0\n",
    "b=-10.5\n",
    "a+b"
   ]
  },
  {
   "cell_type": "code",
   "execution_count": 5,
   "id": "b1ec83b3-6506-4773-a389-661fe4193e5d",
   "metadata": {},
   "outputs": [
    {
     "data": {
      "text/plain": [
       "-5.0"
      ]
     },
     "execution_count": 5,
     "metadata": {},
     "output_type": "execute_result"
    }
   ],
   "source": [
    "a=5.5\n",
    "b=-10.5\n",
    "a+b"
   ]
  },
  {
   "cell_type": "code",
   "execution_count": 6,
   "id": "a9a9b7ed-2eaf-4e4f-92b5-56ad0fd4ef70",
   "metadata": {},
   "outputs": [
    {
     "data": {
      "text/plain": [
       "0.0"
      ]
     },
     "execution_count": 6,
     "metadata": {},
     "output_type": "execute_result"
    }
   ],
   "source": [
    "a=10.5\n",
    "b=-10.5\n",
    "a+b"
   ]
  },
  {
   "cell_type": "code",
   "execution_count": 7,
   "id": "8fecab3d-e3fc-45e0-98f7-be7fa0d600f3",
   "metadata": {},
   "outputs": [
    {
     "data": {
      "text/plain": [
       "16.0"
      ]
     },
     "execution_count": 7,
     "metadata": {},
     "output_type": "execute_result"
    }
   ],
   "source": [
    "a=10.5\n",
    "b=-5.5\n",
    "a-b"
   ]
  },
  {
   "cell_type": "code",
   "execution_count": 8,
   "id": "2d5bf2a7-caa3-4603-ade8-b804774f4e75",
   "metadata": {},
   "outputs": [
    {
     "data": {
      "text/plain": [
       "0.0"
      ]
     },
     "execution_count": 8,
     "metadata": {},
     "output_type": "execute_result"
    }
   ],
   "source": [
    "a=0.0\n",
    "b=0.0\n",
    "a-b"
   ]
  },
  {
   "cell_type": "code",
   "execution_count": 9,
   "id": "bc849cdf-7855-42b2-a54c-2613c3dd9573",
   "metadata": {},
   "outputs": [
    {
     "data": {
      "text/plain": [
       "10.5"
      ]
     },
     "execution_count": 9,
     "metadata": {},
     "output_type": "execute_result"
    }
   ],
   "source": [
    "a=10.5\n",
    "b=0.0\n",
    "a-b"
   ]
  },
  {
   "cell_type": "code",
   "execution_count": 10,
   "id": "faf3f585-b28e-42e7-b143-6ce01c3eae5e",
   "metadata": {},
   "outputs": [
    {
     "data": {
      "text/plain": [
       "10.5"
      ]
     },
     "execution_count": 10,
     "metadata": {},
     "output_type": "execute_result"
    }
   ],
   "source": [
    "a=0.0\n",
    "b=-10.5\n",
    "a-b"
   ]
  },
  {
   "cell_type": "code",
   "execution_count": 11,
   "id": "87ed9a5f-575a-4da0-88e3-c151492b195e",
   "metadata": {},
   "outputs": [
    {
     "data": {
      "text/plain": [
       "16.0"
      ]
     },
     "execution_count": 11,
     "metadata": {},
     "output_type": "execute_result"
    }
   ],
   "source": [
    "a=5.5\n",
    "b=-10.5\n",
    "a-b"
   ]
  },
  {
   "cell_type": "code",
   "execution_count": 12,
   "id": "f69ad9b2-dfb7-4791-ae60-10855761133a",
   "metadata": {},
   "outputs": [
    {
     "data": {
      "text/plain": [
       "21.0"
      ]
     },
     "execution_count": 12,
     "metadata": {},
     "output_type": "execute_result"
    }
   ],
   "source": [
    "a=10.5\n",
    "b=-10.5\n",
    "a-b"
   ]
  },
  {
   "cell_type": "code",
   "execution_count": 13,
   "id": "1ffcb1b3-3f38-458e-9eff-3b8f281fbce0",
   "metadata": {},
   "outputs": [
    {
     "data": {
      "text/plain": [
       "-57.75"
      ]
     },
     "execution_count": 13,
     "metadata": {},
     "output_type": "execute_result"
    }
   ],
   "source": [
    "a=10.5\n",
    "b=-5.5\n",
    "a*b"
   ]
  },
  {
   "cell_type": "code",
   "execution_count": 14,
   "id": "d610d789-1dfe-4683-a6b0-406b922f602a",
   "metadata": {},
   "outputs": [
    {
     "data": {
      "text/plain": [
       "0.0"
      ]
     },
     "execution_count": 14,
     "metadata": {},
     "output_type": "execute_result"
    }
   ],
   "source": [
    "a=0.0\n",
    "b=0.0\n",
    "a*b"
   ]
  },
  {
   "cell_type": "code",
   "execution_count": 15,
   "id": "352feec2-30b2-4327-9108-8126e3978283",
   "metadata": {},
   "outputs": [
    {
     "data": {
      "text/plain": [
       "0.0"
      ]
     },
     "execution_count": 15,
     "metadata": {},
     "output_type": "execute_result"
    }
   ],
   "source": [
    "a=10.5\n",
    "b=0.0\n",
    "a*b"
   ]
  },
  {
   "cell_type": "code",
   "execution_count": 16,
   "id": "18d84f8e-a2b2-4bc3-a448-8e1cdf725427",
   "metadata": {},
   "outputs": [
    {
     "data": {
      "text/plain": [
       "-0.0"
      ]
     },
     "execution_count": 16,
     "metadata": {},
     "output_type": "execute_result"
    }
   ],
   "source": [
    "a=0.0\n",
    "b=-10.5\n",
    "a*b"
   ]
  },
  {
   "cell_type": "code",
   "execution_count": 17,
   "id": "24b57478-e129-48dd-b844-4608f3feab7c",
   "metadata": {},
   "outputs": [
    {
     "data": {
      "text/plain": [
       "-57.75"
      ]
     },
     "execution_count": 17,
     "metadata": {},
     "output_type": "execute_result"
    }
   ],
   "source": [
    "a=5.5\n",
    "b=-10.5\n",
    "a*b"
   ]
  },
  {
   "cell_type": "code",
   "execution_count": 18,
   "id": "bbc455f9-de03-4828-8a00-545f175e899f",
   "metadata": {},
   "outputs": [
    {
     "data": {
      "text/plain": [
       "-110.25"
      ]
     },
     "execution_count": 18,
     "metadata": {},
     "output_type": "execute_result"
    }
   ],
   "source": [
    "a=10.5\n",
    "b=-10.5\n",
    "a*b"
   ]
  },
  {
   "cell_type": "code",
   "execution_count": 20,
   "id": "55b45e21-9b0b-4114-9a12-a5ebef7d6ad0",
   "metadata": {},
   "outputs": [
    {
     "data": {
      "text/plain": [
       "-1.9090909090909092"
      ]
     },
     "execution_count": 20,
     "metadata": {},
     "output_type": "execute_result"
    }
   ],
   "source": [
    "a=10.5\n",
    "b=-5.5\n",
    "a/b"
   ]
  },
  {
   "cell_type": "code",
   "execution_count": 21,
   "id": "bc0d20bc-6f18-4473-a891-2d14cc51efc2",
   "metadata": {},
   "outputs": [
    {
     "ename": "ZeroDivisionError",
     "evalue": "float division by zero",
     "output_type": "error",
     "traceback": [
      "\u001b[1;31m---------------------------------------------------------------------------\u001b[0m",
      "\u001b[1;31mZeroDivisionError\u001b[0m                         Traceback (most recent call last)",
      "Cell \u001b[1;32mIn[21], line 3\u001b[0m\n\u001b[0;32m      1\u001b[0m a\u001b[38;5;241m=\u001b[39m\u001b[38;5;241m0.0\u001b[39m\n\u001b[0;32m      2\u001b[0m b\u001b[38;5;241m=\u001b[39m\u001b[38;5;241m0.0\u001b[39m\n\u001b[1;32m----> 3\u001b[0m \u001b[43ma\u001b[49m\u001b[38;5;241;43m/\u001b[39;49m\u001b[43mb\u001b[49m\n",
      "\u001b[1;31mZeroDivisionError\u001b[0m: float division by zero"
     ]
    }
   ],
   "source": [
    "a=0.0\n",
    "b=0.0\n",
    "a/b"
   ]
  },
  {
   "cell_type": "code",
   "execution_count": 22,
   "id": "e55723a7-9733-4d20-9766-4b50c9aa10b3",
   "metadata": {},
   "outputs": [
    {
     "ename": "ZeroDivisionError",
     "evalue": "float division by zero",
     "output_type": "error",
     "traceback": [
      "\u001b[1;31m---------------------------------------------------------------------------\u001b[0m",
      "\u001b[1;31mZeroDivisionError\u001b[0m                         Traceback (most recent call last)",
      "Cell \u001b[1;32mIn[22], line 3\u001b[0m\n\u001b[0;32m      1\u001b[0m a\u001b[38;5;241m=\u001b[39m\u001b[38;5;241m10.5\u001b[39m\n\u001b[0;32m      2\u001b[0m b\u001b[38;5;241m=\u001b[39m\u001b[38;5;241m0.0\u001b[39m\n\u001b[1;32m----> 3\u001b[0m \u001b[43ma\u001b[49m\u001b[38;5;241;43m/\u001b[39;49m\u001b[43mb\u001b[49m\n",
      "\u001b[1;31mZeroDivisionError\u001b[0m: float division by zero"
     ]
    }
   ],
   "source": [
    "a=10.5\n",
    "b=0.0\n",
    "a/b"
   ]
  },
  {
   "cell_type": "code",
   "execution_count": 23,
   "id": "6ce03a52-0c5c-4e9c-88f0-d2184b981f12",
   "metadata": {},
   "outputs": [
    {
     "data": {
      "text/plain": [
       "-0.0"
      ]
     },
     "execution_count": 23,
     "metadata": {},
     "output_type": "execute_result"
    }
   ],
   "source": [
    "a=0.0\n",
    "b=-10.5\n",
    "a/b"
   ]
  },
  {
   "cell_type": "code",
   "execution_count": 24,
   "id": "9086e1f0-5e55-4e74-a315-fdf67792d7e0",
   "metadata": {},
   "outputs": [
    {
     "data": {
      "text/plain": [
       "-0.5238095238095238"
      ]
     },
     "execution_count": 24,
     "metadata": {},
     "output_type": "execute_result"
    }
   ],
   "source": [
    "a=5.5\n",
    "b=-10.5\n",
    "a/b"
   ]
  },
  {
   "cell_type": "code",
   "execution_count": 25,
   "id": "b9433cb2-4e1a-46f6-9600-df0a087e46f6",
   "metadata": {},
   "outputs": [
    {
     "data": {
      "text/plain": [
       "-1.0"
      ]
     },
     "execution_count": 25,
     "metadata": {},
     "output_type": "execute_result"
    }
   ],
   "source": [
    "a=10.5\n",
    "b=-10.5\n",
    "a/b"
   ]
  },
  {
   "cell_type": "code",
   "execution_count": 26,
   "id": "e32d7a67-8442-407b-90c1-2e195b5355da",
   "metadata": {},
   "outputs": [
    {
     "data": {
      "text/plain": [
       "-2.0"
      ]
     },
     "execution_count": 26,
     "metadata": {},
     "output_type": "execute_result"
    }
   ],
   "source": [
    "a=10.5\n",
    "b=-5.5\n",
    "a//b"
   ]
  },
  {
   "cell_type": "code",
   "execution_count": 27,
   "id": "5b9fa226-bd23-4f69-827d-1544b96ee943",
   "metadata": {},
   "outputs": [
    {
     "ename": "ZeroDivisionError",
     "evalue": "float floor division by zero",
     "output_type": "error",
     "traceback": [
      "\u001b[1;31m---------------------------------------------------------------------------\u001b[0m",
      "\u001b[1;31mZeroDivisionError\u001b[0m                         Traceback (most recent call last)",
      "Cell \u001b[1;32mIn[27], line 3\u001b[0m\n\u001b[0;32m      1\u001b[0m a\u001b[38;5;241m=\u001b[39m\u001b[38;5;241m0.0\u001b[39m\n\u001b[0;32m      2\u001b[0m b\u001b[38;5;241m=\u001b[39m\u001b[38;5;241m0.0\u001b[39m\n\u001b[1;32m----> 3\u001b[0m \u001b[43ma\u001b[49m\u001b[38;5;241;43m/\u001b[39;49m\u001b[38;5;241;43m/\u001b[39;49m\u001b[43mb\u001b[49m\n",
      "\u001b[1;31mZeroDivisionError\u001b[0m: float floor division by zero"
     ]
    }
   ],
   "source": [
    "a=0.0\n",
    "b=0.0\n",
    "a//b"
   ]
  },
  {
   "cell_type": "code",
   "execution_count": 28,
   "id": "7604f81a-1d4c-41c9-8c33-07b4ec5b01b7",
   "metadata": {},
   "outputs": [
    {
     "ename": "ZeroDivisionError",
     "evalue": "float floor division by zero",
     "output_type": "error",
     "traceback": [
      "\u001b[1;31m---------------------------------------------------------------------------\u001b[0m",
      "\u001b[1;31mZeroDivisionError\u001b[0m                         Traceback (most recent call last)",
      "Cell \u001b[1;32mIn[28], line 3\u001b[0m\n\u001b[0;32m      1\u001b[0m a\u001b[38;5;241m=\u001b[39m\u001b[38;5;241m10.5\u001b[39m\n\u001b[0;32m      2\u001b[0m b\u001b[38;5;241m=\u001b[39m\u001b[38;5;241m0.0\u001b[39m\n\u001b[1;32m----> 3\u001b[0m \u001b[43ma\u001b[49m\u001b[38;5;241;43m/\u001b[39;49m\u001b[38;5;241;43m/\u001b[39;49m\u001b[43mb\u001b[49m\n",
      "\u001b[1;31mZeroDivisionError\u001b[0m: float floor division by zero"
     ]
    }
   ],
   "source": [
    "a=10.5\n",
    "b=0.0\n",
    "a//b"
   ]
  },
  {
   "cell_type": "code",
   "execution_count": 29,
   "id": "f4eaaae1-28a9-4a88-ae68-a8f010f1ba71",
   "metadata": {},
   "outputs": [
    {
     "data": {
      "text/plain": [
       "-0.0"
      ]
     },
     "execution_count": 29,
     "metadata": {},
     "output_type": "execute_result"
    }
   ],
   "source": [
    "a=0.0\n",
    "b=-10.5\n",
    "a//b"
   ]
  },
  {
   "cell_type": "code",
   "execution_count": 30,
   "id": "9b6afcce-10af-4bda-8baf-7398e5b2f304",
   "metadata": {},
   "outputs": [
    {
     "data": {
      "text/plain": [
       "-1.0"
      ]
     },
     "execution_count": 30,
     "metadata": {},
     "output_type": "execute_result"
    }
   ],
   "source": [
    "a=5.5\n",
    "b=-10.5\n",
    "a//b"
   ]
  },
  {
   "cell_type": "code",
   "execution_count": 31,
   "id": "c2690bbc-97db-4c82-a2fa-3cdc40dedc09",
   "metadata": {},
   "outputs": [
    {
     "data": {
      "text/plain": [
       "-1.0"
      ]
     },
     "execution_count": 31,
     "metadata": {},
     "output_type": "execute_result"
    }
   ],
   "source": [
    "a=10.5\n",
    "b=-10.5\n",
    "a//b"
   ]
  },
  {
   "cell_type": "code",
   "execution_count": 32,
   "id": "fe5876af-40b6-4fe8-a02e-d8d6ccf7a6f0",
   "metadata": {},
   "outputs": [
    {
     "data": {
      "text/plain": [
       "-0.5"
      ]
     },
     "execution_count": 32,
     "metadata": {},
     "output_type": "execute_result"
    }
   ],
   "source": [
    "a=10.5\n",
    "b=-5.5\n",
    "a%b"
   ]
  },
  {
   "cell_type": "code",
   "execution_count": 33,
   "id": "1397c644-caa6-4968-ae22-7b3e78437e5e",
   "metadata": {},
   "outputs": [
    {
     "ename": "ZeroDivisionError",
     "evalue": "float modulo by zero",
     "output_type": "error",
     "traceback": [
      "\u001b[1;31m---------------------------------------------------------------------------\u001b[0m",
      "\u001b[1;31mZeroDivisionError\u001b[0m                         Traceback (most recent call last)",
      "Cell \u001b[1;32mIn[33], line 3\u001b[0m\n\u001b[0;32m      1\u001b[0m a\u001b[38;5;241m=\u001b[39m\u001b[38;5;241m0.0\u001b[39m\n\u001b[0;32m      2\u001b[0m b\u001b[38;5;241m=\u001b[39m\u001b[38;5;241m0.0\u001b[39m\n\u001b[1;32m----> 3\u001b[0m \u001b[43ma\u001b[49m\u001b[38;5;241;43m%\u001b[39;49m\u001b[43mb\u001b[49m\n",
      "\u001b[1;31mZeroDivisionError\u001b[0m: float modulo by zero"
     ]
    }
   ],
   "source": [
    "a=0.0\n",
    "b=0.0\n",
    "a%b"
   ]
  },
  {
   "cell_type": "code",
   "execution_count": 34,
   "id": "ef104df9-07b5-4bec-a98b-84fe03a82ed0",
   "metadata": {},
   "outputs": [
    {
     "ename": "ZeroDivisionError",
     "evalue": "float modulo by zero",
     "output_type": "error",
     "traceback": [
      "\u001b[1;31m---------------------------------------------------------------------------\u001b[0m",
      "\u001b[1;31mZeroDivisionError\u001b[0m                         Traceback (most recent call last)",
      "Cell \u001b[1;32mIn[34], line 3\u001b[0m\n\u001b[0;32m      1\u001b[0m a\u001b[38;5;241m=\u001b[39m\u001b[38;5;241m10.5\u001b[39m\n\u001b[0;32m      2\u001b[0m b\u001b[38;5;241m=\u001b[39m\u001b[38;5;241m0.0\u001b[39m\n\u001b[1;32m----> 3\u001b[0m \u001b[43ma\u001b[49m\u001b[38;5;241;43m%\u001b[39;49m\u001b[43mb\u001b[49m\n",
      "\u001b[1;31mZeroDivisionError\u001b[0m: float modulo by zero"
     ]
    }
   ],
   "source": [
    "a=10.5\n",
    "b=0.0\n",
    "a%b"
   ]
  },
  {
   "cell_type": "code",
   "execution_count": 35,
   "id": "f7973f5f-a19e-4d8c-a89d-6e61fba93565",
   "metadata": {},
   "outputs": [
    {
     "data": {
      "text/plain": [
       "-0.0"
      ]
     },
     "execution_count": 35,
     "metadata": {},
     "output_type": "execute_result"
    }
   ],
   "source": [
    "a=0.0\n",
    "b=-10.5\n",
    "a%b"
   ]
  },
  {
   "cell_type": "code",
   "execution_count": 37,
   "id": "0ccaf761-3493-4173-bdf3-abd1dc3363da",
   "metadata": {},
   "outputs": [
    {
     "data": {
      "text/plain": [
       "-5.0"
      ]
     },
     "execution_count": 37,
     "metadata": {},
     "output_type": "execute_result"
    }
   ],
   "source": [
    "a=5.5\n",
    "b=-10.5\n",
    "a%b"
   ]
  },
  {
   "cell_type": "code",
   "execution_count": 38,
   "id": "cbf60ad2-12ab-433f-a0fa-7f6393ca75f7",
   "metadata": {},
   "outputs": [
    {
     "data": {
      "text/plain": [
       "-0.0"
      ]
     },
     "execution_count": 38,
     "metadata": {},
     "output_type": "execute_result"
    }
   ],
   "source": [
    "a=10.5\n",
    "b=-10.5\n",
    "a%b"
   ]
  },
  {
   "cell_type": "code",
   "execution_count": 39,
   "id": "3a747405-abc3-4970-8093-4afefa1dc4cf",
   "metadata": {},
   "outputs": [
    {
     "data": {
      "text/plain": [
       "2.4180142453807785e-06"
      ]
     },
     "execution_count": 39,
     "metadata": {},
     "output_type": "execute_result"
    }
   ],
   "source": [
    "a=10.5\n",
    "b=-5.5\n",
    "a**b"
   ]
  },
  {
   "cell_type": "code",
   "execution_count": 40,
   "id": "ee7baaf1-a0de-4c94-a698-f69d6d2859c7",
   "metadata": {},
   "outputs": [
    {
     "data": {
      "text/plain": [
       "1.0"
      ]
     },
     "execution_count": 40,
     "metadata": {},
     "output_type": "execute_result"
    }
   ],
   "source": [
    "a=0.0\n",
    "b=0.0\n",
    "a**b"
   ]
  },
  {
   "cell_type": "code",
   "execution_count": 42,
   "id": "e0be2e5c-dd26-4159-bf65-c0a5a2a38e04",
   "metadata": {},
   "outputs": [
    {
     "data": {
      "text/plain": [
       "1.0"
      ]
     },
     "execution_count": 42,
     "metadata": {},
     "output_type": "execute_result"
    }
   ],
   "source": [
    "a=10.5\n",
    "b=0.0\n",
    "a**b"
   ]
  },
  {
   "cell_type": "code",
   "execution_count": 43,
   "id": "02eb5a19-c1a3-4fc6-b5c7-b9d389b66c24",
   "metadata": {},
   "outputs": [
    {
     "ename": "ZeroDivisionError",
     "evalue": "0.0 cannot be raised to a negative power",
     "output_type": "error",
     "traceback": [
      "\u001b[1;31m---------------------------------------------------------------------------\u001b[0m",
      "\u001b[1;31mZeroDivisionError\u001b[0m                         Traceback (most recent call last)",
      "Cell \u001b[1;32mIn[43], line 3\u001b[0m\n\u001b[0;32m      1\u001b[0m a\u001b[38;5;241m=\u001b[39m\u001b[38;5;241m0.0\u001b[39m\n\u001b[0;32m      2\u001b[0m b\u001b[38;5;241m=\u001b[39m\u001b[38;5;241m-\u001b[39m\u001b[38;5;241m10.5\u001b[39m\n\u001b[1;32m----> 3\u001b[0m \u001b[43ma\u001b[49m\u001b[38;5;241;43m*\u001b[39;49m\u001b[38;5;241;43m*\u001b[39;49m\u001b[43mb\u001b[49m\n",
      "\u001b[1;31mZeroDivisionError\u001b[0m: 0.0 cannot be raised to a negative power"
     ]
    }
   ],
   "source": [
    "a=0.0\n",
    "b=-10.5\n",
    "a**b"
   ]
  },
  {
   "cell_type": "code",
   "execution_count": 44,
   "id": "a943d989-0f91-42ec-8629-3baccdc14a4a",
   "metadata": {},
   "outputs": [
    {
     "data": {
      "text/plain": [
       "1.68341720048588e-08"
      ]
     },
     "execution_count": 44,
     "metadata": {},
     "output_type": "execute_result"
    }
   ],
   "source": [
    "a=5.5\n",
    "b=-10.5\n",
    "a**b"
   ]
  },
  {
   "cell_type": "code",
   "execution_count": 45,
   "id": "e26ced37-30f4-47f1-870f-e84ef56f7f65",
   "metadata": {},
   "outputs": [
    {
     "data": {
      "text/plain": [
       "1.894577432149325e-11"
      ]
     },
     "execution_count": 45,
     "metadata": {},
     "output_type": "execute_result"
    }
   ],
   "source": [
    "a=10.5\n",
    "b=-10.5\n",
    "a**b"
   ]
  },
  {
   "cell_type": "code",
   "execution_count": null,
   "id": "57dedb33-97ed-4450-891f-6d0410b5e9ef",
   "metadata": {},
   "outputs": [],
   "source": []
  }
 ],
 "metadata": {
  "kernelspec": {
   "display_name": "Python 3 (ipykernel)",
   "language": "python",
   "name": "python3"
  },
  "language_info": {
   "codemirror_mode": {
    "name": "ipython",
    "version": 3
   },
   "file_extension": ".py",
   "mimetype": "text/x-python",
   "name": "python",
   "nbconvert_exporter": "python",
   "pygments_lexer": "ipython3",
   "version": "3.13.1"
  }
 },
 "nbformat": 4,
 "nbformat_minor": 5
}
