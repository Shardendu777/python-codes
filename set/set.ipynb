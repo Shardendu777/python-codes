{
 "cells": [
  {
   "cell_type": "code",
   "execution_count": null,
   "id": "4aebd3e2-5ad4-4ace-a622-036fe17dbcbc",
   "metadata": {},
   "outputs": [],
   "source": [
    "INTEGER:"
   ]
  },
  {
   "cell_type": "code",
   "execution_count": null,
   "id": "4d3da259-40fa-47d7-a99f-16176eacab6f",
   "metadata": {},
   "outputs": [],
   "source": [
    "doing changes in the original variable and oberving the changes"
   ]
  },
  {
   "cell_type": "code",
   "execution_count": null,
   "id": "b0ea17f4-1cc7-4dc4-97be-195632b48583",
   "metadata": {},
   "outputs": [],
   "source": [
    "---------------------------"
   ]
  },
  {
   "cell_type": "code",
   "execution_count": null,
   "id": "f55984f1-3d76-44f3-bed1-a82332dc0056",
   "metadata": {},
   "outputs": [],
   "source": [
    "---------------------------"
   ]
  },
  {
   "cell_type": "code",
   "execution_count": 2,
   "id": "75f1ffda-437b-4d99-96cd-9689ba97b855",
   "metadata": {},
   "outputs": [
    {
     "name": "stdout",
     "output_type": "stream",
     "text": [
      "{1, 2, 3, 4}\n",
      "{1, 2, 3, 4}\n",
      "{1, 2, 3}\n"
     ]
    }
   ],
   "source": [
    "a={1,2,3}\n",
    "b=a\n",
    "c=a.copy()\n",
    "a.add(4)\n",
    "print(a)\n",
    "print(b)\n",
    "print(c)"
   ]
  },
  {
   "cell_type": "code",
   "execution_count": 4,
   "id": "1d28918d-fc86-4895-84fc-c3b8861fd1ad",
   "metadata": {},
   "outputs": [
    {
     "name": "stdout",
     "output_type": "stream",
     "text": [
      "{1, 2}\n",
      "{1, 2}\n",
      "{1, 2, 3}\n"
     ]
    }
   ],
   "source": [
    "a={1,2,3}\n",
    "b=a\n",
    "c=a.copy()\n",
    "a.remove(3)\n",
    "print(a)\n",
    "print(b)\n",
    "print(c)"
   ]
  },
  {
   "cell_type": "code",
   "execution_count": 5,
   "id": "55e3eb42-abaa-40ba-90ad-4070cdf83542",
   "metadata": {},
   "outputs": [
    {
     "name": "stdout",
     "output_type": "stream",
     "text": [
      "{1, 2}\n",
      "{1, 2}\n",
      "{1, 2, 3}\n"
     ]
    }
   ],
   "source": [
    "a={1,2,3}\n",
    "b=a\n",
    "c=a.copy()\n",
    "a.discard(3)\n",
    "print(a)\n",
    "print(b)\n",
    "print(c)"
   ]
  },
  {
   "cell_type": "code",
   "execution_count": 8,
   "id": "403e9959-8577-43b4-bce3-e70fcaef96d6",
   "metadata": {},
   "outputs": [
    {
     "name": "stdout",
     "output_type": "stream",
     "text": [
      "set()\n",
      "set()\n",
      "{1, 2, 3}\n"
     ]
    }
   ],
   "source": [
    "a={1,2,3}\n",
    "b=a\n",
    "c=a.copy()\n",
    "a.clear() #clear takes no arguement(TypeError)\n",
    "print(a)\n",
    "print(b)\n",
    "print(c)"
   ]
  },
  {
   "cell_type": "code",
   "execution_count": 16,
   "id": "37a149fd-c60f-47eb-82e3-86e210220e95",
   "metadata": {},
   "outputs": [
    {
     "name": "stdout",
     "output_type": "stream",
     "text": [
      "{1, 2, 3, 4}\n",
      "{1, 2, 3}\n"
     ]
    }
   ],
   "source": [
    "a={1,2,3}\n",
    "b=a\n",
    "c=a.copy()\n",
    "del a #the binding of a with objects assigned to it will deleted,and a will also b deleted,but the objects(set) i.e {1,2,3} will be there\n",
    "     #b will remsain in the memory\n",
    "print(b)\n",
    "print(c)"
   ]
  },
  {
   "cell_type": "code",
   "execution_count": 17,
   "id": "aa26da42-adc2-4562-a87c-e159901c697b",
   "metadata": {},
   "outputs": [
    {
     "name": "stdout",
     "output_type": "stream",
     "text": [
      "{1, 2, 3}\n",
      "{1, 2, 3}\n",
      "{1, 2, 3}\n"
     ]
    }
   ],
   "source": [
    "a={1,2,3}\n",
    "b=a\n",
    "c=a.copy()\n",
    "a.discard(4)\n",
    "print(a)\n",
    "print(b)\n",
    "print(c)"
   ]
  },
  {
   "cell_type": "code",
   "execution_count": 22,
   "id": "f1cfa5d1-2093-4f25-b8c8-40788abc4383",
   "metadata": {},
   "outputs": [
    {
     "ename": "KeyError",
     "evalue": "4",
     "output_type": "error",
     "traceback": [
      "\u001b[1;31m---------------------------------------------------------------------------\u001b[0m",
      "\u001b[1;31mKeyError\u001b[0m                                  Traceback (most recent call last)",
      "Cell \u001b[1;32mIn[22], line 4\u001b[0m\n\u001b[0;32m      2\u001b[0m b\u001b[38;5;241m=\u001b[39ma\n\u001b[0;32m      3\u001b[0m c\u001b[38;5;241m=\u001b[39ma\u001b[38;5;241m.\u001b[39mcopy()\n\u001b[1;32m----> 4\u001b[0m \u001b[43ma\u001b[49m\u001b[38;5;241;43m.\u001b[39;49m\u001b[43mremove\u001b[49m\u001b[43m(\u001b[49m\u001b[38;5;241;43m4\u001b[39;49m\u001b[43m)\u001b[49m\n\u001b[0;32m      5\u001b[0m \u001b[38;5;28mprint\u001b[39m(a)\n\u001b[0;32m      6\u001b[0m \u001b[38;5;28mprint\u001b[39m(b)\n",
      "\u001b[1;31mKeyError\u001b[0m: 4"
     ]
    }
   ],
   "source": [
    "a={1,2,3}\n",
    "b=a\n",
    "c=a.copy()\n",
    "a.remove(4)\n",
    "print(a)\n",
    "print(b)\n",
    "print(c)\n",
    "'''use discard if you're not sure whether the element is in the set and you want to avoid errors\n",
    "    and use remove if you want an error to be raised when the element is absent.'''"
   ]
  },
  {
   "cell_type": "code",
   "execution_count": 25,
   "id": "13634036-c239-4175-920a-1d0ab0983020",
   "metadata": {},
   "outputs": [
    {
     "name": "stdout",
     "output_type": "stream",
     "text": [
      "{2, 3}\n",
      "{2, 3}\n",
      "{1, 2, 3}\n"
     ]
    }
   ],
   "source": [
    "a={1,2,3}\n",
    "b=a\n",
    "c=a.copy()\n",
    "a.pop() #pop takes no arguement(TypeError)\n",
    "        #it will remove any random value becz sets are unordered\n",
    "print(a)\n",
    "print(b)\n",
    "print(c)"
   ]
  },
  {
   "cell_type": "code",
   "execution_count": 33,
   "id": "7410d346-1ae7-46ba-8451-da09135116d1",
   "metadata": {},
   "outputs": [
    {
     "name": "stdout",
     "output_type": "stream",
     "text": [
      "[2, 3]\n",
      "[2, 3]\n",
      "[1, 2, 3]\n"
     ]
    }
   ],
   "source": [
    "a=[1,2,3]\n",
    "b=a\n",
    "c=a.copy()\n",
    "a.pop(0) #in case of list it expects the index which you want to remove,more than one indexes will give TypeError\n",
    "          #if no arguements are given,it will remove the last value\n",
    "print(a) \n",
    "print(b)\n",
    "print(c)"
   ]
  },
  {
   "cell_type": "code",
   "execution_count": 36,
   "id": "5889320c-8435-473b-b3c4-852bfc771651",
   "metadata": {},
   "outputs": [
    {
     "ename": "AttributeError",
     "evalue": "'set' object has no attribute 'append'",
     "output_type": "error",
     "traceback": [
      "\u001b[1;31m---------------------------------------------------------------------------\u001b[0m",
      "\u001b[1;31mAttributeError\u001b[0m                            Traceback (most recent call last)",
      "Cell \u001b[1;32mIn[36], line 4\u001b[0m\n\u001b[0;32m      2\u001b[0m b\u001b[38;5;241m=\u001b[39ma\n\u001b[0;32m      3\u001b[0m c\u001b[38;5;241m=\u001b[39ma\u001b[38;5;241m.\u001b[39mcopy()\n\u001b[1;32m----> 4\u001b[0m \u001b[43ma\u001b[49m\u001b[38;5;241;43m.\u001b[39;49m\u001b[43mappend\u001b[49m(\u001b[38;5;241m4\u001b[39m) \u001b[38;5;66;03m#sets are unordered,therefore append method is not for sets,it will give AttributeError\u001b[39;00m\n\u001b[0;32m      5\u001b[0m \u001b[38;5;28mprint\u001b[39m(a)\n\u001b[0;32m      6\u001b[0m \u001b[38;5;28mprint\u001b[39m(b)\n",
      "\u001b[1;31mAttributeError\u001b[0m: 'set' object has no attribute 'append'"
     ]
    }
   ],
   "source": [
    "a={1,2,3}\n",
    "b=a\n",
    "c=a.copy()\n",
    "a.append(4) #sets are unordered,therefore append method is not for sets,it will give AttributeError\n",
    "print(a)\n",
    "print(b)\n",
    "print(c)"
   ]
  },
  {
   "cell_type": "code",
   "execution_count": 38,
   "id": "34a9f28d-f850-4ecc-8188-8c7aa2ba5672",
   "metadata": {},
   "outputs": [
    {
     "ename": "AttributeError",
     "evalue": "'set' object has no attribute 'extend'",
     "output_type": "error",
     "traceback": [
      "\u001b[1;31m---------------------------------------------------------------------------\u001b[0m",
      "\u001b[1;31mAttributeError\u001b[0m                            Traceback (most recent call last)",
      "Cell \u001b[1;32mIn[38], line 4\u001b[0m\n\u001b[0;32m      2\u001b[0m b\u001b[38;5;241m=\u001b[39ma\n\u001b[0;32m      3\u001b[0m c\u001b[38;5;241m=\u001b[39ma\u001b[38;5;241m.\u001b[39mcopy()\n\u001b[1;32m----> 4\u001b[0m \u001b[43ma\u001b[49m\u001b[38;5;241;43m.\u001b[39;49m\u001b[43mextend\u001b[49m(\u001b[38;5;241m4\u001b[39m,\u001b[38;5;241m5\u001b[39m) \u001b[38;5;66;03m#sets are unordered,therefore extend method is not for sets,it will give AttributeError\u001b[39;00m\n\u001b[0;32m      5\u001b[0m \u001b[38;5;28mprint\u001b[39m(a)\n\u001b[0;32m      6\u001b[0m \u001b[38;5;28mprint\u001b[39m(b)\n",
      "\u001b[1;31mAttributeError\u001b[0m: 'set' object has no attribute 'extend'"
     ]
    }
   ],
   "source": [
    "a={1,2,3}\n",
    "b=a\n",
    "c=a.copy()\n",
    "a.extend(4,5) #sets are unordered,therefore extend method is not for sets,it will give AttributeError\n",
    "print(a)\n",
    "print(b)\n",
    "print(c)"
   ]
  },
  {
   "cell_type": "code",
   "execution_count": null,
   "id": "c67b213d-5b19-4232-806b-890d3203df37",
   "metadata": {},
   "outputs": [],
   "source": [
    "-----------------------"
   ]
  },
  {
   "cell_type": "code",
   "execution_count": null,
   "id": "c82222cb-d761-4ac5-82e2-5e8d62bfffed",
   "metadata": {},
   "outputs": [],
   "source": [
    "-----------------------"
   ]
  },
  {
   "cell_type": "code",
   "execution_count": null,
   "id": "877e4295-9725-41a2-9e39-c98548e315a8",
   "metadata": {},
   "outputs": [],
   "source": [
    "Now doing changes in the assigned variable and observing the changes"
   ]
  },
  {
   "cell_type": "code",
   "execution_count": null,
   "id": "1690e913-87e5-4fd9-bc6f-89895fc37a39",
   "metadata": {},
   "outputs": [],
   "source": [
    "------------------"
   ]
  },
  {
   "cell_type": "code",
   "execution_count": null,
   "id": "fbd4f0a6-2769-4765-abe8-ebee7bdd7319",
   "metadata": {},
   "outputs": [],
   "source": [
    "------------------"
   ]
  },
  {
   "cell_type": "code",
   "execution_count": 40,
   "id": "bc97d48d-f4e1-4e2a-8221-72e49d37d215",
   "metadata": {},
   "outputs": [
    {
     "name": "stdout",
     "output_type": "stream",
     "text": [
      "{1, 2, 3, 4}\n",
      "{1, 2, 3, 4}\n",
      "{1, 2, 3}\n"
     ]
    }
   ],
   "source": [
    "a={1,2,3}\n",
    "b=a\n",
    "c=a.copy()\n",
    "b.add(4)\n",
    "print(a)\n",
    "print(b)\n",
    "print(c)"
   ]
  },
  {
   "cell_type": "code",
   "execution_count": 41,
   "id": "78ebe205-b71e-4217-a3a6-43afdee44825",
   "metadata": {},
   "outputs": [
    {
     "name": "stdout",
     "output_type": "stream",
     "text": [
      "{1, 2}\n",
      "{1, 2}\n",
      "{1, 2, 3}\n"
     ]
    }
   ],
   "source": [
    "a={1,2,3}\n",
    "b=a\n",
    "c=a.copy()\n",
    "b.remove(3)\n",
    "print(a)\n",
    "print(b)\n",
    "print(c)"
   ]
  },
  {
   "cell_type": "code",
   "execution_count": 45,
   "id": "0a8575cf-c6c5-46db-98b8-a85221e06094",
   "metadata": {},
   "outputs": [
    {
     "name": "stdout",
     "output_type": "stream",
     "text": [
      "set()\n",
      "set()\n",
      "{1, 2, 3}\n"
     ]
    }
   ],
   "source": [
    "a={1,2,3}\n",
    "b=a\n",
    "c=a.copy()\n",
    "b.clear() #clear takes no arguement(TypeError)\n",
    "print(a)\n",
    "print(b)\n",
    "print(c)"
   ]
  },
  {
   "cell_type": "code",
   "execution_count": 50,
   "id": "20af643f-9756-4095-ab6e-14baed02ed2b",
   "metadata": {},
   "outputs": [
    {
     "name": "stdout",
     "output_type": "stream",
     "text": [
      "{1, 2, 3}\n",
      "{1, 2, 3}\n"
     ]
    }
   ],
   "source": [
    "a={1,2,3}\n",
    "b=a\n",
    "c=a.copy()\n",
    "del b #the binding of a with objects assigned to it will deleted,and a will also b deleted,but the objects(set) i.e {1,2,3} will be there\n",
    " #b will remain in the memory\n",
    "print(a)\n",
    "print(c)"
   ]
  },
  {
   "cell_type": "code",
   "execution_count": 51,
   "id": "6b1b37a0-ea46-4e47-9cfa-aa0448665f2e",
   "metadata": {},
   "outputs": [
    {
     "name": "stdout",
     "output_type": "stream",
     "text": [
      "{1, 2, 3}\n",
      "{1, 2, 3}\n",
      "{1, 2, 3}\n"
     ]
    }
   ],
   "source": [
    "a={1,2,3}\n",
    "b=a\n",
    "c=a.copy()\n",
    "b.discard(4)\n",
    "print(a)\n",
    "print(b)\n",
    "print(c)"
   ]
  },
  {
   "cell_type": "code",
   "execution_count": 52,
   "id": "0f53ed3d-01fc-4f03-a34f-936637a90991",
   "metadata": {},
   "outputs": [
    {
     "ename": "KeyError",
     "evalue": "4",
     "output_type": "error",
     "traceback": [
      "\u001b[1;31m---------------------------------------------------------------------------\u001b[0m",
      "\u001b[1;31mKeyError\u001b[0m                                  Traceback (most recent call last)",
      "Cell \u001b[1;32mIn[52], line 4\u001b[0m\n\u001b[0;32m      2\u001b[0m b\u001b[38;5;241m=\u001b[39ma\n\u001b[0;32m      3\u001b[0m c\u001b[38;5;241m=\u001b[39ma\u001b[38;5;241m.\u001b[39mcopy()\n\u001b[1;32m----> 4\u001b[0m \u001b[43mb\u001b[49m\u001b[38;5;241;43m.\u001b[39;49m\u001b[43mremove\u001b[49m\u001b[43m(\u001b[49m\u001b[38;5;241;43m4\u001b[39;49m\u001b[43m)\u001b[49m\n\u001b[0;32m      5\u001b[0m \u001b[38;5;28mprint\u001b[39m(a)\n\u001b[0;32m      6\u001b[0m \u001b[38;5;28mprint\u001b[39m(b)\n",
      "\u001b[1;31mKeyError\u001b[0m: 4"
     ]
    }
   ],
   "source": [
    "a={1,2,3}\n",
    "b=a\n",
    "c=a.copy()\n",
    "b.remove(4)\n",
    "print(a)\n",
    "print(b)\n",
    "print(c)\n",
    "'''use discard if you're not sure whether the element is in the set and you want to avoid errors\n",
    "    and use remove if you want an error to be raised when the element is absent.'''"
   ]
  },
  {
   "cell_type": "code",
   "execution_count": 53,
   "id": "cf4f8a97-e6e1-414f-b3b8-6f8442128311",
   "metadata": {},
   "outputs": [
    {
     "name": "stdout",
     "output_type": "stream",
     "text": [
      "{2, 3}\n",
      "{2, 3}\n",
      "{1, 2, 3}\n"
     ]
    }
   ],
   "source": [
    "a={1,2,3}\n",
    "b=a\n",
    "c=a.copy()\n",
    "b.pop() #pop takes no arguement(TypeError)\n",
    "        #it will remove any random value becz sets are unordered\n",
    "print(a)\n",
    "print(b)\n",
    "print(c)"
   ]
  },
  {
   "cell_type": "code",
   "execution_count": 54,
   "id": "41cba17e-99d8-450e-8286-7c3f404e6553",
   "metadata": {},
   "outputs": [
    {
     "name": "stdout",
     "output_type": "stream",
     "text": [
      "[2, 3]\n",
      "[2, 3]\n",
      "[1, 2, 3]\n"
     ]
    }
   ],
   "source": [
    "a=[1,2,3]\n",
    "b=a\n",
    "c=a.copy()\n",
    "b.pop(0) #in case of list it expects the index which you want to remove,more than one indexes will give TypeError\n",
    "          #if no arguements are given,it will remove the last value\n",
    "print(a) \n",
    "print(b)\n",
    "print(c)"
   ]
  },
  {
   "cell_type": "code",
   "execution_count": 55,
   "id": "9d5233f5-2e69-4d69-9df8-5fea1e2f3749",
   "metadata": {},
   "outputs": [
    {
     "ename": "AttributeError",
     "evalue": "'set' object has no attribute 'append'",
     "output_type": "error",
     "traceback": [
      "\u001b[1;31m---------------------------------------------------------------------------\u001b[0m",
      "\u001b[1;31mAttributeError\u001b[0m                            Traceback (most recent call last)",
      "Cell \u001b[1;32mIn[55], line 4\u001b[0m\n\u001b[0;32m      2\u001b[0m b\u001b[38;5;241m=\u001b[39ma\n\u001b[0;32m      3\u001b[0m c\u001b[38;5;241m=\u001b[39ma\u001b[38;5;241m.\u001b[39mcopy()\n\u001b[1;32m----> 4\u001b[0m \u001b[43mb\u001b[49m\u001b[38;5;241;43m.\u001b[39;49m\u001b[43mappend\u001b[49m(\u001b[38;5;241m4\u001b[39m) \u001b[38;5;66;03m#sets are unordered,therefore append method is not for sets,it will give AttributeError\u001b[39;00m\n\u001b[0;32m      5\u001b[0m \u001b[38;5;28mprint\u001b[39m(a)\n\u001b[0;32m      6\u001b[0m \u001b[38;5;28mprint\u001b[39m(b)\n",
      "\u001b[1;31mAttributeError\u001b[0m: 'set' object has no attribute 'append'"
     ]
    }
   ],
   "source": [
    "a={1,2,3}\n",
    "b=a\n",
    "c=a.copy()\n",
    "b.append(4) #sets are unordered,therefore append method is not for sets,it will give AttributeError\n",
    "print(a)\n",
    "print(b)\n",
    "print(c)"
   ]
  },
  {
   "cell_type": "code",
   "execution_count": 56,
   "id": "040917d5-8a62-49a9-8efd-eb429145f70d",
   "metadata": {},
   "outputs": [
    {
     "ename": "AttributeError",
     "evalue": "'set' object has no attribute 'extend'",
     "output_type": "error",
     "traceback": [
      "\u001b[1;31m---------------------------------------------------------------------------\u001b[0m",
      "\u001b[1;31mAttributeError\u001b[0m                            Traceback (most recent call last)",
      "Cell \u001b[1;32mIn[56], line 4\u001b[0m\n\u001b[0;32m      2\u001b[0m b\u001b[38;5;241m=\u001b[39ma\n\u001b[0;32m      3\u001b[0m c\u001b[38;5;241m=\u001b[39ma\u001b[38;5;241m.\u001b[39mcopy()\n\u001b[1;32m----> 4\u001b[0m \u001b[43mb\u001b[49m\u001b[38;5;241;43m.\u001b[39;49m\u001b[43mextend\u001b[49m(\u001b[38;5;241m4\u001b[39m,\u001b[38;5;241m5\u001b[39m) \u001b[38;5;66;03m#sets are unordered,therefore extend method is not for sets,it will give AttributeError\u001b[39;00m\n\u001b[0;32m      5\u001b[0m \u001b[38;5;28mprint\u001b[39m(a)\n\u001b[0;32m      6\u001b[0m \u001b[38;5;28mprint\u001b[39m(b)\n",
      "\u001b[1;31mAttributeError\u001b[0m: 'set' object has no attribute 'extend'"
     ]
    }
   ],
   "source": [
    "a={1,2,3}\n",
    "b=a\n",
    "c=a.copy()\n",
    "b.extend(4,5) #sets are unordered,therefore extend method is not for sets,it will give AttributeError\n",
    "print(a)\n",
    "print(b)\n",
    "print(c)"
   ]
  },
  {
   "cell_type": "code",
   "execution_count": null,
   "id": "e9b8eb14-d083-4817-8df3-35316585a607",
   "metadata": {},
   "outputs": [],
   "source": [
    "----------------"
   ]
  },
  {
   "cell_type": "code",
   "execution_count": null,
   "id": "d70baf9f-e9ed-4745-b98a-f616e14e2eef",
   "metadata": {},
   "outputs": [],
   "source": [
    "----------------"
   ]
  },
  {
   "cell_type": "code",
   "execution_count": null,
   "id": "c3419bb2-e81f-4e5b-bfba-41814ad7b9ff",
   "metadata": {},
   "outputs": [],
   "source": [
    "----------------"
   ]
  },
  {
   "cell_type": "code",
   "execution_count": null,
   "id": "d4c6823d-bae4-4dcc-9c9f-a2fb96dd367f",
   "metadata": {},
   "outputs": [],
   "source": [
    "Now doing changes in the copied variable and observing the changes"
   ]
  },
  {
   "cell_type": "code",
   "execution_count": null,
   "id": "eb4395ba-5068-412d-affb-a2c82c3f4324",
   "metadata": {},
   "outputs": [],
   "source": [
    "----------------"
   ]
  },
  {
   "cell_type": "code",
   "execution_count": null,
   "id": "8696cbbc-ab92-4d38-8292-234d5816a5f8",
   "metadata": {},
   "outputs": [],
   "source": [
    "----------------"
   ]
  },
  {
   "cell_type": "code",
   "execution_count": null,
   "id": "a4141df3-a19d-4546-acc6-17abe0b729cf",
   "metadata": {},
   "outputs": [],
   "source": [
    "----------------"
   ]
  },
  {
   "cell_type": "code",
   "execution_count": 57,
   "id": "30fd633f-9f37-4cf8-a41f-60a56dce5913",
   "metadata": {},
   "outputs": [
    {
     "name": "stdout",
     "output_type": "stream",
     "text": [
      "{1, 2, 3}\n",
      "{1, 2, 3}\n",
      "{1, 2, 3, 4}\n"
     ]
    }
   ],
   "source": [
    "a={1,2,3}\n",
    "b=a\n",
    "c=a.copy()\n",
    "c.add(4)\n",
    "print(a)\n",
    "print(b)\n",
    "print(c)"
   ]
  },
  {
   "cell_type": "code",
   "execution_count": 58,
   "id": "a814dc50-a888-4a10-87d1-6c8a3fc177f4",
   "metadata": {},
   "outputs": [
    {
     "name": "stdout",
     "output_type": "stream",
     "text": [
      "{1, 2, 3}\n",
      "{1, 2, 3}\n",
      "{1, 2}\n"
     ]
    }
   ],
   "source": [
    "a={1,2,3}\n",
    "b=a\n",
    "c=a.copy()\n",
    "c.remove(3)\n",
    "print(a)\n",
    "print(b)\n",
    "print(c)"
   ]
  },
  {
   "cell_type": "code",
   "execution_count": 60,
   "id": "ee0d46e7-d544-452d-a0d9-666ccac86eb6",
   "metadata": {},
   "outputs": [
    {
     "name": "stdout",
     "output_type": "stream",
     "text": [
      "{1, 2, 3}\n",
      "{1, 2, 3}\n",
      "set()\n"
     ]
    }
   ],
   "source": [
    "a={1,2,3}\n",
    "b=a\n",
    "c=a.copy()\n",
    "c.clear() #clear takes no arguement(TypeError)\n",
    "print(a)\n",
    "print(b)\n",
    "print(c)"
   ]
  },
  {
   "cell_type": "code",
   "execution_count": 62,
   "id": "932bf1f6-881e-4dc5-8de5-c3eb981c960b",
   "metadata": {},
   "outputs": [
    {
     "name": "stdout",
     "output_type": "stream",
     "text": [
      "{1, 2, 3}\n",
      "{1, 2, 3}\n"
     ]
    }
   ],
   "source": [
    "a={1,2,3}\n",
    "b=a\n",
    "c=a.copy()\n",
    "del c #the binding of a with objects assigned to it will deleted,and a will also b deleted,but the objects(set) i.e {1,2,3} will be there\n",
    " #b will remain in the memory\n",
    "print(a)\n",
    "print(b)"
   ]
  },
  {
   "cell_type": "code",
   "execution_count": 63,
   "id": "298673e0-b44e-46a3-825d-014e2b37f8cd",
   "metadata": {},
   "outputs": [
    {
     "name": "stdout",
     "output_type": "stream",
     "text": [
      "{1, 2, 3}\n",
      "{1, 2, 3}\n",
      "{1, 2, 3}\n"
     ]
    }
   ],
   "source": [
    "a={1,2,3}\n",
    "b=a\n",
    "c=a.copy()\n",
    "c.discard(4)\n",
    "print(a)\n",
    "print(b)\n",
    "print(c)"
   ]
  },
  {
   "cell_type": "code",
   "execution_count": 64,
   "id": "3091dd05-c427-4dae-aa0b-1b47eb188082",
   "metadata": {},
   "outputs": [
    {
     "ename": "KeyError",
     "evalue": "4",
     "output_type": "error",
     "traceback": [
      "\u001b[1;31m---------------------------------------------------------------------------\u001b[0m",
      "\u001b[1;31mKeyError\u001b[0m                                  Traceback (most recent call last)",
      "Cell \u001b[1;32mIn[64], line 4\u001b[0m\n\u001b[0;32m      2\u001b[0m b\u001b[38;5;241m=\u001b[39ma\n\u001b[0;32m      3\u001b[0m c\u001b[38;5;241m=\u001b[39ma\u001b[38;5;241m.\u001b[39mcopy()\n\u001b[1;32m----> 4\u001b[0m \u001b[43mc\u001b[49m\u001b[38;5;241;43m.\u001b[39;49m\u001b[43mremove\u001b[49m\u001b[43m(\u001b[49m\u001b[38;5;241;43m4\u001b[39;49m\u001b[43m)\u001b[49m\n\u001b[0;32m      5\u001b[0m \u001b[38;5;28mprint\u001b[39m(a)\n\u001b[0;32m      6\u001b[0m \u001b[38;5;28mprint\u001b[39m(b)\n",
      "\u001b[1;31mKeyError\u001b[0m: 4"
     ]
    }
   ],
   "source": [
    "a={1,2,3}\n",
    "b=a\n",
    "c=a.copy()\n",
    "c.remove(4)\n",
    "print(a)\n",
    "print(b)\n",
    "print(c)\n",
    "'''use discard if you're not sure whether the element is in the set and you want to avoid errors\n",
    "    and use remove if you want an error to be raised when the element is absent.'''"
   ]
  },
  {
   "cell_type": "code",
   "execution_count": 65,
   "id": "4d99bdc5-0140-4b66-9dc6-b73c037b7511",
   "metadata": {},
   "outputs": [
    {
     "name": "stdout",
     "output_type": "stream",
     "text": [
      "{1, 2, 3}\n",
      "{1, 2, 3}\n",
      "{2, 3}\n"
     ]
    }
   ],
   "source": [
    "a={1,2,3}\n",
    "b=a\n",
    "c=a.copy()\n",
    "c.pop() #pop takes no arguement(TypeError)\n",
    "        #it will remove any random value becz sets are unordered\n",
    "print(a)\n",
    "print(b)\n",
    "print(c)"
   ]
  },
  {
   "cell_type": "code",
   "execution_count": 66,
   "id": "6071b8f8-5933-4268-89f8-3babd77bff51",
   "metadata": {},
   "outputs": [
    {
     "name": "stdout",
     "output_type": "stream",
     "text": [
      "[1, 2, 3]\n",
      "[1, 2, 3]\n",
      "[2, 3]\n"
     ]
    }
   ],
   "source": [
    "a=[1,2,3]\n",
    "b=a\n",
    "c=a.copy()\n",
    "c.pop(0) #in case of list it expects the index which you want to remove,more than one indexes will give TypeError\n",
    "          #if no arguements are given,it will remove the last value\n",
    "print(a) \n",
    "print(b)\n",
    "print(c)"
   ]
  },
  {
   "cell_type": "code",
   "execution_count": 67,
   "id": "35cd6a6e-1dca-4807-8f3a-7c48be79c405",
   "metadata": {},
   "outputs": [
    {
     "ename": "AttributeError",
     "evalue": "'set' object has no attribute 'append'",
     "output_type": "error",
     "traceback": [
      "\u001b[1;31m---------------------------------------------------------------------------\u001b[0m",
      "\u001b[1;31mAttributeError\u001b[0m                            Traceback (most recent call last)",
      "Cell \u001b[1;32mIn[67], line 4\u001b[0m\n\u001b[0;32m      2\u001b[0m b\u001b[38;5;241m=\u001b[39ma\n\u001b[0;32m      3\u001b[0m c\u001b[38;5;241m=\u001b[39ma\u001b[38;5;241m.\u001b[39mcopy()\n\u001b[1;32m----> 4\u001b[0m \u001b[43mc\u001b[49m\u001b[38;5;241;43m.\u001b[39;49m\u001b[43mappend\u001b[49m(\u001b[38;5;241m4\u001b[39m) \u001b[38;5;66;03m#sets are unordered,therefore append method is not for sets,it will give AttributeError\u001b[39;00m\n\u001b[0;32m      5\u001b[0m \u001b[38;5;28mprint\u001b[39m(a)\n\u001b[0;32m      6\u001b[0m \u001b[38;5;28mprint\u001b[39m(b)\n",
      "\u001b[1;31mAttributeError\u001b[0m: 'set' object has no attribute 'append'"
     ]
    }
   ],
   "source": [
    "a={1,2,3}\n",
    "b=a\n",
    "c=a.copy()\n",
    "c.append(4) #sets are unordered,therefore append method is not for sets,it will give AttributeError\n",
    "print(a)\n",
    "print(b)\n",
    "print(c)"
   ]
  },
  {
   "cell_type": "code",
   "execution_count": 68,
   "id": "6384b9fa-f6b7-40f6-84a6-e209911534f7",
   "metadata": {},
   "outputs": [
    {
     "ename": "AttributeError",
     "evalue": "'set' object has no attribute 'extend'",
     "output_type": "error",
     "traceback": [
      "\u001b[1;31m---------------------------------------------------------------------------\u001b[0m",
      "\u001b[1;31mAttributeError\u001b[0m                            Traceback (most recent call last)",
      "Cell \u001b[1;32mIn[68], line 4\u001b[0m\n\u001b[0;32m      2\u001b[0m b\u001b[38;5;241m=\u001b[39ma\n\u001b[0;32m      3\u001b[0m c\u001b[38;5;241m=\u001b[39ma\u001b[38;5;241m.\u001b[39mcopy()\n\u001b[1;32m----> 4\u001b[0m \u001b[43mc\u001b[49m\u001b[38;5;241;43m.\u001b[39;49m\u001b[43mextend\u001b[49m(\u001b[38;5;241m4\u001b[39m,\u001b[38;5;241m5\u001b[39m) \u001b[38;5;66;03m#sets are unordered,therefore extend method is not for sets,it will give AttributeError\u001b[39;00m\n\u001b[0;32m      5\u001b[0m \u001b[38;5;28mprint\u001b[39m(a)\n\u001b[0;32m      6\u001b[0m \u001b[38;5;28mprint\u001b[39m(b)\n",
      "\u001b[1;31mAttributeError\u001b[0m: 'set' object has no attribute 'extend'"
     ]
    }
   ],
   "source": [
    "a={1,2,3}\n",
    "b=a\n",
    "c=a.copy()\n",
    "c.extend(4,5) #sets are unordered,therefore extend method is not for sets,it will give AttributeError\n",
    "print(a)\n",
    "print(b)\n",
    "print(c)"
   ]
  },
  {
   "cell_type": "code",
   "execution_count": null,
   "id": "b243e07c-416e-4a3f-b924-3b541d434357",
   "metadata": {},
   "outputs": [],
   "source": [
    "////////////////////////"
   ]
  },
  {
   "cell_type": "code",
   "execution_count": null,
   "id": "3fded23c-aa9c-4789-9b46-4333c7ddd4e4",
   "metadata": {},
   "outputs": [],
   "source": [
    "///////////////////////"
   ]
  },
  {
   "cell_type": "code",
   "execution_count": null,
   "id": "e6d4b911-4172-48d2-9e40-8290752d2a60",
   "metadata": {},
   "outputs": [],
   "source": [
    "///////////////////////"
   ]
  },
  {
   "cell_type": "code",
   "execution_count": null,
   "id": "71a22bd8-9ddc-4913-b987-94a1ca9c3473",
   "metadata": {},
   "outputs": [],
   "source": [
    "FLOAT:"
   ]
  },
  {
   "cell_type": "code",
   "execution_count": null,
   "id": "225fad8b-16dd-481d-abe9-e46c105ae505",
   "metadata": {},
   "outputs": [],
   "source": [
    "doing changes in the original variable and oberving the changes"
   ]
  },
  {
   "cell_type": "code",
   "execution_count": 70,
   "id": "e0f50e61-1ee8-4c85-8ad0-74befe702b61",
   "metadata": {},
   "outputs": [
    {
     "name": "stdout",
     "output_type": "stream",
     "text": [
      "{1.5, 2.5, 3.5, 4.5}\n",
      "{1.5, 2.5, 3.5, 4.5}\n",
      "{1.5, 2.5, 3.5}\n"
     ]
    }
   ],
   "source": [
    "a={1.5,2.5,3.5}\n",
    "b=a\n",
    "c=a.copy()\n",
    "a.add(4.5)\n",
    "print(a)\n",
    "print(b)\n",
    "print(c)"
   ]
  },
  {
   "cell_type": "code",
   "execution_count": 71,
   "id": "b51cf68c-6059-4651-bb76-5736106433ff",
   "metadata": {},
   "outputs": [
    {
     "name": "stdout",
     "output_type": "stream",
     "text": [
      "{1.5, 2.5}\n",
      "{1.5, 2.5}\n",
      "{1.5, 2.5, 3.5}\n"
     ]
    }
   ],
   "source": [
    "a={1.5,2.5,3.5}\n",
    "b=a\n",
    "c=a.copy()\n",
    "a.remove(3.5)\n",
    "print(a)\n",
    "print(b)\n",
    "print(c)"
   ]
  },
  {
   "cell_type": "code",
   "execution_count": 72,
   "id": "92665684-0ce6-4bcb-b731-594f59c645f6",
   "metadata": {},
   "outputs": [
    {
     "name": "stdout",
     "output_type": "stream",
     "text": [
      "{1.5, 2.5}\n",
      "{1.5, 2.5}\n",
      "{1.5, 2.5, 3.5}\n"
     ]
    }
   ],
   "source": [
    "a={1.5,2.5,3.5}\n",
    "b=a\n",
    "c=a.copy()\n",
    "a.discard(3.5)\n",
    "print(a)\n",
    "print(b)\n",
    "print(c)"
   ]
  },
  {
   "cell_type": "code",
   "execution_count": 73,
   "id": "42e3e9ff-4a61-40c9-801e-0d71c4a6e59a",
   "metadata": {},
   "outputs": [
    {
     "name": "stdout",
     "output_type": "stream",
     "text": [
      "set()\n",
      "set()\n",
      "{1.5, 2.5, 3.5}\n"
     ]
    }
   ],
   "source": [
    "a={1.5,2.5,3.5}\n",
    "b=a\n",
    "c=a.copy()\n",
    "a.clear() #clear takes no arguement(TypeError)\n",
    "print(a)\n",
    "print(b)\n",
    "print(c)"
   ]
  },
  {
   "cell_type": "code",
   "execution_count": 74,
   "id": "7fed8333-2277-48d1-b515-c783acf0e469",
   "metadata": {},
   "outputs": [
    {
     "name": "stdout",
     "output_type": "stream",
     "text": [
      "{1.5, 2.5, 3.5}\n",
      "{1.5, 2.5, 3.5}\n"
     ]
    }
   ],
   "source": [
    "a={1.5,2.5,3.5}\n",
    "b=a\n",
    "c=a.copy()\n",
    "del a #the binding of a with objects assigned to it will deleted,and a will also b deleted,but the objects(set) i.e {1,2,3} will be there\n",
    "     #b will remain in the memory\n",
    "print(b)\n",
    "print(c)"
   ]
  },
  {
   "cell_type": "code",
   "execution_count": 75,
   "id": "b91e6bfc-1c43-40df-b463-f43c718bc682",
   "metadata": {},
   "outputs": [
    {
     "name": "stdout",
     "output_type": "stream",
     "text": [
      "{1.5, 2.5, 3.5}\n",
      "{1.5, 2.5, 3.5}\n",
      "{1.5, 2.5, 3.5}\n"
     ]
    }
   ],
   "source": [
    "a={1.5,2.5,3.5}\n",
    "b=a\n",
    "c=a.copy()\n",
    "a.discard(4.5)\n",
    "print(a)\n",
    "print(b)\n",
    "print(c)"
   ]
  },
  {
   "cell_type": "code",
   "execution_count": 76,
   "id": "91f6e2e1-f8b3-4dd6-99f4-65254b6eedbc",
   "metadata": {},
   "outputs": [
    {
     "ename": "KeyError",
     "evalue": "4.5",
     "output_type": "error",
     "traceback": [
      "\u001b[1;31m---------------------------------------------------------------------------\u001b[0m",
      "\u001b[1;31mKeyError\u001b[0m                                  Traceback (most recent call last)",
      "Cell \u001b[1;32mIn[76], line 4\u001b[0m\n\u001b[0;32m      2\u001b[0m b\u001b[38;5;241m=\u001b[39ma\n\u001b[0;32m      3\u001b[0m c\u001b[38;5;241m=\u001b[39ma\u001b[38;5;241m.\u001b[39mcopy()\n\u001b[1;32m----> 4\u001b[0m \u001b[43ma\u001b[49m\u001b[38;5;241;43m.\u001b[39;49m\u001b[43mremove\u001b[49m\u001b[43m(\u001b[49m\u001b[38;5;241;43m4.5\u001b[39;49m\u001b[43m)\u001b[49m\n\u001b[0;32m      5\u001b[0m \u001b[38;5;28mprint\u001b[39m(a)\n\u001b[0;32m      6\u001b[0m \u001b[38;5;28mprint\u001b[39m(b)\n",
      "\u001b[1;31mKeyError\u001b[0m: 4.5"
     ]
    }
   ],
   "source": [
    "a={1.5,2.5,3.5}\n",
    "b=a\n",
    "c=a.copy()\n",
    "a.remove(4.5)\n",
    "print(a)\n",
    "print(b)\n",
    "print(c)\n",
    "'''use discard if you're not sure whether the element is in the set and you want to avoid errors\n",
    "    and use remove if you want an error to be raised when the element is absent.'''"
   ]
  },
  {
   "cell_type": "code",
   "execution_count": 77,
   "id": "bb597286-3d7d-47fd-956d-70ec626f0fd4",
   "metadata": {},
   "outputs": [
    {
     "name": "stdout",
     "output_type": "stream",
     "text": [
      "{2.5, 3.5}\n",
      "{2.5, 3.5}\n",
      "{1.5, 2.5, 3.5}\n"
     ]
    }
   ],
   "source": [
    "a={1.5,2.5,3.5}\n",
    "b=a\n",
    "c=a.copy()\n",
    "a.pop() #pop takes no arguement(TypeError)\n",
    "        #it will remove any random value becz sets are unordered\n",
    "print(a)\n",
    "print(b)\n",
    "print(c)"
   ]
  },
  {
   "cell_type": "code",
   "execution_count": 78,
   "id": "d2ccf6a1-3605-4c1e-9c4b-1d26ed6e192a",
   "metadata": {},
   "outputs": [
    {
     "name": "stdout",
     "output_type": "stream",
     "text": [
      "[2.5, 3.5]\n",
      "[2.5, 3.5]\n",
      "[1.5, 2.5, 3.5]\n"
     ]
    }
   ],
   "source": [
    "a=[1.5,2.5,3.5]\n",
    "b=a\n",
    "c=a.copy()\n",
    "a.pop(0) #in case of list it expects the index which you want to remove,more than one indexes will give TypeError\n",
    "          #if no arguements are given,it will remove the last value\n",
    "print(a) \n",
    "print(b)\n",
    "print(c)"
   ]
  },
  {
   "cell_type": "code",
   "execution_count": 90,
   "id": "c788ce48-d3fb-4119-bd70-5eb28f14033c",
   "metadata": {},
   "outputs": [
    {
     "ename": "AttributeError",
     "evalue": "'set' object has no attribute 'append'",
     "output_type": "error",
     "traceback": [
      "\u001b[1;31m---------------------------------------------------------------------------\u001b[0m",
      "\u001b[1;31mAttributeError\u001b[0m                            Traceback (most recent call last)",
      "Cell \u001b[1;32mIn[90], line 4\u001b[0m\n\u001b[0;32m      2\u001b[0m b\u001b[38;5;241m=\u001b[39ma\n\u001b[0;32m      3\u001b[0m c\u001b[38;5;241m=\u001b[39ma\u001b[38;5;241m.\u001b[39mcopy()\n\u001b[1;32m----> 4\u001b[0m \u001b[43ma\u001b[49m\u001b[38;5;241;43m.\u001b[39;49m\u001b[43mappend\u001b[49m(\u001b[38;5;241m4.5\u001b[39m) \u001b[38;5;66;03m#sets are unordered,therefore append method is not for sets,it will give AttributeError\u001b[39;00m\n\u001b[0;32m      5\u001b[0m \u001b[38;5;28mprint\u001b[39m(a)\n\u001b[0;32m      6\u001b[0m \u001b[38;5;28mprint\u001b[39m(b)\n",
      "\u001b[1;31mAttributeError\u001b[0m: 'set' object has no attribute 'append'"
     ]
    }
   ],
   "source": [
    "a={1.5,2.5,3.5}\n",
    "b=a\n",
    "c=a.copy()\n",
    "a.append(4.5) #sets are unordered,therefore append method is not for sets,it will give AttributeError\n",
    "print(a)\n",
    "print(b)\n",
    "print(c)"
   ]
  },
  {
   "cell_type": "code",
   "execution_count": 80,
   "id": "0eb86697-eb6e-46c1-95e2-c65a6d96fba6",
   "metadata": {},
   "outputs": [
    {
     "ename": "AttributeError",
     "evalue": "'set' object has no attribute 'extend'",
     "output_type": "error",
     "traceback": [
      "\u001b[1;31m---------------------------------------------------------------------------\u001b[0m",
      "\u001b[1;31mAttributeError\u001b[0m                            Traceback (most recent call last)",
      "Cell \u001b[1;32mIn[80], line 4\u001b[0m\n\u001b[0;32m      2\u001b[0m b\u001b[38;5;241m=\u001b[39ma\n\u001b[0;32m      3\u001b[0m c\u001b[38;5;241m=\u001b[39ma\u001b[38;5;241m.\u001b[39mcopy()\n\u001b[1;32m----> 4\u001b[0m \u001b[43ma\u001b[49m\u001b[38;5;241;43m.\u001b[39;49m\u001b[43mextend\u001b[49m(\u001b[38;5;241m4.5\u001b[39m,\u001b[38;5;241m5.5\u001b[39m) \u001b[38;5;66;03m#sets are unordered,therefore extend method is not for sets,it will give AttributeError\u001b[39;00m\n\u001b[0;32m      5\u001b[0m \u001b[38;5;28mprint\u001b[39m(a)\n\u001b[0;32m      6\u001b[0m \u001b[38;5;28mprint\u001b[39m(b)\n",
      "\u001b[1;31mAttributeError\u001b[0m: 'set' object has no attribute 'extend'"
     ]
    }
   ],
   "source": [
    "a={1.5,2.5,3.5}\n",
    "b=a\n",
    "c=a.copy()\n",
    "a.extend(4.5,5.5) #sets are unordered,therefore extend method is not for sets,it will give AttributeError\n",
    "print(a)\n",
    "print(b)\n",
    "print(c)"
   ]
  },
  {
   "cell_type": "code",
   "execution_count": null,
   "id": "5eb5759b-3596-4736-9ec6-d7ad4b8ec2e1",
   "metadata": {},
   "outputs": [],
   "source": [
    "-----------------"
   ]
  },
  {
   "cell_type": "code",
   "execution_count": null,
   "id": "94575d40-fa96-4fee-b564-73c0e535769c",
   "metadata": {},
   "outputs": [],
   "source": [
    "-----------------"
   ]
  },
  {
   "cell_type": "code",
   "execution_count": null,
   "id": "3c214623-ee72-47f3-bc70-69a13fa420e4",
   "metadata": {},
   "outputs": [],
   "source": [
    "-----------------"
   ]
  },
  {
   "cell_type": "code",
   "execution_count": null,
   "id": "867b610f-c6aa-4ee5-9d04-c869ef44d8ce",
   "metadata": {},
   "outputs": [],
   "source": [
    "Now doing changes in the assigned variable and observing the changes"
   ]
  },
  {
   "cell_type": "code",
   "execution_count": null,
   "id": "597738f3-7c98-4d38-91ce-1d4b390180b7",
   "metadata": {},
   "outputs": [],
   "source": [
    "-----------------"
   ]
  },
  {
   "cell_type": "code",
   "execution_count": null,
   "id": "bc5d820d-c723-438d-9703-e0f6cc5528d3",
   "metadata": {},
   "outputs": [],
   "source": [
    "-----------------"
   ]
  },
  {
   "cell_type": "code",
   "execution_count": null,
   "id": "828c3ab0-919e-4121-adf1-2182949086a9",
   "metadata": {},
   "outputs": [],
   "source": [
    "-----------------"
   ]
  },
  {
   "cell_type": "code",
   "execution_count": 81,
   "id": "6e93e804-7a31-4d98-b515-dd52d18a61e3",
   "metadata": {},
   "outputs": [
    {
     "name": "stdout",
     "output_type": "stream",
     "text": [
      "{1.5, 2.5, 3.5, 4.5}\n",
      "{1.5, 2.5, 3.5, 4.5}\n",
      "{1.5, 2.5, 3.5}\n"
     ]
    }
   ],
   "source": [
    "a={1.5,2.5,3.5}\n",
    "b=a\n",
    "c=a.copy()\n",
    "b.add(4.5)\n",
    "print(a)\n",
    "print(b)\n",
    "print(c)"
   ]
  },
  {
   "cell_type": "code",
   "execution_count": 82,
   "id": "07ecd1e4-7f56-4c4b-98b0-2e03e7e4dd38",
   "metadata": {},
   "outputs": [
    {
     "name": "stdout",
     "output_type": "stream",
     "text": [
      "{1.5, 2.5}\n",
      "{1.5, 2.5}\n",
      "{1.5, 2.5, 3.5}\n"
     ]
    }
   ],
   "source": [
    "a={1.5,2.5,3.5}\n",
    "b=a\n",
    "c=a.copy()\n",
    "a.remove(3.5)\n",
    "print(a)\n",
    "print(b)\n",
    "print(c)"
   ]
  },
  {
   "cell_type": "code",
   "execution_count": 83,
   "id": "823397e5-0ec9-4ca5-9e7e-4a47a52a8686",
   "metadata": {},
   "outputs": [
    {
     "name": "stdout",
     "output_type": "stream",
     "text": [
      "{1.5, 2.5}\n",
      "{1.5, 2.5}\n",
      "{1.5, 2.5, 3.5}\n"
     ]
    }
   ],
   "source": [
    "a={1.5,2.5,3.5}\n",
    "b=a\n",
    "c=a.copy()\n",
    "b.discard(3.5)\n",
    "print(a)\n",
    "print(b)\n",
    "print(c)"
   ]
  },
  {
   "cell_type": "code",
   "execution_count": 84,
   "id": "76963f3e-56a9-40b9-ac51-a66c92ccbbe9",
   "metadata": {},
   "outputs": [
    {
     "name": "stdout",
     "output_type": "stream",
     "text": [
      "set()\n",
      "set()\n",
      "{1.5, 2.5, 3.5}\n"
     ]
    }
   ],
   "source": [
    "a={1.5,2.5,3.5}\n",
    "b=a\n",
    "c=a.copy()\n",
    "b.clear() #clear takes no arguement(TypeError)\n",
    "print(a)\n",
    "print(b)\n",
    "print(c)"
   ]
  },
  {
   "cell_type": "code",
   "execution_count": 85,
   "id": "00f4aac2-ba68-4510-b276-e24a1849d9e4",
   "metadata": {},
   "outputs": [
    {
     "name": "stdout",
     "output_type": "stream",
     "text": [
      "{1.5, 2.5, 3.5}\n",
      "{1.5, 2.5, 3.5}\n"
     ]
    }
   ],
   "source": [
    "a={1.5,2.5,3.5}\n",
    "b=a\n",
    "c=a.copy()\n",
    "del b #the binding of a with objects assigned to it will deleted,and a will also b deleted,but the objects(set) i.e {1,2,3} will be there\n",
    "     #b will remain in the memory\n",
    "print(a)\n",
    "print(c)"
   ]
  },
  {
   "cell_type": "code",
   "execution_count": 86,
   "id": "737aa57e-d858-4329-93e6-815b18899512",
   "metadata": {},
   "outputs": [
    {
     "name": "stdout",
     "output_type": "stream",
     "text": [
      "{1.5, 2.5, 3.5}\n",
      "{1.5, 2.5, 3.5}\n",
      "{1.5, 2.5, 3.5}\n"
     ]
    }
   ],
   "source": [
    "a={1.5,2.5,3.5}\n",
    "b=a\n",
    "c=a.copy()\n",
    "b.discard(4.5)\n",
    "print(a)\n",
    "print(b)\n",
    "print(c)"
   ]
  },
  {
   "cell_type": "code",
   "execution_count": 87,
   "id": "4e11ff7f-b0ab-4b71-88b4-8eab731a07f6",
   "metadata": {},
   "outputs": [
    {
     "ename": "KeyError",
     "evalue": "4.5",
     "output_type": "error",
     "traceback": [
      "\u001b[1;31m---------------------------------------------------------------------------\u001b[0m",
      "\u001b[1;31mKeyError\u001b[0m                                  Traceback (most recent call last)",
      "Cell \u001b[1;32mIn[87], line 4\u001b[0m\n\u001b[0;32m      2\u001b[0m b\u001b[38;5;241m=\u001b[39ma\n\u001b[0;32m      3\u001b[0m c\u001b[38;5;241m=\u001b[39ma\u001b[38;5;241m.\u001b[39mcopy()\n\u001b[1;32m----> 4\u001b[0m \u001b[43mb\u001b[49m\u001b[38;5;241;43m.\u001b[39;49m\u001b[43mremove\u001b[49m\u001b[43m(\u001b[49m\u001b[38;5;241;43m4.5\u001b[39;49m\u001b[43m)\u001b[49m\n\u001b[0;32m      5\u001b[0m \u001b[38;5;28mprint\u001b[39m(a)\n\u001b[0;32m      6\u001b[0m \u001b[38;5;28mprint\u001b[39m(b)\n",
      "\u001b[1;31mKeyError\u001b[0m: 4.5"
     ]
    }
   ],
   "source": [
    "a={1.5,2.5,3.5}\n",
    "b=a\n",
    "c=a.copy()\n",
    "b.remove(4.5)\n",
    "print(a)\n",
    "print(b)\n",
    "print(c)\n",
    "'''use discard if you're not sure whether the element is in the set and you want to avoid errors\n",
    "    and use remove if you want an error to be raised when the element is absent.'''"
   ]
  },
  {
   "cell_type": "code",
   "execution_count": 88,
   "id": "1032baeb-932b-4dee-a764-d798c9982d51",
   "metadata": {},
   "outputs": [
    {
     "name": "stdout",
     "output_type": "stream",
     "text": [
      "{2.5, 3.5}\n",
      "{2.5, 3.5}\n",
      "{1.5, 2.5, 3.5}\n"
     ]
    }
   ],
   "source": [
    "a={1.5,2.5,3.5}\n",
    "b=a\n",
    "c=a.copy()\n",
    "b.pop() #pop takes no arguement(TypeError)\n",
    "        #it will remove any random value becz sets are unordered\n",
    "print(a)\n",
    "print(b)\n",
    "print(c)"
   ]
  },
  {
   "cell_type": "code",
   "execution_count": 89,
   "id": "c26517e5-63e1-4f5d-8b4f-22d8d3a48701",
   "metadata": {},
   "outputs": [
    {
     "name": "stdout",
     "output_type": "stream",
     "text": [
      "[2.5, 3.5]\n",
      "[2.5, 3.5]\n",
      "[1.5, 2.5, 3.5]\n"
     ]
    }
   ],
   "source": [
    "a=[1.5,2.5,3.5]\n",
    "b=a\n",
    "c=a.copy()\n",
    "b.pop(0) #in case of list it expects the index which you want to remove,more than one indexes will give TypeError\n",
    "          #if no arguements are given,it will remove the last value\n",
    "print(a) \n",
    "print(b)\n",
    "print(c)"
   ]
  },
  {
   "cell_type": "code",
   "execution_count": 91,
   "id": "acb4993f-184b-4191-baf6-eaf4293effa9",
   "metadata": {},
   "outputs": [
    {
     "ename": "AttributeError",
     "evalue": "'set' object has no attribute 'append'",
     "output_type": "error",
     "traceback": [
      "\u001b[1;31m---------------------------------------------------------------------------\u001b[0m",
      "\u001b[1;31mAttributeError\u001b[0m                            Traceback (most recent call last)",
      "Cell \u001b[1;32mIn[91], line 4\u001b[0m\n\u001b[0;32m      2\u001b[0m b\u001b[38;5;241m=\u001b[39ma\n\u001b[0;32m      3\u001b[0m c\u001b[38;5;241m=\u001b[39ma\u001b[38;5;241m.\u001b[39mcopy()\n\u001b[1;32m----> 4\u001b[0m \u001b[43mb\u001b[49m\u001b[38;5;241;43m.\u001b[39;49m\u001b[43mappend\u001b[49m(\u001b[38;5;241m4.5\u001b[39m) \u001b[38;5;66;03m#sets are unordered,therefore append method is not for sets,it will give AttributeError\u001b[39;00m\n\u001b[0;32m      5\u001b[0m \u001b[38;5;28mprint\u001b[39m(a)\n\u001b[0;32m      6\u001b[0m \u001b[38;5;28mprint\u001b[39m(b)\n",
      "\u001b[1;31mAttributeError\u001b[0m: 'set' object has no attribute 'append'"
     ]
    }
   ],
   "source": [
    "a={1.5,2.5,3.5}\n",
    "b=a\n",
    "c=a.copy()\n",
    "b.append(4.5) #sets are unordered,therefore append method is not for sets,it will give AttributeError\n",
    "print(a)\n",
    "print(b)\n",
    "print(c)"
   ]
  },
  {
   "cell_type": "code",
   "execution_count": 92,
   "id": "f73b339a-dbe0-4875-bcd9-8c7caeedf17e",
   "metadata": {},
   "outputs": [
    {
     "ename": "AttributeError",
     "evalue": "'set' object has no attribute 'extend'",
     "output_type": "error",
     "traceback": [
      "\u001b[1;31m---------------------------------------------------------------------------\u001b[0m",
      "\u001b[1;31mAttributeError\u001b[0m                            Traceback (most recent call last)",
      "Cell \u001b[1;32mIn[92], line 4\u001b[0m\n\u001b[0;32m      2\u001b[0m b\u001b[38;5;241m=\u001b[39ma\n\u001b[0;32m      3\u001b[0m c\u001b[38;5;241m=\u001b[39ma\u001b[38;5;241m.\u001b[39mcopy()\n\u001b[1;32m----> 4\u001b[0m \u001b[43mb\u001b[49m\u001b[38;5;241;43m.\u001b[39;49m\u001b[43mextend\u001b[49m(\u001b[38;5;241m4.5\u001b[39m,\u001b[38;5;241m5.5\u001b[39m) \u001b[38;5;66;03m#sets are unordered,therefore extend method is not for sets,it will give AttributeError\u001b[39;00m\n\u001b[0;32m      5\u001b[0m \u001b[38;5;28mprint\u001b[39m(a)\n\u001b[0;32m      6\u001b[0m \u001b[38;5;28mprint\u001b[39m(b)\n",
      "\u001b[1;31mAttributeError\u001b[0m: 'set' object has no attribute 'extend'"
     ]
    }
   ],
   "source": [
    "a={1.5,2.5,3.5}\n",
    "b=a\n",
    "c=a.copy()\n",
    "b.extend(4.5,5.5) #sets are unordered,therefore extend method is not for sets,it will give AttributeError\n",
    "print(a)\n",
    "print(b)\n",
    "print(c)"
   ]
  },
  {
   "cell_type": "code",
   "execution_count": null,
   "id": "aed82186-ff2a-43f7-b8c8-e6ad600277d4",
   "metadata": {},
   "outputs": [],
   "source": [
    "--------------"
   ]
  },
  {
   "cell_type": "code",
   "execution_count": null,
   "id": "d9a97c6e-b5d8-4270-9a37-428ffed64752",
   "metadata": {},
   "outputs": [],
   "source": [
    "--------------"
   ]
  },
  {
   "cell_type": "code",
   "execution_count": null,
   "id": "001be096-f36d-4a70-a205-304f98296f94",
   "metadata": {},
   "outputs": [],
   "source": [
    "--------------"
   ]
  },
  {
   "cell_type": "code",
   "execution_count": null,
   "id": "212355f8-df87-459c-9428-f7dfe1d32996",
   "metadata": {},
   "outputs": [],
   "source": [
    "Now doing changes in the copied variable and observing the changes"
   ]
  },
  {
   "cell_type": "code",
   "execution_count": null,
   "id": "27fabc57-e1c3-46a1-9350-56b7023c2d1e",
   "metadata": {},
   "outputs": [],
   "source": [
    "--------------"
   ]
  },
  {
   "cell_type": "code",
   "execution_count": null,
   "id": "9afb793e-4eb8-4b46-999b-9a9bc6266390",
   "metadata": {},
   "outputs": [],
   "source": [
    "--------------"
   ]
  },
  {
   "cell_type": "code",
   "execution_count": null,
   "id": "73348816-04db-41ca-a499-2a4bc5aeb30c",
   "metadata": {},
   "outputs": [],
   "source": [
    "--------------"
   ]
  },
  {
   "cell_type": "code",
   "execution_count": 93,
   "id": "914a4bbe-c05c-42ef-bf5e-9d6295955579",
   "metadata": {},
   "outputs": [
    {
     "name": "stdout",
     "output_type": "stream",
     "text": [
      "{1.5, 2.5, 3.5}\n",
      "{1.5, 2.5, 3.5}\n",
      "{1.5, 2.5, 3.5, 4.5}\n"
     ]
    }
   ],
   "source": [
    "a={1.5,2.5,3.5}\n",
    "b=a\n",
    "c=a.copy()\n",
    "c.add(4.5)\n",
    "print(a)\n",
    "print(b)\n",
    "print(c)"
   ]
  },
  {
   "cell_type": "code",
   "execution_count": 94,
   "id": "fef7d3cd-c50f-4a81-8cf1-b98e5c9c5772",
   "metadata": {},
   "outputs": [
    {
     "name": "stdout",
     "output_type": "stream",
     "text": [
      "{1.5, 2.5, 3.5}\n",
      "{1.5, 2.5, 3.5}\n",
      "{1.5, 2.5}\n"
     ]
    }
   ],
   "source": [
    "a={1.5,2.5,3.5}\n",
    "b=a\n",
    "c=a.copy()\n",
    "c.remove(3.5)\n",
    "print(a)\n",
    "print(b)\n",
    "print(c)"
   ]
  },
  {
   "cell_type": "code",
   "execution_count": 95,
   "id": "f5362101-5350-4af6-b91e-8e376a8d155a",
   "metadata": {},
   "outputs": [
    {
     "name": "stdout",
     "output_type": "stream",
     "text": [
      "{1.5, 2.5, 3.5}\n",
      "{1.5, 2.5, 3.5}\n",
      "{1.5, 2.5}\n"
     ]
    }
   ],
   "source": [
    "a={1.5,2.5,3.5}\n",
    "b=a\n",
    "c=a.copy()\n",
    "c.discard(3.5)\n",
    "print(a)\n",
    "print(b)\n",
    "print(c)"
   ]
  },
  {
   "cell_type": "code",
   "execution_count": 96,
   "id": "05ceb8d3-466c-4017-a9fe-9225292c815e",
   "metadata": {},
   "outputs": [
    {
     "name": "stdout",
     "output_type": "stream",
     "text": [
      "{1.5, 2.5, 3.5}\n",
      "{1.5, 2.5, 3.5}\n",
      "set()\n"
     ]
    }
   ],
   "source": [
    "a={1.5,2.5,3.5}\n",
    "b=a\n",
    "c=a.copy()\n",
    "c.clear() #clear takes no arguement(TypeError)\n",
    "print(a)\n",
    "print(b)\n",
    "print(c)"
   ]
  },
  {
   "cell_type": "code",
   "execution_count": 97,
   "id": "c671840c-6dc4-4313-8ae5-20888ae347f9",
   "metadata": {},
   "outputs": [
    {
     "name": "stdout",
     "output_type": "stream",
     "text": [
      "{1.5, 2.5, 3.5}\n",
      "{1.5, 2.5, 3.5}\n"
     ]
    }
   ],
   "source": [
    "a={1.5,2.5,3.5}\n",
    "b=a\n",
    "c=a.copy()\n",
    "del c #the binding of a with objects assigned to it will deleted,and a will also b deleted,but the objects(set) i.e {1,2,3} will be there\n",
    "     #b will remain in the memory\n",
    "print(a)\n",
    "print(b)"
   ]
  },
  {
   "cell_type": "code",
   "execution_count": 98,
   "id": "14804eef-448c-46fd-92da-7f9ee1e2ceb5",
   "metadata": {},
   "outputs": [
    {
     "name": "stdout",
     "output_type": "stream",
     "text": [
      "{1.5, 2.5, 3.5}\n",
      "{1.5, 2.5, 3.5}\n",
      "{1.5, 2.5, 3.5}\n"
     ]
    }
   ],
   "source": [
    "a={1.5,2.5,3.5}\n",
    "b=a\n",
    "c=a.copy()\n",
    "c.discard(4.5)\n",
    "print(a)\n",
    "print(b)\n",
    "print(c)"
   ]
  },
  {
   "cell_type": "code",
   "execution_count": 99,
   "id": "68fa5ec6-49ab-4362-9c24-d2739dd2b9ba",
   "metadata": {},
   "outputs": [
    {
     "ename": "KeyError",
     "evalue": "4.5",
     "output_type": "error",
     "traceback": [
      "\u001b[1;31m---------------------------------------------------------------------------\u001b[0m",
      "\u001b[1;31mKeyError\u001b[0m                                  Traceback (most recent call last)",
      "Cell \u001b[1;32mIn[99], line 4\u001b[0m\n\u001b[0;32m      2\u001b[0m b\u001b[38;5;241m=\u001b[39ma\n\u001b[0;32m      3\u001b[0m c\u001b[38;5;241m=\u001b[39ma\u001b[38;5;241m.\u001b[39mcopy()\n\u001b[1;32m----> 4\u001b[0m \u001b[43mc\u001b[49m\u001b[38;5;241;43m.\u001b[39;49m\u001b[43mremove\u001b[49m\u001b[43m(\u001b[49m\u001b[38;5;241;43m4.5\u001b[39;49m\u001b[43m)\u001b[49m\n\u001b[0;32m      5\u001b[0m \u001b[38;5;28mprint\u001b[39m(a)\n\u001b[0;32m      6\u001b[0m \u001b[38;5;28mprint\u001b[39m(b)\n",
      "\u001b[1;31mKeyError\u001b[0m: 4.5"
     ]
    }
   ],
   "source": [
    "a={1.5,2.5,3.5}\n",
    "b=a\n",
    "c=a.copy()\n",
    "c.remove(4.5)\n",
    "print(a)\n",
    "print(b)\n",
    "print(c)\n",
    "'''use discard if you're not sure whether the element is in the set and you want to avoid errors\n",
    "    and use remove if you want an error to be raised when the element is absent.'''"
   ]
  },
  {
   "cell_type": "code",
   "execution_count": 100,
   "id": "8784fed9-63de-4a0b-b314-c4656e1a59cc",
   "metadata": {},
   "outputs": [
    {
     "name": "stdout",
     "output_type": "stream",
     "text": [
      "{1.5, 2.5, 3.5}\n",
      "{1.5, 2.5, 3.5}\n",
      "{2.5, 3.5}\n"
     ]
    }
   ],
   "source": [
    "a={1.5,2.5,3.5}\n",
    "b=a\n",
    "c=a.copy()\n",
    "c.pop() #pop takes no arguement(TypeError)\n",
    "        #it will remove any random value becz sets are unordered\n",
    "print(a)\n",
    "print(b)\n",
    "print(c)"
   ]
  },
  {
   "cell_type": "code",
   "execution_count": 101,
   "id": "fa224f4c-85d2-431a-98cc-891936619576",
   "metadata": {},
   "outputs": [
    {
     "name": "stdout",
     "output_type": "stream",
     "text": [
      "[1.5, 2.5, 3.5]\n",
      "[1.5, 2.5, 3.5]\n",
      "[2.5, 3.5]\n"
     ]
    }
   ],
   "source": [
    "a=[1.5,2.5,3.5]\n",
    "b=a\n",
    "c=a.copy()\n",
    "c.pop(0) #in case of list it expects the index which you want to remove,more than one indexes will give TypeError\n",
    "          #if no arguements are given,it will remove the last value\n",
    "print(a) \n",
    "print(b)\n",
    "print(c)"
   ]
  },
  {
   "cell_type": "code",
   "execution_count": 102,
   "id": "f94086e2-3ade-463f-9b49-c7693714297d",
   "metadata": {},
   "outputs": [
    {
     "ename": "AttributeError",
     "evalue": "'set' object has no attribute 'append'",
     "output_type": "error",
     "traceback": [
      "\u001b[1;31m---------------------------------------------------------------------------\u001b[0m",
      "\u001b[1;31mAttributeError\u001b[0m                            Traceback (most recent call last)",
      "Cell \u001b[1;32mIn[102], line 4\u001b[0m\n\u001b[0;32m      2\u001b[0m b\u001b[38;5;241m=\u001b[39ma\n\u001b[0;32m      3\u001b[0m c\u001b[38;5;241m=\u001b[39ma\u001b[38;5;241m.\u001b[39mcopy()\n\u001b[1;32m----> 4\u001b[0m \u001b[43mc\u001b[49m\u001b[38;5;241;43m.\u001b[39;49m\u001b[43mappend\u001b[49m(\u001b[38;5;241m4.5\u001b[39m) \u001b[38;5;66;03m#sets are unordered,therefore append method is not for sets,it will give AttributeError\u001b[39;00m\n\u001b[0;32m      5\u001b[0m \u001b[38;5;28mprint\u001b[39m(a)\n\u001b[0;32m      6\u001b[0m \u001b[38;5;28mprint\u001b[39m(b)\n",
      "\u001b[1;31mAttributeError\u001b[0m: 'set' object has no attribute 'append'"
     ]
    }
   ],
   "source": [
    "a={1.5,2.5,3.5}\n",
    "b=a\n",
    "c=a.copy()\n",
    "c.append(4.5) #sets are unordered,therefore append method is not for sets,it will give AttributeError\n",
    "print(a)\n",
    "print(b)\n",
    "print(c)"
   ]
  },
  {
   "cell_type": "code",
   "execution_count": 103,
   "id": "1eceb94c-af8d-4941-9358-4a03e7f4db04",
   "metadata": {},
   "outputs": [
    {
     "ename": "AttributeError",
     "evalue": "'set' object has no attribute 'extend'",
     "output_type": "error",
     "traceback": [
      "\u001b[1;31m---------------------------------------------------------------------------\u001b[0m",
      "\u001b[1;31mAttributeError\u001b[0m                            Traceback (most recent call last)",
      "Cell \u001b[1;32mIn[103], line 4\u001b[0m\n\u001b[0;32m      2\u001b[0m b\u001b[38;5;241m=\u001b[39ma\n\u001b[0;32m      3\u001b[0m c\u001b[38;5;241m=\u001b[39ma\u001b[38;5;241m.\u001b[39mcopy()\n\u001b[1;32m----> 4\u001b[0m \u001b[43mc\u001b[49m\u001b[38;5;241;43m.\u001b[39;49m\u001b[43mextend\u001b[49m(\u001b[38;5;241m4.5\u001b[39m,\u001b[38;5;241m5.5\u001b[39m) \u001b[38;5;66;03m#sets are unordered,therefore extend method is not for sets,it will give AttributeError\u001b[39;00m\n\u001b[0;32m      5\u001b[0m \u001b[38;5;28mprint\u001b[39m(a)\n\u001b[0;32m      6\u001b[0m \u001b[38;5;28mprint\u001b[39m(b)\n",
      "\u001b[1;31mAttributeError\u001b[0m: 'set' object has no attribute 'extend'"
     ]
    }
   ],
   "source": [
    "a={1.5,2.5,3.5}\n",
    "b=a\n",
    "c=a.copy()\n",
    "c.extend(4.5,5.5) #sets are unordered,therefore extend method is not for sets,it will give AttributeError\n",
    "print(a)\n",
    "print(b)\n",
    "print(c)"
   ]
  },
  {
   "cell_type": "code",
   "execution_count": null,
   "id": "5e8aec91-b619-4a88-8780-4dd82a261368",
   "metadata": {},
   "outputs": [],
   "source": [
    "//////////////////"
   ]
  },
  {
   "cell_type": "code",
   "execution_count": null,
   "id": "fe019a46-8bd5-4a78-82dc-81551fa940d3",
   "metadata": {},
   "outputs": [],
   "source": [
    "//////////////////"
   ]
  },
  {
   "cell_type": "code",
   "execution_count": null,
   "id": "cb10e4bc-f4ef-4814-9f27-ccf600838783",
   "metadata": {},
   "outputs": [],
   "source": [
    "//////////////////"
   ]
  },
  {
   "cell_type": "code",
   "execution_count": null,
   "id": "a774d93c-47b3-4fcb-a3ab-f25a01d4a96b",
   "metadata": {},
   "outputs": [],
   "source": [
    "COMPLEX:"
   ]
  },
  {
   "cell_type": "code",
   "execution_count": null,
   "id": "bf2786ac-0ec3-46f0-92d3-31e6393a037f",
   "metadata": {},
   "outputs": [],
   "source": [
    "//////////////////"
   ]
  },
  {
   "cell_type": "code",
   "execution_count": null,
   "id": "087e9a7f-49f9-4bc0-a8d0-cf4f5a7a4604",
   "metadata": {},
   "outputs": [],
   "source": [
    "/////////////////"
   ]
  },
  {
   "cell_type": "code",
   "execution_count": null,
   "id": "35924c7f-1bb4-40f1-b95b-ebec312e7050",
   "metadata": {},
   "outputs": [],
   "source": [
    "/////////////////"
   ]
  },
  {
   "cell_type": "code",
   "execution_count": null,
   "id": "f1cc27c4-b596-4a57-a72b-719ebc28b963",
   "metadata": {},
   "outputs": [],
   "source": [
    "doing changes in the original variable and oberving the changes"
   ]
  },
  {
   "cell_type": "code",
   "execution_count": null,
   "id": "8832bec9-56f1-45b8-adb0-d090e735e68c",
   "metadata": {},
   "outputs": [],
   "source": [
    "-----------------"
   ]
  },
  {
   "cell_type": "code",
   "execution_count": null,
   "id": "816db2f8-bf96-4532-8e55-5dbd56d245c2",
   "metadata": {},
   "outputs": [],
   "source": [
    "-----------------"
   ]
  },
  {
   "cell_type": "code",
   "execution_count": null,
   "id": "0a1b539b-5e67-474d-8b08-7818cdcbb4a5",
   "metadata": {},
   "outputs": [],
   "source": [
    "-----------------"
   ]
  },
  {
   "cell_type": "code",
   "execution_count": 107,
   "id": "23c7a1c0-837a-45e4-b2dc-50cb93737c89",
   "metadata": {},
   "outputs": [
    {
     "name": "stdout",
     "output_type": "stream",
     "text": [
      "{(2+2j), (3+3j), (3+4j), (1+1j)}\n",
      "{(2+2j), (3+3j), (3+4j), (1+1j)}\n",
      "{(2+2j), (3+3j), (1+1j)}\n"
     ]
    }
   ],
   "source": [
    "a={1+1j,2+2j,3+3j}\n",
    "b=a\n",
    "c=a.copy()\n",
    "a.add(3+4j)\n",
    "print(a)\n",
    "print(b)\n",
    "print(c)"
   ]
  },
  {
   "cell_type": "code",
   "execution_count": 108,
   "id": "9b5f6af8-bead-47c8-9c28-5faf0fdd213c",
   "metadata": {},
   "outputs": [
    {
     "name": "stdout",
     "output_type": "stream",
     "text": [
      "{(2+2j), (3+3j)}\n",
      "{(2+2j), (3+3j)}\n",
      "{(2+2j), (3+3j), (1+1j)}\n"
     ]
    }
   ],
   "source": [
    "a={1+1j,2+2j,3+3j}\n",
    "b=a\n",
    "c=a.copy()\n",
    "a.remove(1+1j)\n",
    "print(a)\n",
    "print(b)\n",
    "print(c)"
   ]
  },
  {
   "cell_type": "code",
   "execution_count": 110,
   "id": "179478e7-abdf-4c46-b4ab-8aeff686aba9",
   "metadata": {},
   "outputs": [
    {
     "name": "stdout",
     "output_type": "stream",
     "text": [
      "{(2+2j), (3+3j)}\n",
      "{(2+2j), (3+3j)}\n",
      "{(2+2j), (3+3j), (1+1j)}\n"
     ]
    }
   ],
   "source": [
    "a={1+1j,2+2j,3+3j}\n",
    "b=a\n",
    "c=a.copy()\n",
    "a.discard(1+1j)\n",
    "print(a)\n",
    "print(b)\n",
    "print(c)"
   ]
  },
  {
   "cell_type": "code",
   "execution_count": 111,
   "id": "91ccf4e4-f09e-4abf-8560-4cd430fe6349",
   "metadata": {},
   "outputs": [
    {
     "name": "stdout",
     "output_type": "stream",
     "text": [
      "set()\n",
      "set()\n",
      "{(2+2j), (3+3j), (1+1j)}\n"
     ]
    }
   ],
   "source": [
    "a={1+1j,2+2j,3+3j}\n",
    "b=a\n",
    "c=a.copy()\n",
    "a.clear() #clear takes no arguement(TypeError)\n",
    "print(a)\n",
    "print(b)\n",
    "print(c)"
   ]
  },
  {
   "cell_type": "code",
   "execution_count": 112,
   "id": "a418420d-b1c5-4563-8a0b-53171d5229d6",
   "metadata": {},
   "outputs": [
    {
     "name": "stdout",
     "output_type": "stream",
     "text": [
      "{(2+2j), (3+3j), (1+1j)}\n",
      "{(2+2j), (3+3j), (1+1j)}\n"
     ]
    }
   ],
   "source": [
    "a={1+1j,2+2j,3+3j}\n",
    "b=a\n",
    "c=a.copy()\n",
    "del a #the binding of a with objects assigned to it will deleted,and a will also b deleted,but the objects(set) i.e {1,2,3} will be there\n",
    "     #b will remain in the memory\n",
    "print(b)\n",
    "print(c)"
   ]
  },
  {
   "cell_type": "code",
   "execution_count": 118,
   "id": "d92f1eed-bfe7-4101-8c58-55010f949f7e",
   "metadata": {},
   "outputs": [
    {
     "name": "stdout",
     "output_type": "stream",
     "text": [
      "{(2+2j), (3+3j), (1+1j)}\n",
      "{(2+2j), (3+3j), (1+1j)}\n",
      "{(2+2j), (3+3j), (1+1j)}\n"
     ]
    }
   ],
   "source": [
    "a={1+1j,2+2j,3+3j}\n",
    "b=a\n",
    "c=a.copy()\n",
    "a.discard(3+4j)\n",
    "print(a)\n",
    "print(b)\n",
    "print(c)"
   ]
  },
  {
   "cell_type": "code",
   "execution_count": 117,
   "id": "ae1f814f-0616-4c45-a9f9-f6edc160a132",
   "metadata": {},
   "outputs": [
    {
     "ename": "KeyError",
     "evalue": "(3+4j)",
     "output_type": "error",
     "traceback": [
      "\u001b[1;31m---------------------------------------------------------------------------\u001b[0m",
      "\u001b[1;31mKeyError\u001b[0m                                  Traceback (most recent call last)",
      "Cell \u001b[1;32mIn[117], line 4\u001b[0m\n\u001b[0;32m      2\u001b[0m b\u001b[38;5;241m=\u001b[39ma\n\u001b[0;32m      3\u001b[0m c\u001b[38;5;241m=\u001b[39ma\u001b[38;5;241m.\u001b[39mcopy()\n\u001b[1;32m----> 4\u001b[0m \u001b[43ma\u001b[49m\u001b[38;5;241;43m.\u001b[39;49m\u001b[43mremove\u001b[49m\u001b[43m(\u001b[49m\u001b[38;5;241;43m3\u001b[39;49m\u001b[38;5;241;43m+\u001b[39;49m\u001b[38;5;241;43m4\u001b[39;49m\u001b[43mj\u001b[49m\u001b[43m)\u001b[49m\n\u001b[0;32m      5\u001b[0m \u001b[38;5;28mprint\u001b[39m(a)\n\u001b[0;32m      6\u001b[0m \u001b[38;5;28mprint\u001b[39m(b)\n",
      "\u001b[1;31mKeyError\u001b[0m: (3+4j)"
     ]
    }
   ],
   "source": [
    "a={1+1j,2+2j,3+3j}\n",
    "b=a\n",
    "c=a.copy()\n",
    "a.remove(3+4j)\n",
    "print(a)\n",
    "print(b)\n",
    "print(c)\n",
    "'''use discard if you're not sure whether the element is in the set and you want to avoid errors\n",
    "    and use remove if you want an error to be raised when the element is absent.'''"
   ]
  },
  {
   "cell_type": "code",
   "execution_count": 119,
   "id": "838d5abd-0141-4e37-ad36-4d3aaa95f84d",
   "metadata": {},
   "outputs": [
    {
     "name": "stdout",
     "output_type": "stream",
     "text": [
      "{(3+3j), (1+1j)}\n",
      "{(3+3j), (1+1j)}\n",
      "{(2+2j), (3+3j), (1+1j)}\n"
     ]
    }
   ],
   "source": [
    "a={1+1j,2+2j,3+3j}\n",
    "b=a\n",
    "c=a.copy()\n",
    "a.pop() #pop takes no arguement(TypeError)\n",
    "        #it will remove any random value becz sets are unordered\n",
    "print(a)\n",
    "print(b)\n",
    "print(c)"
   ]
  },
  {
   "cell_type": "code",
   "execution_count": 120,
   "id": "ea01e472-391b-4807-a259-32a31d832a97",
   "metadata": {},
   "outputs": [
    {
     "name": "stdout",
     "output_type": "stream",
     "text": [
      "[(2+2j), (3+3j)]\n",
      "[(2+2j), (3+3j)]\n",
      "[(1+1j), (2+2j), (3+3j)]\n"
     ]
    }
   ],
   "source": [
    "a=[1+1j,2+2j,3+3j]\n",
    "b=a\n",
    "c=a.copy()\n",
    "a.pop(0) #in case of list it expects the index which you want to remove,more than one indexes will give TypeError\n",
    "          #if no arguements are given,it will remove the last value\n",
    "print(a) \n",
    "print(b)\n",
    "print(c)"
   ]
  },
  {
   "cell_type": "code",
   "execution_count": 121,
   "id": "99f43d05-5a74-435f-af63-6097ca426f1e",
   "metadata": {},
   "outputs": [
    {
     "ename": "AttributeError",
     "evalue": "'set' object has no attribute 'append'",
     "output_type": "error",
     "traceback": [
      "\u001b[1;31m---------------------------------------------------------------------------\u001b[0m",
      "\u001b[1;31mAttributeError\u001b[0m                            Traceback (most recent call last)",
      "Cell \u001b[1;32mIn[121], line 4\u001b[0m\n\u001b[0;32m      2\u001b[0m b\u001b[38;5;241m=\u001b[39ma\n\u001b[0;32m      3\u001b[0m c\u001b[38;5;241m=\u001b[39ma\u001b[38;5;241m.\u001b[39mcopy()\n\u001b[1;32m----> 4\u001b[0m \u001b[43ma\u001b[49m\u001b[38;5;241;43m.\u001b[39;49m\u001b[43mappend\u001b[49m(\u001b[38;5;241m3\u001b[39m\u001b[38;5;241m+\u001b[39m\u001b[38;5;241m4\u001b[39mj) \u001b[38;5;66;03m#sets are unordered,therefore append method is not for sets,it will give AttributeError\u001b[39;00m\n\u001b[0;32m      5\u001b[0m \u001b[38;5;28mprint\u001b[39m(a)\n\u001b[0;32m      6\u001b[0m \u001b[38;5;28mprint\u001b[39m(b)\n",
      "\u001b[1;31mAttributeError\u001b[0m: 'set' object has no attribute 'append'"
     ]
    }
   ],
   "source": [
    "a={1+1j,2+2j,3+3j}\n",
    "b=a\n",
    "c=a.copy()\n",
    "a.append(3+4j) #sets are unordered,therefore append method is not for sets,it will give AttributeError\n",
    "print(a)\n",
    "print(b)\n",
    "print(c)"
   ]
  },
  {
   "cell_type": "code",
   "execution_count": 122,
   "id": "09db88f9-12cc-4daa-a83b-6797a3c26c43",
   "metadata": {},
   "outputs": [
    {
     "ename": "AttributeError",
     "evalue": "'set' object has no attribute 'extend'",
     "output_type": "error",
     "traceback": [
      "\u001b[1;31m---------------------------------------------------------------------------\u001b[0m",
      "\u001b[1;31mAttributeError\u001b[0m                            Traceback (most recent call last)",
      "Cell \u001b[1;32mIn[122], line 4\u001b[0m\n\u001b[0;32m      2\u001b[0m b\u001b[38;5;241m=\u001b[39ma\n\u001b[0;32m      3\u001b[0m c\u001b[38;5;241m=\u001b[39ma\u001b[38;5;241m.\u001b[39mcopy()\n\u001b[1;32m----> 4\u001b[0m \u001b[43ma\u001b[49m\u001b[38;5;241;43m.\u001b[39;49m\u001b[43mextend\u001b[49m(\u001b[38;5;241m3\u001b[39m\u001b[38;5;241m+\u001b[39m\u001b[38;5;241m4\u001b[39mj,\u001b[38;5;241m5\u001b[39m\u001b[38;5;241m+\u001b[39m\u001b[38;5;241m6\u001b[39mj) \u001b[38;5;66;03m#sets are unordered,therefore extend method is not for sets,it will give AttributeError\u001b[39;00m\n\u001b[0;32m      5\u001b[0m \u001b[38;5;28mprint\u001b[39m(a)\n\u001b[0;32m      6\u001b[0m \u001b[38;5;28mprint\u001b[39m(b)\n",
      "\u001b[1;31mAttributeError\u001b[0m: 'set' object has no attribute 'extend'"
     ]
    }
   ],
   "source": [
    "a={1+1j,2+2j,3+3j}\n",
    "b=a\n",
    "c=a.copy()\n",
    "a.extend(3+4j,5+6j) #sets are unordered,therefore extend method is not for sets,it will give AttributeError\n",
    "print(a)\n",
    "print(b)\n",
    "print(c)"
   ]
  },
  {
   "cell_type": "code",
   "execution_count": null,
   "id": "f7727406-0736-4fe8-b2c7-c416f0d37678",
   "metadata": {},
   "outputs": [],
   "source": [
    "---------------"
   ]
  },
  {
   "cell_type": "code",
   "execution_count": null,
   "id": "030fafa9-02c4-4a80-83b8-6aeae04edbad",
   "metadata": {},
   "outputs": [],
   "source": [
    "---------------"
   ]
  },
  {
   "cell_type": "code",
   "execution_count": null,
   "id": "785e1164-2843-4d78-ac26-33aa85245b51",
   "metadata": {},
   "outputs": [],
   "source": [
    "---------------"
   ]
  },
  {
   "cell_type": "code",
   "execution_count": null,
   "id": "b255711b-8627-4215-9548-9472a5a9d306",
   "metadata": {},
   "outputs": [],
   "source": [
    "doing changes in the assignment variable and oberving the changes"
   ]
  },
  {
   "cell_type": "code",
   "execution_count": null,
   "id": "546d198b-42b1-4ae3-9f30-4168416aec53",
   "metadata": {},
   "outputs": [],
   "source": [
    "---------------"
   ]
  },
  {
   "cell_type": "code",
   "execution_count": null,
   "id": "ce945bc5-7e58-482b-b7b9-89869b108c44",
   "metadata": {},
   "outputs": [],
   "source": [
    "---------------"
   ]
  },
  {
   "cell_type": "code",
   "execution_count": null,
   "id": "dc70f874-fe08-4995-8534-5f3234b5f07a",
   "metadata": {},
   "outputs": [],
   "source": [
    "---------------"
   ]
  },
  {
   "cell_type": "code",
   "execution_count": 123,
   "id": "76ba1f7d-a4fc-4af6-979b-c447ccf8b9b1",
   "metadata": {},
   "outputs": [
    {
     "name": "stdout",
     "output_type": "stream",
     "text": [
      "{(2+2j), (3+3j), (3+4j), (1+1j)}\n",
      "{(2+2j), (3+3j), (3+4j), (1+1j)}\n",
      "{(2+2j), (3+3j), (1+1j)}\n"
     ]
    }
   ],
   "source": [
    "a={1+1j,2+2j,3+3j}\n",
    "b=a\n",
    "c=a.copy()\n",
    "b.add(3+4j)\n",
    "print(a)\n",
    "print(b)\n",
    "print(c)"
   ]
  },
  {
   "cell_type": "code",
   "execution_count": 124,
   "id": "df704b8d-aff0-4cd2-a29c-28eef1e0d839",
   "metadata": {},
   "outputs": [
    {
     "name": "stdout",
     "output_type": "stream",
     "text": [
      "{(2+2j), (3+3j)}\n",
      "{(2+2j), (3+3j)}\n",
      "{(2+2j), (3+3j), (1+1j)}\n"
     ]
    }
   ],
   "source": [
    "a={1+1j,2+2j,3+3j}\n",
    "b=a\n",
    "c=a.copy()\n",
    "b.remove(1+1j)\n",
    "print(a)\n",
    "print(b)\n",
    "print(c)"
   ]
  },
  {
   "cell_type": "code",
   "execution_count": 125,
   "id": "d2403857-0560-4964-bad5-390699f50d95",
   "metadata": {},
   "outputs": [
    {
     "name": "stdout",
     "output_type": "stream",
     "text": [
      "{(2+2j), (3+3j)}\n",
      "{(2+2j), (3+3j)}\n",
      "{(2+2j), (3+3j), (1+1j)}\n"
     ]
    }
   ],
   "source": [
    "a={1+1j,2+2j,3+3j}\n",
    "b=a\n",
    "c=a.copy()\n",
    "b.discard(1+1j)\n",
    "print(a)\n",
    "print(b)\n",
    "print(c)"
   ]
  },
  {
   "cell_type": "code",
   "execution_count": 126,
   "id": "e034bb43-b9db-437f-9742-efd0f2f3dc8f",
   "metadata": {},
   "outputs": [
    {
     "name": "stdout",
     "output_type": "stream",
     "text": [
      "set()\n",
      "set()\n",
      "{(2+2j), (3+3j), (1+1j)}\n"
     ]
    }
   ],
   "source": [
    "a={1+1j,2+2j,3+3j}\n",
    "b=a\n",
    "c=a.copy()\n",
    "b.clear() #clear takes no arguement(TypeError)\n",
    "print(a)\n",
    "print(b)\n",
    "print(c)"
   ]
  },
  {
   "cell_type": "code",
   "execution_count": 127,
   "id": "e28e3a33-16b0-47c9-9a92-87dfe09c654a",
   "metadata": {},
   "outputs": [
    {
     "name": "stdout",
     "output_type": "stream",
     "text": [
      "{(2+2j), (3+3j), (1+1j)}\n",
      "{(2+2j), (3+3j), (1+1j)}\n"
     ]
    }
   ],
   "source": [
    "a={1+1j,2+2j,3+3j}\n",
    "b=a\n",
    "c=a.copy()\n",
    "del b #the binding of a with objects assigned to it will deleted,and a will also b deleted,but the objects(set) i.e {1,2,3} will be there\n",
    "     #b will remain in the memory\n",
    "print(a)\n",
    "print(c)"
   ]
  },
  {
   "cell_type": "code",
   "execution_count": 129,
   "id": "e28e310e-598f-4282-904f-a9d2cb4b105a",
   "metadata": {},
   "outputs": [
    {
     "name": "stdout",
     "output_type": "stream",
     "text": [
      "{(2+2j), (3+3j), (1+1j)}\n",
      "{(2+2j), (3+3j), (1+1j)}\n",
      "{(2+2j), (3+3j), (1+1j)}\n"
     ]
    }
   ],
   "source": [
    "a={1+1j,2+2j,3+3j}\n",
    "b=a\n",
    "c=a.copy()\n",
    "b.discard(3+4j)\n",
    "print(a)\n",
    "print(b)\n",
    "print(c)"
   ]
  },
  {
   "cell_type": "code",
   "execution_count": 130,
   "id": "0f2e23d6-a518-4e76-b733-b411d5224d93",
   "metadata": {},
   "outputs": [
    {
     "ename": "KeyError",
     "evalue": "(3+4j)",
     "output_type": "error",
     "traceback": [
      "\u001b[1;31m---------------------------------------------------------------------------\u001b[0m",
      "\u001b[1;31mKeyError\u001b[0m                                  Traceback (most recent call last)",
      "Cell \u001b[1;32mIn[130], line 4\u001b[0m\n\u001b[0;32m      2\u001b[0m b\u001b[38;5;241m=\u001b[39ma\n\u001b[0;32m      3\u001b[0m c\u001b[38;5;241m=\u001b[39ma\u001b[38;5;241m.\u001b[39mcopy()\n\u001b[1;32m----> 4\u001b[0m \u001b[43mb\u001b[49m\u001b[38;5;241;43m.\u001b[39;49m\u001b[43mremove\u001b[49m\u001b[43m(\u001b[49m\u001b[38;5;241;43m3\u001b[39;49m\u001b[38;5;241;43m+\u001b[39;49m\u001b[38;5;241;43m4\u001b[39;49m\u001b[43mj\u001b[49m\u001b[43m)\u001b[49m\n\u001b[0;32m      5\u001b[0m \u001b[38;5;28mprint\u001b[39m(a)\n\u001b[0;32m      6\u001b[0m \u001b[38;5;28mprint\u001b[39m(b)\n",
      "\u001b[1;31mKeyError\u001b[0m: (3+4j)"
     ]
    }
   ],
   "source": [
    "a={1+1j,2+2j,3+3j}\n",
    "b=a\n",
    "c=a.copy()\n",
    "b.remove(3+4j)\n",
    "print(a)\n",
    "print(b)\n",
    "print(c)\n",
    "'''use discard if you're not sure whether the element is in the set and you want to avoid errors\n",
    "    and use remove if you want an error to be raised when the element is absent.'''"
   ]
  },
  {
   "cell_type": "code",
   "execution_count": 131,
   "id": "4e2382ee-15ff-41d9-bc15-c1f55321e127",
   "metadata": {},
   "outputs": [
    {
     "name": "stdout",
     "output_type": "stream",
     "text": [
      "{(3+3j), (1+1j)}\n",
      "{(3+3j), (1+1j)}\n",
      "{(2+2j), (3+3j), (1+1j)}\n"
     ]
    }
   ],
   "source": [
    "a={1+1j,2+2j,3+3j}\n",
    "b=a\n",
    "c=a.copy()\n",
    "b.pop() #pop takes no arguement(TypeError)\n",
    "        #it will remove any random value becz sets are unordered\n",
    "print(a)\n",
    "print(b)\n",
    "print(c)"
   ]
  },
  {
   "cell_type": "code",
   "execution_count": 132,
   "id": "5ee2cf04-5bf9-4ce2-9618-01caf98978b2",
   "metadata": {},
   "outputs": [
    {
     "name": "stdout",
     "output_type": "stream",
     "text": [
      "[(2+2j), (3+3j)]\n",
      "[(2+2j), (3+3j)]\n",
      "[(1+1j), (2+2j), (3+3j)]\n"
     ]
    }
   ],
   "source": [
    "a=[1+1j,2+2j,3+3j]\n",
    "b=a\n",
    "c=a.copy()\n",
    "b.pop(0) #in case of list it expects the index which you want to remove,more than one indexes will give TypeError\n",
    "          #if no arguements are given,it will remove the last value\n",
    "print(a) \n",
    "print(b)\n",
    "print(c)"
   ]
  },
  {
   "cell_type": "code",
   "execution_count": 133,
   "id": "f482b284-d6d5-4125-b9ae-238aee33b20e",
   "metadata": {},
   "outputs": [
    {
     "ename": "AttributeError",
     "evalue": "'set' object has no attribute 'append'",
     "output_type": "error",
     "traceback": [
      "\u001b[1;31m---------------------------------------------------------------------------\u001b[0m",
      "\u001b[1;31mAttributeError\u001b[0m                            Traceback (most recent call last)",
      "Cell \u001b[1;32mIn[133], line 4\u001b[0m\n\u001b[0;32m      2\u001b[0m b\u001b[38;5;241m=\u001b[39ma\n\u001b[0;32m      3\u001b[0m c\u001b[38;5;241m=\u001b[39ma\u001b[38;5;241m.\u001b[39mcopy()\n\u001b[1;32m----> 4\u001b[0m \u001b[43mb\u001b[49m\u001b[38;5;241;43m.\u001b[39;49m\u001b[43mappend\u001b[49m(\u001b[38;5;241m3\u001b[39m\u001b[38;5;241m+\u001b[39m\u001b[38;5;241m4\u001b[39mj) \u001b[38;5;66;03m#sets are unordered,therefore append method is not for sets,it will give AttributeError\u001b[39;00m\n\u001b[0;32m      5\u001b[0m \u001b[38;5;28mprint\u001b[39m(a)\n\u001b[0;32m      6\u001b[0m \u001b[38;5;28mprint\u001b[39m(b)\n",
      "\u001b[1;31mAttributeError\u001b[0m: 'set' object has no attribute 'append'"
     ]
    }
   ],
   "source": [
    "a={1+1j,2+2j,3+3j}\n",
    "b=a\n",
    "c=a.copy()\n",
    "b.append(3+4j) #sets are unordered,therefore append method is not for sets,it will give AttributeError\n",
    "print(a)\n",
    "print(b)\n",
    "print(c)"
   ]
  },
  {
   "cell_type": "code",
   "execution_count": 134,
   "id": "221a23d1-2bb0-4548-8b2d-c4d83700184e",
   "metadata": {},
   "outputs": [
    {
     "ename": "AttributeError",
     "evalue": "'set' object has no attribute 'extend'",
     "output_type": "error",
     "traceback": [
      "\u001b[1;31m---------------------------------------------------------------------------\u001b[0m",
      "\u001b[1;31mAttributeError\u001b[0m                            Traceback (most recent call last)",
      "Cell \u001b[1;32mIn[134], line 4\u001b[0m\n\u001b[0;32m      2\u001b[0m b\u001b[38;5;241m=\u001b[39ma\n\u001b[0;32m      3\u001b[0m c\u001b[38;5;241m=\u001b[39ma\u001b[38;5;241m.\u001b[39mcopy()\n\u001b[1;32m----> 4\u001b[0m \u001b[43mb\u001b[49m\u001b[38;5;241;43m.\u001b[39;49m\u001b[43mextend\u001b[49m(\u001b[38;5;241m3\u001b[39m\u001b[38;5;241m+\u001b[39m\u001b[38;5;241m4\u001b[39mj,\u001b[38;5;241m5\u001b[39m\u001b[38;5;241m+\u001b[39m\u001b[38;5;241m6\u001b[39mj) \u001b[38;5;66;03m#sets are unordered,therefore extend method is not for sets,it will give AttributeError\u001b[39;00m\n\u001b[0;32m      5\u001b[0m \u001b[38;5;28mprint\u001b[39m(a)\n\u001b[0;32m      6\u001b[0m \u001b[38;5;28mprint\u001b[39m(b)\n",
      "\u001b[1;31mAttributeError\u001b[0m: 'set' object has no attribute 'extend'"
     ]
    }
   ],
   "source": [
    "a={1+1j,2+2j,3+3j}\n",
    "b=a\n",
    "c=a.copy()\n",
    "b.extend(3+4j,5+6j) #sets are unordered,therefore extend method is not for sets,it will give AttributeError\n",
    "print(a)\n",
    "print(b)\n",
    "print(c)"
   ]
  },
  {
   "cell_type": "code",
   "execution_count": null,
   "id": "c8f492e6-0259-4dbe-b980-3e89ed12fceb",
   "metadata": {},
   "outputs": [],
   "source": [
    "-------------"
   ]
  },
  {
   "cell_type": "code",
   "execution_count": null,
   "id": "49cca768-6fa3-40bb-9dd0-9add90eeaf6b",
   "metadata": {},
   "outputs": [],
   "source": [
    "-------------"
   ]
  },
  {
   "cell_type": "code",
   "execution_count": null,
   "id": "5739bf3c-baf4-4d42-a6ad-fbc1f5ee7667",
   "metadata": {},
   "outputs": [],
   "source": [
    "-------------"
   ]
  },
  {
   "cell_type": "code",
   "execution_count": null,
   "id": "06e08b3a-084a-4370-9ac0-162bddfdf84e",
   "metadata": {},
   "outputs": [],
   "source": [
    "doing changes in the copy variable and oberving the changes"
   ]
  },
  {
   "cell_type": "code",
   "execution_count": null,
   "id": "2c402f16-d20e-4e83-bdd8-af7224f887a2",
   "metadata": {},
   "outputs": [],
   "source": [
    "-------------"
   ]
  },
  {
   "cell_type": "code",
   "execution_count": null,
   "id": "9fd47c16-c77d-4ed1-802c-d2fbfb000ff6",
   "metadata": {},
   "outputs": [],
   "source": [
    "-------------"
   ]
  },
  {
   "cell_type": "code",
   "execution_count": null,
   "id": "8aea83ab-ad31-4a48-a9f1-179a4f3f1388",
   "metadata": {},
   "outputs": [],
   "source": [
    "-------------"
   ]
  },
  {
   "cell_type": "code",
   "execution_count": 135,
   "id": "c6dccf25-d530-4ffb-8215-49ade36f0881",
   "metadata": {},
   "outputs": [
    {
     "name": "stdout",
     "output_type": "stream",
     "text": [
      "{(2+2j), (3+3j), (1+1j)}\n",
      "{(2+2j), (3+3j), (1+1j)}\n",
      "{(2+2j), (3+3j), (3+4j), (1+1j)}\n"
     ]
    }
   ],
   "source": [
    "a={1+1j,2+2j,3+3j}\n",
    "b=a\n",
    "c=a.copy()\n",
    "c.add(3+4j)\n",
    "print(a)\n",
    "print(b)\n",
    "print(c)"
   ]
  },
  {
   "cell_type": "code",
   "execution_count": 136,
   "id": "b3aff071-66a5-4159-bc47-490c4f828e27",
   "metadata": {},
   "outputs": [
    {
     "name": "stdout",
     "output_type": "stream",
     "text": [
      "{(2+2j), (3+3j), (1+1j)}\n",
      "{(2+2j), (3+3j), (1+1j)}\n",
      "{(2+2j), (3+3j)}\n"
     ]
    }
   ],
   "source": [
    "a={1+1j,2+2j,3+3j}\n",
    "b=a\n",
    "c=a.copy()\n",
    "c.remove(1+1j)\n",
    "print(a)\n",
    "print(b)\n",
    "print(c)"
   ]
  },
  {
   "cell_type": "code",
   "execution_count": 137,
   "id": "48278d32-7d79-4132-b70a-8ccffb4c4cf0",
   "metadata": {},
   "outputs": [
    {
     "name": "stdout",
     "output_type": "stream",
     "text": [
      "{(2+2j), (3+3j), (1+1j)}\n",
      "{(2+2j), (3+3j), (1+1j)}\n",
      "{(2+2j), (3+3j)}\n"
     ]
    }
   ],
   "source": [
    "a={1+1j,2+2j,3+3j}\n",
    "b=a\n",
    "c=a.copy()\n",
    "c.discard(1+1j)\n",
    "print(a)\n",
    "print(b)\n",
    "print(c)"
   ]
  },
  {
   "cell_type": "code",
   "execution_count": 138,
   "id": "f4033a03-9977-405b-9370-68fab265227d",
   "metadata": {},
   "outputs": [
    {
     "name": "stdout",
     "output_type": "stream",
     "text": [
      "{(2+2j), (3+3j), (1+1j)}\n",
      "{(2+2j), (3+3j), (1+1j)}\n",
      "set()\n"
     ]
    }
   ],
   "source": [
    "a={1+1j,2+2j,3+3j}\n",
    "b=a\n",
    "c=a.copy()\n",
    "c.clear() #clear takes no arguement(TypeError)\n",
    "print(a)\n",
    "print(b)\n",
    "print(c)"
   ]
  },
  {
   "cell_type": "code",
   "execution_count": 139,
   "id": "5d9b9264-c78e-4dfe-be3e-e44e889e13d7",
   "metadata": {},
   "outputs": [
    {
     "name": "stdout",
     "output_type": "stream",
     "text": [
      "{(2+2j), (3+3j), (1+1j)}\n",
      "{(2+2j), (3+3j), (1+1j)}\n",
      "{(2+2j), (3+3j), (1+1j)}\n"
     ]
    }
   ],
   "source": [
    "a={1+1j,2+2j,3+3j}\n",
    "b=a\n",
    "c=a.copy()\n",
    "c.discard(3+4j)\n",
    "print(a)\n",
    "print(b)\n",
    "print(c)           "
   ]
  },
  {
   "cell_type": "code",
   "execution_count": 140,
   "id": "2b206867-5f44-4aa7-9e52-7a780504975c",
   "metadata": {},
   "outputs": [
    {
     "ename": "KeyError",
     "evalue": "(3+4j)",
     "output_type": "error",
     "traceback": [
      "\u001b[1;31m---------------------------------------------------------------------------\u001b[0m",
      "\u001b[1;31mKeyError\u001b[0m                                  Traceback (most recent call last)",
      "Cell \u001b[1;32mIn[140], line 4\u001b[0m\n\u001b[0;32m      2\u001b[0m b\u001b[38;5;241m=\u001b[39ma\n\u001b[0;32m      3\u001b[0m c\u001b[38;5;241m=\u001b[39ma\u001b[38;5;241m.\u001b[39mcopy()\n\u001b[1;32m----> 4\u001b[0m \u001b[43mc\u001b[49m\u001b[38;5;241;43m.\u001b[39;49m\u001b[43mremove\u001b[49m\u001b[43m(\u001b[49m\u001b[38;5;241;43m3\u001b[39;49m\u001b[38;5;241;43m+\u001b[39;49m\u001b[38;5;241;43m4\u001b[39;49m\u001b[43mj\u001b[49m\u001b[43m)\u001b[49m\n\u001b[0;32m      5\u001b[0m \u001b[38;5;28mprint\u001b[39m(a)\n\u001b[0;32m      6\u001b[0m \u001b[38;5;28mprint\u001b[39m(b)\n",
      "\u001b[1;31mKeyError\u001b[0m: (3+4j)"
     ]
    }
   ],
   "source": [
    "a={1+1j,2+2j,3+3j}\n",
    "b=a\n",
    "c=a.copy()\n",
    "c.remove(3+4j)\n",
    "print(a)\n",
    "print(b)\n",
    "print(c)\n",
    "'''use discard if you're not sure whether the element is in the set and you want to avoid errors\n",
    "    and use remove if you want an error to be raised when the element is absent.'''"
   ]
  },
  {
   "cell_type": "code",
   "execution_count": null,
   "id": "6e962fed-01aa-4e23-8871-49e3e8d0fb8c",
   "metadata": {},
   "outputs": [],
   "source": []
  }
 ],
 "metadata": {
  "kernelspec": {
   "display_name": "Python 3 (ipykernel)",
   "language": "python",
   "name": "python3"
  },
  "language_info": {
   "codemirror_mode": {
    "name": "ipython",
    "version": 3
   },
   "file_extension": ".py",
   "mimetype": "text/x-python",
   "name": "python",
   "nbconvert_exporter": "python",
   "pygments_lexer": "ipython3",
   "version": "3.13.1"
  }
 },
 "nbformat": 4,
 "nbformat_minor": 5
}
