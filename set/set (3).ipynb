{
 "cells": [
  {
   "cell_type": "code",
   "execution_count": null,
   "id": "eee5addb-8775-4709-b1d2-af7ab5ddd0d9",
   "metadata": {},
   "outputs": [],
   "source": [
    "INTEGERS:"
   ]
  },
  {
   "cell_type": "code",
   "execution_count": null,
   "id": "f0466e44-9da7-49b0-b208-670355439654",
   "metadata": {},
   "outputs": [],
   "source": [
    "---------"
   ]
  },
  {
   "cell_type": "code",
   "execution_count": null,
   "id": "1960b295-6b23-428d-bed7-ee26596c3425",
   "metadata": {},
   "outputs": [],
   "source": [
    "---------"
   ]
  },
  {
   "cell_type": "code",
   "execution_count": null,
   "id": "bfb586fa-d8ad-48f8-ae4a-cc000645a766",
   "metadata": {},
   "outputs": [],
   "source": [
    "---------"
   ]
  },
  {
   "cell_type": "code",
   "execution_count": 2,
   "id": "7c426590-75fb-4934-a0f8-b662a3ac362f",
   "metadata": {},
   "outputs": [
    {
     "name": "stdout",
     "output_type": "stream",
     "text": [
      "{1, 2, 3, 4, 5, 6}\n"
     ]
    }
   ],
   "source": [
    "#UNION\n",
    "a={1,2,3}\n",
    "b={4,5,6}\n",
    "c=a.union(b)\n",
    "print(c)"
   ]
  },
  {
   "cell_type": "code",
   "execution_count": 3,
   "id": "e5ea9ea9-1808-44be-9caa-b5911c152559",
   "metadata": {},
   "outputs": [
    {
     "name": "stdout",
     "output_type": "stream",
     "text": [
      "set()\n"
     ]
    }
   ],
   "source": [
    "#INTERSECTION\n",
    "a={1,2,3}\n",
    "b={4,5,6}\n",
    "c=a.intersection(b)\n",
    "print(c)"
   ]
  },
  {
   "cell_type": "code",
   "execution_count": 4,
   "id": "808d9151-a59a-47a4-9b2b-b4063754dfaa",
   "metadata": {},
   "outputs": [
    {
     "name": "stdout",
     "output_type": "stream",
     "text": [
      "{3}\n"
     ]
    }
   ],
   "source": [
    "a={1,2,3}\n",
    "b={3,5,6}\n",
    "c=a.intersection(b)\n",
    "print(c)"
   ]
  },
  {
   "cell_type": "code",
   "execution_count": 5,
   "id": "87655b16-f3ab-4f28-951e-dccaaf9ab652",
   "metadata": {},
   "outputs": [
    {
     "name": "stdout",
     "output_type": "stream",
     "text": [
      "{1, 2}\n"
     ]
    }
   ],
   "source": [
    "#DIFFERENCE(a-a&b)\n",
    "a={1,2,3}\n",
    "b={3,5,6}\n",
    "c=a.difference(b)\n",
    "print(c)"
   ]
  },
  {
   "cell_type": "code",
   "execution_count": 6,
   "id": "5ef99c80-618a-4f9d-affe-676009a68795",
   "metadata": {},
   "outputs": [
    {
     "name": "stdout",
     "output_type": "stream",
     "text": [
      "{1, 2, 5, 6}\n"
     ]
    }
   ],
   "source": [
    "#SYMMETRIC DIFFERENCE(a|b-a&b)\n",
    "a={1,2,3}\n",
    "b={3,5,6}\n",
    "c=a.symmetric_difference(b)\n",
    "print(c)"
   ]
  },
  {
   "cell_type": "code",
   "execution_count": 9,
   "id": "6a380529-b994-4c76-9452-1525805ea25d",
   "metadata": {},
   "outputs": [
    {
     "name": "stdout",
     "output_type": "stream",
     "text": [
      "None\n"
     ]
    }
   ],
   "source": [
    "a={1,2,3}\n",
    "b={1,6}\n",
    "c=a.update(b)\n",
    "print(c)"
   ]
  },
  {
   "cell_type": "code",
   "execution_count": 112,
   "id": "41a70278-df32-4de4-a648-92b779e4267e",
   "metadata": {},
   "outputs": [
    {
     "name": "stdout",
     "output_type": "stream",
     "text": [
      "{1, 2, 3, 6}\n",
      "{1, 2, 3, 6}\n",
      "{1, 2, 3}\n"
     ]
    }
   ],
   "source": [
    "#UPDATE\n",
    "a={1,2,3}\n",
    "c=a\n",
    "d=a.copy()\n",
    "b={1,6}\n",
    "a.update(b)\n",
    "print(a)\n",
    "print(c)\n",
    "print(d)"
   ]
  },
  {
   "cell_type": "code",
   "execution_count": 113,
   "id": "1a7fe013-9f96-4b65-b94f-0d3d3e88f31d",
   "metadata": {},
   "outputs": [
    {
     "name": "stdout",
     "output_type": "stream",
     "text": [
      "{1, 2, 3, 6}\n",
      "{1, 2, 3, 6}\n",
      "{1, 2, 3}\n"
     ]
    }
   ],
   "source": [
    "#UPDATE\n",
    "a={1,2,3}\n",
    "c=a\n",
    "d=a.copy()\n",
    "b={1,6}\n",
    "c.update(b)\n",
    "print(a)\n",
    "print(c)\n",
    "print(d)"
   ]
  },
  {
   "cell_type": "code",
   "execution_count": 114,
   "id": "17a00d48-1407-4c1a-8df6-91cbe2ef012b",
   "metadata": {},
   "outputs": [
    {
     "name": "stdout",
     "output_type": "stream",
     "text": [
      "{1, 2, 3}\n",
      "{1, 2, 3}\n",
      "{1, 2, 3, 6}\n"
     ]
    }
   ],
   "source": [
    "#UPDATE\n",
    "a={1,2,3}\n",
    "c=a\n",
    "d=a.copy()\n",
    "b={1,6}\n",
    "d.update(b)\n",
    "print(a)\n",
    "print(c)\n",
    "print(d)"
   ]
  },
  {
   "cell_type": "code",
   "execution_count": 116,
   "id": "eb96082f-2dfc-4199-9ae7-d7952d576843",
   "metadata": {},
   "outputs": [
    {
     "name": "stdout",
     "output_type": "stream",
     "text": [
      "{1}\n",
      "{1}\n",
      "{1, 2, 3}\n"
     ]
    }
   ],
   "source": [
    "#intersection_UPDATE\n",
    "a={1,2,3}\n",
    "b={1,6}\n",
    "c=a\n",
    "d=a.copy()\n",
    "a.intersection_update(b)\n",
    "print(a)\n",
    "print(c)\n",
    "print(d)"
   ]
  },
  {
   "cell_type": "code",
   "execution_count": 117,
   "id": "5ae58b7f-4ce9-4a69-ba7d-6bc1f529b4be",
   "metadata": {},
   "outputs": [
    {
     "name": "stdout",
     "output_type": "stream",
     "text": [
      "{1}\n",
      "{1}\n",
      "{1, 2, 3}\n"
     ]
    }
   ],
   "source": [
    "#intersection_UPDATE\n",
    "a={1,2,3}\n",
    "b={1,6}\n",
    "c=a\n",
    "d=a.copy()\n",
    "c.intersection_update(b)\n",
    "print(a)\n",
    "print(c)\n",
    "print(d)"
   ]
  },
  {
   "cell_type": "code",
   "execution_count": 118,
   "id": "815134ca-50ed-441c-aef4-af4360cf8d1c",
   "metadata": {},
   "outputs": [
    {
     "name": "stdout",
     "output_type": "stream",
     "text": [
      "{1, 2, 3}\n",
      "{1, 2, 3}\n",
      "{1}\n"
     ]
    }
   ],
   "source": [
    "#intersection_UPDATE\n",
    "a={1,2,3}\n",
    "b={1,6}\n",
    "c=a\n",
    "d=a.copy()\n",
    "d.intersection_update(b)\n",
    "print(a)\n",
    "print(c)\n",
    "print(d)"
   ]
  },
  {
   "cell_type": "code",
   "execution_count": 119,
   "id": "cc09b2a2-c056-4929-9803-803041d042af",
   "metadata": {},
   "outputs": [
    {
     "name": "stdout",
     "output_type": "stream",
     "text": [
      "{2, 3}\n",
      "{2, 3}\n",
      "{1, 2, 3}\n"
     ]
    }
   ],
   "source": [
    "#difference_UPDATE\n",
    "a={1,2,3}\n",
    "b={1,6}\n",
    "c=a\n",
    "d=a.copy()\n",
    "a.difference_update(b)\n",
    "print(a)\n",
    "print(c)\n",
    "print(d)"
   ]
  },
  {
   "cell_type": "code",
   "execution_count": 120,
   "id": "36eac44a-16c4-4577-b3d5-04e2c68d0727",
   "metadata": {},
   "outputs": [
    {
     "name": "stdout",
     "output_type": "stream",
     "text": [
      "{2, 3}\n",
      "{2, 3}\n",
      "{1, 2, 3}\n"
     ]
    }
   ],
   "source": [
    "#difference_UPDATE\n",
    "a={1,2,3}\n",
    "b={1,6}\n",
    "c=a\n",
    "d=a.copy()\n",
    "c.difference_update(b)\n",
    "print(a)\n",
    "print(c)\n",
    "print(d)"
   ]
  },
  {
   "cell_type": "code",
   "execution_count": 121,
   "id": "1aee692f-77bf-4b7e-8e0d-2512c29f8184",
   "metadata": {},
   "outputs": [
    {
     "name": "stdout",
     "output_type": "stream",
     "text": [
      "{1, 2, 3}\n",
      "{1, 2, 3}\n",
      "{2, 3}\n"
     ]
    }
   ],
   "source": [
    "#difference_UPDATE\n",
    "a={1,2,3}\n",
    "b={1,6}\n",
    "c=a\n",
    "d=a.copy()\n",
    "d.difference_update(b)\n",
    "print(a)\n",
    "print(c)\n",
    "print(d)"
   ]
  },
  {
   "cell_type": "code",
   "execution_count": 122,
   "id": "42d0b9d3-3201-4f53-aa15-1efb4ce95daf",
   "metadata": {},
   "outputs": [
    {
     "name": "stdout",
     "output_type": "stream",
     "text": [
      "{2, 3, 6}\n",
      "{2, 3, 6}\n",
      "{1, 2, 3}\n"
     ]
    }
   ],
   "source": [
    "#symmetric_difference_UPDATE\n",
    "a={1,2,3}\n",
    "b={1,6}\n",
    "c=a\n",
    "d=a.copy()\n",
    "a.symmetric_difference_update(b)\n",
    "print(a)\n",
    "print(c)\n",
    "print(d)"
   ]
  },
  {
   "cell_type": "code",
   "execution_count": 123,
   "id": "59e1896a-2339-426c-b75b-ef898629e142",
   "metadata": {},
   "outputs": [
    {
     "name": "stdout",
     "output_type": "stream",
     "text": [
      "{2, 3, 6}\n",
      "{2, 3, 6}\n",
      "{1, 2, 3}\n"
     ]
    }
   ],
   "source": [
    "#symmetric_difference_UPDATE\n",
    "a={1,2,3}\n",
    "b={1,6}\n",
    "c=a\n",
    "d=a.copy()\n",
    "c.symmetric_difference_update(b)\n",
    "print(a)\n",
    "print(c)\n",
    "print(d)"
   ]
  },
  {
   "cell_type": "code",
   "execution_count": 124,
   "id": "05cff721-628f-40d7-94dd-dd6ac9814a59",
   "metadata": {},
   "outputs": [
    {
     "name": "stdout",
     "output_type": "stream",
     "text": [
      "{1, 2, 3}\n",
      "{1, 2, 3}\n",
      "{2, 3, 6}\n"
     ]
    }
   ],
   "source": [
    "#symmetric_difference_UPDATE\n",
    "a={1,2,3}\n",
    "b={1,6}\n",
    "c=a\n",
    "d=a.copy()\n",
    "d.symmetric_difference_update(b)\n",
    "print(a)\n",
    "print(c)\n",
    "print(d)"
   ]
  },
  {
   "cell_type": "code",
   "execution_count": 20,
   "id": "2421adc6-8795-4d7e-8caa-73ab4ed06927",
   "metadata": {},
   "outputs": [
    {
     "name": "stdout",
     "output_type": "stream",
     "text": [
      "True\n"
     ]
    }
   ],
   "source": [
    "#issuperset\n",
    "a={1,2,3}\n",
    "b={2}\n",
    "c=a.issuperset(b)\n",
    "print(c)"
   ]
  },
  {
   "cell_type": "code",
   "execution_count": 22,
   "id": "fffd1730-8e84-4c14-952f-8b1ba2130f0a",
   "metadata": {},
   "outputs": [
    {
     "name": "stdout",
     "output_type": "stream",
     "text": [
      "False\n"
     ]
    }
   ],
   "source": [
    "#isdisjoint\n",
    "a={1,2,3}\n",
    "b={2}\n",
    "c=a.isdisjoint(b)\n",
    "print(c)"
   ]
  },
  {
   "cell_type": "code",
   "execution_count": 87,
   "id": "d143e545-2563-412c-9ac8-138e81640f88",
   "metadata": {},
   "outputs": [
    {
     "ename": "AttributeError",
     "evalue": "'set' object has no attribute 'sort'",
     "output_type": "error",
     "traceback": [
      "\u001b[1;31m---------------------------------------------------------------------------\u001b[0m",
      "\u001b[1;31mAttributeError\u001b[0m                            Traceback (most recent call last)",
      "Cell \u001b[1;32mIn[87], line 2\u001b[0m\n\u001b[0;32m      1\u001b[0m a\u001b[38;5;241m=\u001b[39m{\u001b[38;5;241m1\u001b[39m,\u001b[38;5;241m3\u001b[39m,\u001b[38;5;241m4\u001b[39m}\n\u001b[1;32m----> 2\u001b[0m \u001b[43ma\u001b[49m\u001b[38;5;241;43m.\u001b[39;49m\u001b[43msort\u001b[49m()\n\u001b[0;32m      3\u001b[0m \u001b[38;5;28mprint\u001b[39m(a)\n",
      "\u001b[1;31mAttributeError\u001b[0m: 'set' object has no attribute 'sort'"
     ]
    }
   ],
   "source": [
    "a={1,3,4}\n",
    "a.sort()\n",
    "print(a)"
   ]
  },
  {
   "cell_type": "code",
   "execution_count": 88,
   "id": "01af0db2-730e-43c5-86ad-adbe5a302b78",
   "metadata": {},
   "outputs": [
    {
     "ename": "AttributeError",
     "evalue": "'set' object has no attribute 'reverse'",
     "output_type": "error",
     "traceback": [
      "\u001b[1;31m---------------------------------------------------------------------------\u001b[0m",
      "\u001b[1;31mAttributeError\u001b[0m                            Traceback (most recent call last)",
      "Cell \u001b[1;32mIn[88], line 2\u001b[0m\n\u001b[0;32m      1\u001b[0m a\u001b[38;5;241m=\u001b[39m{\u001b[38;5;241m1\u001b[39m,\u001b[38;5;241m3\u001b[39m,\u001b[38;5;241m4\u001b[39m}\n\u001b[1;32m----> 2\u001b[0m \u001b[43ma\u001b[49m\u001b[38;5;241;43m.\u001b[39;49m\u001b[43mreverse\u001b[49m()\n\u001b[0;32m      3\u001b[0m \u001b[38;5;28mprint\u001b[39m(a)\n",
      "\u001b[1;31mAttributeError\u001b[0m: 'set' object has no attribute 'reverse'"
     ]
    }
   ],
   "source": [
    "a={1,3,4}\n",
    "a.reverse()\n",
    "print(a)"
   ]
  },
  {
   "cell_type": "code",
   "execution_count": 89,
   "id": "1e4d5b36-8d77-4ae7-890e-31760c01c106",
   "metadata": {},
   "outputs": [
    {
     "name": "stdout",
     "output_type": "stream",
     "text": [
      "3\n"
     ]
    }
   ],
   "source": [
    "a={1,3,4}\n",
    "print(len(a))"
   ]
  },
  {
   "cell_type": "code",
   "execution_count": 93,
   "id": "f80a2219-3e8c-4fd7-8853-3e17453edaa9",
   "metadata": {},
   "outputs": [
    {
     "ename": "AttributeError",
     "evalue": "'set' object has no attribute 'count'",
     "output_type": "error",
     "traceback": [
      "\u001b[1;31m---------------------------------------------------------------------------\u001b[0m",
      "\u001b[1;31mAttributeError\u001b[0m                            Traceback (most recent call last)",
      "Cell \u001b[1;32mIn[93], line 2\u001b[0m\n\u001b[0;32m      1\u001b[0m a\u001b[38;5;241m=\u001b[39m{\u001b[38;5;241m1\u001b[39m,\u001b[38;5;241m3\u001b[39m,\u001b[38;5;241m4\u001b[39m}\n\u001b[1;32m----> 2\u001b[0m \u001b[38;5;28mprint\u001b[39m(\u001b[43ma\u001b[49m\u001b[38;5;241;43m.\u001b[39;49m\u001b[43mcount\u001b[49m(\u001b[38;5;241m1\u001b[39m))\n",
      "\u001b[1;31mAttributeError\u001b[0m: 'set' object has no attribute 'count'"
     ]
    }
   ],
   "source": [
    "a={1,3,4}\n",
    "print(a.count(1))"
   ]
  },
  {
   "cell_type": "code",
   "execution_count": null,
   "id": "ff6d37ec-6cee-4f4b-a8c5-cbc29af03355",
   "metadata": {},
   "outputs": [],
   "source": [
    "FLOATS:"
   ]
  },
  {
   "cell_type": "code",
   "execution_count": null,
   "id": "ee905cc3-780f-4501-a8e6-3ef63dd69c22",
   "metadata": {},
   "outputs": [],
   "source": [
    "--------"
   ]
  },
  {
   "cell_type": "code",
   "execution_count": null,
   "id": "bfd434de-1c26-4ca9-9877-543300cd7675",
   "metadata": {},
   "outputs": [],
   "source": [
    "--------"
   ]
  },
  {
   "cell_type": "code",
   "execution_count": null,
   "id": "d38b8a9b-5552-4751-a30f-2e7d98e426f6",
   "metadata": {},
   "outputs": [],
   "source": [
    "--------"
   ]
  },
  {
   "cell_type": "code",
   "execution_count": 23,
   "id": "96cc820e-82fe-4a7a-ae99-2e87d7b7fc70",
   "metadata": {},
   "outputs": [
    {
     "name": "stdout",
     "output_type": "stream",
     "text": [
      "{1.5, 2.5, 3.5, 4.5, 5.5, 6.5}\n"
     ]
    }
   ],
   "source": [
    "#UNION\n",
    "a={1.5,2.5,3.5}\n",
    "b={4.5,5.5,6.5}\n",
    "c=a.union(b)\n",
    "print(c)"
   ]
  },
  {
   "cell_type": "code",
   "execution_count": 24,
   "id": "36cf8a8c-5f5b-4901-9e3c-63ab83d0df2a",
   "metadata": {},
   "outputs": [
    {
     "name": "stdout",
     "output_type": "stream",
     "text": [
      "set()\n"
     ]
    }
   ],
   "source": [
    "#INTERSECTION\n",
    "a={1.5,2.5,3.5}\n",
    "b={4.5,5.5,6.5}\n",
    "c=a.intersection(b)\n",
    "print(c)"
   ]
  },
  {
   "cell_type": "code",
   "execution_count": 25,
   "id": "9bd35ebd-64e6-4a21-a578-b2288b67e1ce",
   "metadata": {},
   "outputs": [
    {
     "name": "stdout",
     "output_type": "stream",
     "text": [
      "{3.5}\n"
     ]
    }
   ],
   "source": [
    "a={1.5,2.5,3.5}\n",
    "b={3.5,5.5,6.5}\n",
    "c=a.intersection(b)\n",
    "print(c)"
   ]
  },
  {
   "cell_type": "code",
   "execution_count": 26,
   "id": "4fd9f209-7fd2-4cc7-82c7-4fbc233dce37",
   "metadata": {},
   "outputs": [
    {
     "name": "stdout",
     "output_type": "stream",
     "text": [
      "{1.5, 2.5}\n"
     ]
    }
   ],
   "source": [
    "#DIFFERENCE(a-a&b)\n",
    "a={1.5,2.5,3.5}\n",
    "b={3.5,5.5,6.5}\n",
    "c=a.difference(b)\n",
    "print(c)"
   ]
  },
  {
   "cell_type": "code",
   "execution_count": 27,
   "id": "f6cdc54e-0c51-46fb-a879-126aa593c7d6",
   "metadata": {},
   "outputs": [
    {
     "name": "stdout",
     "output_type": "stream",
     "text": [
      "{1.5, 2.5, 5.5, 6.5}\n"
     ]
    }
   ],
   "source": [
    "#SYMMETRIC DIFFERENCE(a|b-a&b)\n",
    "a={1.5,2.5,3.5}\n",
    "b={3.5,5.5,6.5}\n",
    "c=a.symmetric_difference(b)\n",
    "print(c)"
   ]
  },
  {
   "cell_type": "code",
   "execution_count": 126,
   "id": "e4549925-63c8-4ba2-964b-c7a0956ada4e",
   "metadata": {},
   "outputs": [
    {
     "name": "stdout",
     "output_type": "stream",
     "text": [
      "{1.5, 2.5, 3.5, 6.5}\n",
      "{1.5, 2.5, 3.5, 6.5}\n",
      "{1.5, 2.5, 3.5}\n"
     ]
    }
   ],
   "source": [
    "#UPDATE\n",
    "a={1.5,2.5,3.5}\n",
    "b={1.5,6.5}\n",
    "c=a\n",
    "d=a.copy()\n",
    "a.update(b)\n",
    "print(a)\n",
    "print(c)\n",
    "print(d)"
   ]
  },
  {
   "cell_type": "code",
   "execution_count": 127,
   "id": "5579b8ad-9058-47c7-a1fb-1dd3afb2353d",
   "metadata": {},
   "outputs": [
    {
     "name": "stdout",
     "output_type": "stream",
     "text": [
      "{1.5, 2.5, 3.5, 6.5}\n",
      "{1.5, 2.5, 3.5, 6.5}\n",
      "{1.5, 2.5, 3.5}\n"
     ]
    }
   ],
   "source": [
    "#UPDATE\n",
    "a={1.5,2.5,3.5}\n",
    "b={1.5,6.5}\n",
    "c=a\n",
    "d=a.copy()\n",
    "c.update(b)\n",
    "print(a)\n",
    "print(c)\n",
    "print(d)"
   ]
  },
  {
   "cell_type": "code",
   "execution_count": 128,
   "id": "696a0714-04bc-4343-8c54-9ba80ec5106a",
   "metadata": {},
   "outputs": [
    {
     "name": "stdout",
     "output_type": "stream",
     "text": [
      "{1.5, 2.5, 3.5}\n",
      "{1.5, 2.5, 3.5}\n",
      "{1.5, 2.5, 3.5, 6.5}\n"
     ]
    }
   ],
   "source": [
    "#UPDATE\n",
    "a={1.5,2.5,3.5}\n",
    "b={1.5,6.5}\n",
    "c=a\n",
    "d=a.copy()\n",
    "d.update(b)\n",
    "print(a)\n",
    "print(c)\n",
    "print(d)"
   ]
  },
  {
   "cell_type": "code",
   "execution_count": 129,
   "id": "37d191cb-d532-4976-93f5-a00fc0d00fb9",
   "metadata": {},
   "outputs": [
    {
     "name": "stdout",
     "output_type": "stream",
     "text": [
      "{3.5}\n",
      "{3.5}\n",
      "{1.5, 2.5, 3.5}\n"
     ]
    }
   ],
   "source": [
    "#intersection_update\n",
    "a={1.5,2.5,3.5}\n",
    "b={3.5,4.5}\n",
    "c=a\n",
    "d=a.copy()\n",
    "a.intersection_update(b)\n",
    "print(a)\n",
    "print(c)\n",
    "print(d)"
   ]
  },
  {
   "cell_type": "code",
   "execution_count": 130,
   "id": "5646284b-d223-40e5-bb46-b498f5647e2e",
   "metadata": {},
   "outputs": [
    {
     "name": "stdout",
     "output_type": "stream",
     "text": [
      "{3.5}\n",
      "{3.5}\n",
      "{1.5, 2.5, 3.5}\n"
     ]
    }
   ],
   "source": [
    "#intersection_update\n",
    "a={1.5,2.5,3.5}\n",
    "b={3.5,4.5}\n",
    "c=a\n",
    "d=a.copy()\n",
    "c.intersection_update(b)\n",
    "print(a)\n",
    "print(c)\n",
    "print(d)"
   ]
  },
  {
   "cell_type": "code",
   "execution_count": 131,
   "id": "e5191552-1efc-4d4c-9f58-433910febd22",
   "metadata": {},
   "outputs": [
    {
     "name": "stdout",
     "output_type": "stream",
     "text": [
      "{1.5, 2.5, 3.5}\n",
      "{1.5, 2.5, 3.5}\n",
      "{3.5}\n"
     ]
    }
   ],
   "source": [
    "#intersection_update\n",
    "a={1.5,2.5,3.5}\n",
    "b={3.5,4.5}\n",
    "c=a\n",
    "d=a.copy()\n",
    "d.intersection_update(b)\n",
    "print(a)\n",
    "print(c)\n",
    "print(d)"
   ]
  },
  {
   "cell_type": "code",
   "execution_count": 132,
   "id": "13d4ca2b-b7a6-4cf1-8d7d-33de49e22224",
   "metadata": {},
   "outputs": [
    {
     "name": "stdout",
     "output_type": "stream",
     "text": [
      "{1.5, 2.5}\n",
      "{1.5, 2.5}\n",
      "{1.5, 2.5, 3.5}\n"
     ]
    }
   ],
   "source": [
    "#difference_update\n",
    "a={1.5,2.5,3.5}\n",
    "b={3.5,4.5}\n",
    "c=a\n",
    "d=a.copy()\n",
    "a.difference_update(b)\n",
    "print(a)\n",
    "print(c)\n",
    "print(d)"
   ]
  },
  {
   "cell_type": "code",
   "execution_count": 134,
   "id": "9fe076b3-a221-4a02-b25a-33eec99db1fe",
   "metadata": {},
   "outputs": [
    {
     "name": "stdout",
     "output_type": "stream",
     "text": [
      "{1.5, 2.5}\n",
      "{1.5, 2.5}\n",
      "{1.5, 2.5, 3.5}\n"
     ]
    }
   ],
   "source": [
    "#difference_update\n",
    "a={1.5,2.5,3.5}\n",
    "b={3.5,4.5}\n",
    "c=a\n",
    "d=a.copy()\n",
    "c.difference_update(b)\n",
    "print(a)\n",
    "print(c)\n",
    "print(d)"
   ]
  },
  {
   "cell_type": "code",
   "execution_count": 135,
   "id": "ba4ade06-d6c9-4ecf-bdc0-e31599be8426",
   "metadata": {},
   "outputs": [
    {
     "name": "stdout",
     "output_type": "stream",
     "text": [
      "{1.5, 2.5, 3.5}\n",
      "{1.5, 2.5, 3.5}\n",
      "{1.5, 2.5}\n"
     ]
    }
   ],
   "source": [
    "#difference_update\n",
    "a={1.5,2.5,3.5}\n",
    "b={3.5,4.5}\n",
    "c=a\n",
    "d=a.copy()\n",
    "d.difference_update(b)\n",
    "print(a)\n",
    "print(c)\n",
    "print(d)"
   ]
  },
  {
   "cell_type": "code",
   "execution_count": 136,
   "id": "02703d65-27a7-4b05-ad02-6896fe8abbb1",
   "metadata": {},
   "outputs": [
    {
     "name": "stdout",
     "output_type": "stream",
     "text": [
      "{1.5, 2.5, 4.5}\n",
      "{1.5, 2.5, 4.5}\n",
      "{1.5, 2.5, 3.5}\n"
     ]
    }
   ],
   "source": [
    "#symmetric_difference_update\n",
    "a={1.5,2.5,3.5}\n",
    "b={3.5,4.5}\n",
    "c=a\n",
    "d=a.copy()\n",
    "a.symmetric_difference_update(b)\n",
    "print(a)\n",
    "print(c)\n",
    "print(d)"
   ]
  },
  {
   "cell_type": "code",
   "execution_count": 137,
   "id": "a6f0e327-82af-44a6-8013-00f10c85dbbc",
   "metadata": {},
   "outputs": [
    {
     "name": "stdout",
     "output_type": "stream",
     "text": [
      "{1.5, 2.5, 4.5}\n",
      "{1.5, 2.5, 4.5}\n",
      "{1.5, 2.5, 3.5}\n"
     ]
    }
   ],
   "source": [
    "#symmetric_difference_update\n",
    "a={1.5,2.5,3.5}\n",
    "b={3.5,4.5}\n",
    "c=a\n",
    "d=a.copy()\n",
    "c.symmetric_difference_update(b)\n",
    "print(a)\n",
    "print(c)\n",
    "print(d)"
   ]
  },
  {
   "cell_type": "code",
   "execution_count": 139,
   "id": "3b55a317-c2f3-466d-b7e1-85d54fc190e1",
   "metadata": {},
   "outputs": [
    {
     "name": "stdout",
     "output_type": "stream",
     "text": [
      "{1.5, 2.5, 3.5}\n",
      "{1.5, 2.5, 3.5}\n",
      "{1.5, 2.5, 4.5}\n"
     ]
    }
   ],
   "source": [
    "#symmetric_difference_update\n",
    "a={1.5,2.5,3.5}\n",
    "b={3.5,4.5}\n",
    "c=a\n",
    "d=a.copy()\n",
    "d.symmetric_difference_update(b)\n",
    "print(a)\n",
    "print(c)\n",
    "print(d)"
   ]
  },
  {
   "cell_type": "code",
   "execution_count": 36,
   "id": "c6e07729-e1d6-4b11-be40-932a3ff09d80",
   "metadata": {},
   "outputs": [
    {
     "name": "stdout",
     "output_type": "stream",
     "text": [
      "True\n"
     ]
    }
   ],
   "source": [
    "#issubset\n",
    "a={1.5,2.5,3.5}\n",
    "b={3.5}\n",
    "print(b.issubset(a))"
   ]
  },
  {
   "cell_type": "code",
   "execution_count": 37,
   "id": "8820ec5e-5c8e-4e16-b8cb-13a51503f048",
   "metadata": {},
   "outputs": [
    {
     "name": "stdout",
     "output_type": "stream",
     "text": [
      "True\n"
     ]
    }
   ],
   "source": [
    "#issuperset\n",
    "a={1.5,2.5,3.5}\n",
    "b={3.5}\n",
    "print(a.issuperset(b))"
   ]
  },
  {
   "cell_type": "code",
   "execution_count": 41,
   "id": "1767252f-deef-4d99-8732-d88d5fc5e2c1",
   "metadata": {},
   "outputs": [
    {
     "name": "stdout",
     "output_type": "stream",
     "text": [
      "True\n"
     ]
    }
   ],
   "source": [
    "#isdisjoint\n",
    "a={1.5,2.5,3.5}\n",
    "b={4.5}\n",
    "print(b.isdisjoint(a))"
   ]
  },
  {
   "cell_type": "code",
   "execution_count": 94,
   "id": "aeb4a0ed-2103-4bb3-abce-c6bc070d295f",
   "metadata": {},
   "outputs": [
    {
     "ename": "AttributeError",
     "evalue": "'set' object has no attribute 'sort'",
     "output_type": "error",
     "traceback": [
      "\u001b[1;31m---------------------------------------------------------------------------\u001b[0m",
      "\u001b[1;31mAttributeError\u001b[0m                            Traceback (most recent call last)",
      "Cell \u001b[1;32mIn[94], line 2\u001b[0m\n\u001b[0;32m      1\u001b[0m a\u001b[38;5;241m=\u001b[39m{\u001b[38;5;241m1.5\u001b[39m,\u001b[38;5;241m3.5\u001b[39m,\u001b[38;5;241m4.5\u001b[39m}\n\u001b[1;32m----> 2\u001b[0m \u001b[43ma\u001b[49m\u001b[38;5;241;43m.\u001b[39;49m\u001b[43msort\u001b[49m()\n\u001b[0;32m      3\u001b[0m \u001b[38;5;28mprint\u001b[39m(a)\n",
      "\u001b[1;31mAttributeError\u001b[0m: 'set' object has no attribute 'sort'"
     ]
    }
   ],
   "source": [
    "a={1.5,3.5,4.5}\n",
    "a.sort()\n",
    "print(a)"
   ]
  },
  {
   "cell_type": "code",
   "execution_count": 95,
   "id": "8b1e0628-3eb8-4714-8825-6d81bc4306af",
   "metadata": {},
   "outputs": [
    {
     "ename": "AttributeError",
     "evalue": "'set' object has no attribute 'reverse'",
     "output_type": "error",
     "traceback": [
      "\u001b[1;31m---------------------------------------------------------------------------\u001b[0m",
      "\u001b[1;31mAttributeError\u001b[0m                            Traceback (most recent call last)",
      "Cell \u001b[1;32mIn[95], line 2\u001b[0m\n\u001b[0;32m      1\u001b[0m a\u001b[38;5;241m=\u001b[39m{\u001b[38;5;241m1.5\u001b[39m,\u001b[38;5;241m3.5\u001b[39m,\u001b[38;5;241m4.5\u001b[39m}\n\u001b[1;32m----> 2\u001b[0m \u001b[43ma\u001b[49m\u001b[38;5;241;43m.\u001b[39;49m\u001b[43mreverse\u001b[49m()\n\u001b[0;32m      3\u001b[0m \u001b[38;5;28mprint\u001b[39m(a)\n",
      "\u001b[1;31mAttributeError\u001b[0m: 'set' object has no attribute 'reverse'"
     ]
    }
   ],
   "source": [
    "a={1.5,3.5,4.5}\n",
    "a.reverse()\n",
    "print(a)"
   ]
  },
  {
   "cell_type": "code",
   "execution_count": 96,
   "id": "029c6599-c663-414c-8a32-ae0b5399c115",
   "metadata": {},
   "outputs": [
    {
     "name": "stdout",
     "output_type": "stream",
     "text": [
      "3\n"
     ]
    }
   ],
   "source": [
    "a={1.5,3.5,4.5}\n",
    "print(len(a))"
   ]
  },
  {
   "cell_type": "code",
   "execution_count": 97,
   "id": "5b3d7e07-8164-4a71-ac46-1470c6af660d",
   "metadata": {},
   "outputs": [
    {
     "ename": "AttributeError",
     "evalue": "'set' object has no attribute 'count'",
     "output_type": "error",
     "traceback": [
      "\u001b[1;31m---------------------------------------------------------------------------\u001b[0m",
      "\u001b[1;31mAttributeError\u001b[0m                            Traceback (most recent call last)",
      "Cell \u001b[1;32mIn[97], line 2\u001b[0m\n\u001b[0;32m      1\u001b[0m a\u001b[38;5;241m=\u001b[39m{\u001b[38;5;241m1.5\u001b[39m,\u001b[38;5;241m3.5\u001b[39m,\u001b[38;5;241m4.5\u001b[39m}\n\u001b[1;32m----> 2\u001b[0m \u001b[38;5;28mprint\u001b[39m(\u001b[43ma\u001b[49m\u001b[38;5;241;43m.\u001b[39;49m\u001b[43mcount\u001b[49m(\u001b[38;5;241m2\u001b[39m))\n",
      "\u001b[1;31mAttributeError\u001b[0m: 'set' object has no attribute 'count'"
     ]
    }
   ],
   "source": [
    "a={1.5,3.5,4.5}\n",
    "print(a.count(2))"
   ]
  },
  {
   "cell_type": "code",
   "execution_count": null,
   "id": "74101be2-9867-49bd-962c-f987ff8306f6",
   "metadata": {},
   "outputs": [],
   "source": [
    "COMPLEX:"
   ]
  },
  {
   "cell_type": "code",
   "execution_count": null,
   "id": "d0efc491-de31-4a49-b078-4dacee646f45",
   "metadata": {},
   "outputs": [],
   "source": [
    "---------"
   ]
  },
  {
   "cell_type": "code",
   "execution_count": null,
   "id": "f68137be-ed08-46b3-b8c4-5fa90e5ee689",
   "metadata": {},
   "outputs": [],
   "source": [
    "---------"
   ]
  },
  {
   "cell_type": "code",
   "execution_count": null,
   "id": "5c2cb1cc-0660-49ec-b761-9912f4f1a09f",
   "metadata": {},
   "outputs": [],
   "source": [
    "---------"
   ]
  },
  {
   "cell_type": "code",
   "execution_count": 42,
   "id": "95d3693b-066a-4448-ae10-8e66916b5fec",
   "metadata": {},
   "outputs": [
    {
     "name": "stdout",
     "output_type": "stream",
     "text": [
      "{(2+5j), (4+5j), (1+2j), (2+2j), (3+4j)}\n"
     ]
    }
   ],
   "source": [
    "#UNION\n",
    "a={3+4j,1+2j,2+5j}\n",
    "b={4+5j,2+2j}\n",
    "c=a.union(b)\n",
    "print(c)"
   ]
  },
  {
   "cell_type": "code",
   "execution_count": 43,
   "id": "2a37984d-a34d-4177-a480-718d0d31d5f2",
   "metadata": {},
   "outputs": [
    {
     "name": "stdout",
     "output_type": "stream",
     "text": [
      "set()\n"
     ]
    }
   ],
   "source": [
    "#INTERSECTION\n",
    "a={3+4j,1+2j,2+5j}\n",
    "b={4+5j,2+2j}\n",
    "c=a.intersection(b)\n",
    "print(c)"
   ]
  },
  {
   "cell_type": "code",
   "execution_count": 45,
   "id": "c971bbfd-83d5-4371-a934-d96c2c99ec16",
   "metadata": {},
   "outputs": [
    {
     "name": "stdout",
     "output_type": "stream",
     "text": [
      "{(2+5j), (1+2j)}\n"
     ]
    }
   ],
   "source": [
    "#DIFFERENCE\n",
    "a={3+4j,1+2j,2+5j}\n",
    "b={3+4j,2+2j}\n",
    "c=a.difference(b)\n",
    "print(c)"
   ]
  },
  {
   "cell_type": "code",
   "execution_count": 47,
   "id": "db61c7d9-7ef4-4023-9c57-bda333e375f9",
   "metadata": {},
   "outputs": [
    {
     "name": "stdout",
     "output_type": "stream",
     "text": [
      "{(2+2j), (2+5j), (1+2j)}\n"
     ]
    }
   ],
   "source": [
    "#symmtric_DIFFERENCE\n",
    "a={3+4j,1+2j,2+5j}\n",
    "b={3+4j,2+2j}\n",
    "c=a.symmetric_difference(b)\n",
    "print(c)"
   ]
  },
  {
   "cell_type": "code",
   "execution_count": 140,
   "id": "68aae67c-c3c8-4653-9060-977e7ae29a01",
   "metadata": {},
   "outputs": [
    {
     "name": "stdout",
     "output_type": "stream",
     "text": [
      "{(2+5j), (4+5j), (1+2j), (2+2j), (3+4j)}\n",
      "{(2+5j), (4+5j), (1+2j), (2+2j), (3+4j)}\n",
      "{(2+5j), (3+4j), (1+2j)}\n"
     ]
    }
   ],
   "source": [
    "#update\n",
    "a={3+4j,1+2j,2+5j}\n",
    "b={4+5j,2+2j}\n",
    "c=a\n",
    "d=a.copy()\n",
    "a.update(b)\n",
    "print(a)\n",
    "print(c)\n",
    "print(d)"
   ]
  },
  {
   "cell_type": "code",
   "execution_count": 141,
   "id": "469053f0-f2f6-4747-afa4-e86cd5f605df",
   "metadata": {},
   "outputs": [
    {
     "name": "stdout",
     "output_type": "stream",
     "text": [
      "{(2+5j), (4+5j), (1+2j), (2+2j), (3+4j)}\n",
      "{(2+5j), (4+5j), (1+2j), (2+2j), (3+4j)}\n",
      "{(2+5j), (3+4j), (1+2j)}\n"
     ]
    }
   ],
   "source": [
    "#update\n",
    "a={3+4j,1+2j,2+5j}\n",
    "b={4+5j,2+2j}\n",
    "c=a\n",
    "d=a.copy()\n",
    "c.update(b)\n",
    "print(a)\n",
    "print(c)\n",
    "print(d)"
   ]
  },
  {
   "cell_type": "code",
   "execution_count": 142,
   "id": "7c723b5a-aef1-4fb5-9609-6fe87276a826",
   "metadata": {},
   "outputs": [
    {
     "name": "stdout",
     "output_type": "stream",
     "text": [
      "{(2+5j), (3+4j), (1+2j)}\n",
      "{(2+5j), (3+4j), (1+2j)}\n",
      "{(2+5j), (4+5j), (1+2j), (2+2j), (3+4j)}\n"
     ]
    }
   ],
   "source": [
    "#update\n",
    "a={3+4j,1+2j,2+5j}\n",
    "b={4+5j,2+2j}\n",
    "c=a\n",
    "d=a.copy()\n",
    "d.update(b)\n",
    "print(a)\n",
    "print(c)\n",
    "print(d)"
   ]
  },
  {
   "cell_type": "code",
   "execution_count": 143,
   "id": "51a19fbf-83a0-440b-8505-c2854127aedd",
   "metadata": {},
   "outputs": [
    {
     "name": "stdout",
     "output_type": "stream",
     "text": [
      "{(3+4j)}\n",
      "{(3+4j)}\n",
      "{(2+5j), (3+4j), (1+2j)}\n"
     ]
    }
   ],
   "source": [
    "#intersection_update\n",
    "a={3+4j,1+2j,2+5j}\n",
    "b={3+4j,2+2j}\n",
    "c=a\n",
    "d=a.copy()\n",
    "a.intersection_update(b)\n",
    "print(a)\n",
    "print(c)\n",
    "print(d)"
   ]
  },
  {
   "cell_type": "code",
   "execution_count": 144,
   "id": "7f19f902-f681-48bc-bf34-c0e0534a229e",
   "metadata": {},
   "outputs": [
    {
     "name": "stdout",
     "output_type": "stream",
     "text": [
      "{(3+4j)}\n",
      "{(3+4j)}\n",
      "{(2+5j), (3+4j), (1+2j)}\n"
     ]
    }
   ],
   "source": [
    "#intersection_update\n",
    "a={3+4j,1+2j,2+5j}\n",
    "b={3+4j,2+2j}\n",
    "c=a\n",
    "d=a.copy()\n",
    "c.intersection_update(b)\n",
    "print(a)\n",
    "print(c)\n",
    "print(d)"
   ]
  },
  {
   "cell_type": "code",
   "execution_count": 145,
   "id": "ceda2d82-9e79-42ee-a3b7-bb46e9ac25ab",
   "metadata": {},
   "outputs": [
    {
     "name": "stdout",
     "output_type": "stream",
     "text": [
      "{(2+5j), (3+4j), (1+2j)}\n",
      "{(2+5j), (3+4j), (1+2j)}\n",
      "{(3+4j)}\n"
     ]
    }
   ],
   "source": [
    "#intersection_update\n",
    "a={3+4j,1+2j,2+5j}\n",
    "b={3+4j,2+2j}\n",
    "c=a\n",
    "d=a.copy()\n",
    "d.intersection_update(b)\n",
    "print(a)\n",
    "print(c)\n",
    "print(d)"
   ]
  },
  {
   "cell_type": "code",
   "execution_count": 146,
   "id": "f7989483-7e05-4972-86ec-f3a01b7fc0ab",
   "metadata": {},
   "outputs": [
    {
     "name": "stdout",
     "output_type": "stream",
     "text": [
      "{(2+5j), (1+2j)}\n",
      "{(2+5j), (1+2j)}\n",
      "{(2+5j), (3+4j), (1+2j)}\n"
     ]
    }
   ],
   "source": [
    "#difference_update\n",
    "a={3+4j,1+2j,2+5j}\n",
    "b={3+4j,2+2j}\n",
    "c=a\n",
    "d=a.copy()\n",
    "a.difference_update(b)\n",
    "print(a)\n",
    "print(c)\n",
    "print(d)"
   ]
  },
  {
   "cell_type": "code",
   "execution_count": 147,
   "id": "c8b14a18-2b86-458d-bbae-0eefec80aa39",
   "metadata": {},
   "outputs": [
    {
     "name": "stdout",
     "output_type": "stream",
     "text": [
      "{(2+5j), (1+2j)}\n",
      "{(2+5j), (1+2j)}\n",
      "{(2+5j), (3+4j), (1+2j)}\n"
     ]
    }
   ],
   "source": [
    "#difference_update\n",
    "a={3+4j,1+2j,2+5j}\n",
    "b={3+4j,2+2j}\n",
    "c=a\n",
    "d=a.copy()\n",
    "c.difference_update(b)\n",
    "print(a)\n",
    "print(c)\n",
    "print(d)"
   ]
  },
  {
   "cell_type": "code",
   "execution_count": 148,
   "id": "855f4828-8bb1-465c-a98b-9487f6f386b2",
   "metadata": {},
   "outputs": [
    {
     "name": "stdout",
     "output_type": "stream",
     "text": [
      "{(2+5j), (3+4j), (1+2j)}\n",
      "{(2+5j), (3+4j), (1+2j)}\n",
      "{(2+5j), (1+2j)}\n"
     ]
    }
   ],
   "source": [
    "#difference_update\n",
    "a={3+4j,1+2j,2+5j}\n",
    "b={3+4j,2+2j}\n",
    "c=a\n",
    "d=a.copy()\n",
    "d.difference_update(b)\n",
    "print(a)\n",
    "print(c)\n",
    "print(d)"
   ]
  },
  {
   "cell_type": "code",
   "execution_count": 149,
   "id": "a932cd21-6a0f-4c78-96bb-cae78ffa9a2a",
   "metadata": {},
   "outputs": [
    {
     "name": "stdout",
     "output_type": "stream",
     "text": [
      "{(2+2j), (2+5j), (1+2j)}\n",
      "{(2+2j), (2+5j), (1+2j)}\n",
      "{(2+5j), (3+4j), (1+2j)}\n"
     ]
    }
   ],
   "source": [
    "#symmetric_difference_update\n",
    "a={3+4j,1+2j,2+5j}\n",
    "b={3+4j,2+2j}\n",
    "c=a\n",
    "d=a.copy()\n",
    "a.symmetric_difference_update(b)\n",
    "print(a)\n",
    "print(c)\n",
    "print(d)"
   ]
  },
  {
   "cell_type": "code",
   "execution_count": 150,
   "id": "062f40ff-e15a-4cef-81de-bc2424c97f43",
   "metadata": {},
   "outputs": [
    {
     "name": "stdout",
     "output_type": "stream",
     "text": [
      "{(2+2j), (2+5j), (1+2j)}\n",
      "{(2+2j), (2+5j), (1+2j)}\n",
      "{(2+5j), (3+4j), (1+2j)}\n"
     ]
    }
   ],
   "source": [
    "#symmetric_difference_update\n",
    "a={3+4j,1+2j,2+5j}\n",
    "b={3+4j,2+2j}\n",
    "c=a\n",
    "d=a.copy()\n",
    "c.symmetric_difference_update(b)\n",
    "print(a)\n",
    "print(c)\n",
    "print(d)"
   ]
  },
  {
   "cell_type": "code",
   "execution_count": 151,
   "id": "80e9ebef-31e2-49a0-b473-564c3e806f5b",
   "metadata": {},
   "outputs": [
    {
     "name": "stdout",
     "output_type": "stream",
     "text": [
      "{(2+5j), (3+4j), (1+2j)}\n",
      "{(2+5j), (3+4j), (1+2j)}\n",
      "{(2+2j), (2+5j), (1+2j)}\n"
     ]
    }
   ],
   "source": [
    "#symmetric_difference_update\n",
    "a={3+4j,1+2j,2+5j}\n",
    "b={3+4j,2+2j}\n",
    "c=a\n",
    "d=a.copy()\n",
    "d.symmetric_difference_update(b)\n",
    "print(a)\n",
    "print(c)\n",
    "print(d)"
   ]
  },
  {
   "cell_type": "code",
   "execution_count": 58,
   "id": "8535644b-b826-439b-9126-4e64e12ac53c",
   "metadata": {},
   "outputs": [
    {
     "name": "stdout",
     "output_type": "stream",
     "text": [
      "True\n"
     ]
    }
   ],
   "source": [
    "#issubset\n",
    "a={3+4j,1+2j,2+5j}\n",
    "b={3+4j,1+2j}\n",
    "print(b.issubset(a))"
   ]
  },
  {
   "cell_type": "code",
   "execution_count": 60,
   "id": "35d46bca-35dd-4722-96ca-e1558484d0ce",
   "metadata": {},
   "outputs": [
    {
     "name": "stdout",
     "output_type": "stream",
     "text": [
      "True\n"
     ]
    }
   ],
   "source": [
    "#issuperset\n",
    "a={3+4j,1+2j,2+5j}\n",
    "b={3+4j,1+2j}\n",
    "print(a.issuperset(b))"
   ]
  },
  {
   "cell_type": "code",
   "execution_count": 62,
   "id": "656d6b82-0c6f-4e8b-9a25-fd4f9d340d49",
   "metadata": {},
   "outputs": [
    {
     "name": "stdout",
     "output_type": "stream",
     "text": [
      "True\n"
     ]
    }
   ],
   "source": [
    "#isdisjoint\n",
    "a={3+4j,1+2j,2+5j}\n",
    "b={3+5j,2+2j}\n",
    "print(a.isdisjoint(b))"
   ]
  },
  {
   "cell_type": "code",
   "execution_count": 98,
   "id": "69c6a95a-dc88-45d7-a6a0-3bd920b34b0b",
   "metadata": {},
   "outputs": [
    {
     "ename": "AttributeError",
     "evalue": "'set' object has no attribute 'sort'",
     "output_type": "error",
     "traceback": [
      "\u001b[1;31m---------------------------------------------------------------------------\u001b[0m",
      "\u001b[1;31mAttributeError\u001b[0m                            Traceback (most recent call last)",
      "Cell \u001b[1;32mIn[98], line 3\u001b[0m\n\u001b[0;32m      1\u001b[0m \u001b[38;5;66;03m#sort\u001b[39;00m\n\u001b[0;32m      2\u001b[0m a\u001b[38;5;241m=\u001b[39m{\u001b[38;5;241m3\u001b[39m\u001b[38;5;241m+\u001b[39m\u001b[38;5;241m4\u001b[39mj,\u001b[38;5;241m1\u001b[39m\u001b[38;5;241m+\u001b[39m\u001b[38;5;241m2\u001b[39mj,\u001b[38;5;241m5\u001b[39m\u001b[38;5;241m+\u001b[39m\u001b[38;5;241m6\u001b[39mj}\n\u001b[1;32m----> 3\u001b[0m \u001b[43ma\u001b[49m\u001b[38;5;241;43m.\u001b[39;49m\u001b[43msort\u001b[49m()\n\u001b[0;32m      4\u001b[0m \u001b[38;5;28mprint\u001b[39m(a)\n",
      "\u001b[1;31mAttributeError\u001b[0m: 'set' object has no attribute 'sort'"
     ]
    }
   ],
   "source": [
    "#sort\n",
    "a={3+4j,1+2j,5+6j}\n",
    "a.sort()\n",
    "print(a)"
   ]
  },
  {
   "cell_type": "code",
   "execution_count": 100,
   "id": "20c25701-9e6a-4b71-9ed9-e57b9216931d",
   "metadata": {},
   "outputs": [
    {
     "name": "stdout",
     "output_type": "stream",
     "text": [
      "3\n"
     ]
    }
   ],
   "source": [
    "#len\n",
    "a={3+4j,1+2j,5+6j}\n",
    "print(len(a))"
   ]
  },
  {
   "cell_type": "code",
   "execution_count": 101,
   "id": "ed236776-ef5a-451a-8496-6137e9faa2df",
   "metadata": {},
   "outputs": [
    {
     "ename": "AttributeError",
     "evalue": "'set' object has no attribute 'count'",
     "output_type": "error",
     "traceback": [
      "\u001b[1;31m---------------------------------------------------------------------------\u001b[0m",
      "\u001b[1;31mAttributeError\u001b[0m                            Traceback (most recent call last)",
      "Cell \u001b[1;32mIn[101], line 3\u001b[0m\n\u001b[0;32m      1\u001b[0m \u001b[38;5;66;03m#count\u001b[39;00m\n\u001b[0;32m      2\u001b[0m a\u001b[38;5;241m=\u001b[39m{\u001b[38;5;241m3\u001b[39m\u001b[38;5;241m+\u001b[39m\u001b[38;5;241m4\u001b[39mj,\u001b[38;5;241m1\u001b[39m\u001b[38;5;241m+\u001b[39m\u001b[38;5;241m2\u001b[39mj,\u001b[38;5;241m5\u001b[39m\u001b[38;5;241m+\u001b[39m\u001b[38;5;241m6\u001b[39mj}\n\u001b[1;32m----> 3\u001b[0m \u001b[38;5;28mprint\u001b[39m(\u001b[43ma\u001b[49m\u001b[38;5;241;43m.\u001b[39;49m\u001b[43mcount\u001b[49m(\u001b[38;5;241m3\u001b[39m\u001b[38;5;241m+\u001b[39m\u001b[38;5;241m4\u001b[39mj))\n",
      "\u001b[1;31mAttributeError\u001b[0m: 'set' object has no attribute 'count'"
     ]
    }
   ],
   "source": [
    "#count\n",
    "a={3+4j,1+2j,5+6j}\n",
    "print(a.count(3+4j))"
   ]
  },
  {
   "cell_type": "code",
   "execution_count": null,
   "id": "f79145a0-92e6-4e21-9672-4d6790c13ffe",
   "metadata": {},
   "outputs": [],
   "source": [
    "--------"
   ]
  },
  {
   "cell_type": "code",
   "execution_count": null,
   "id": "3a7defb2-76ce-4386-bd40-6b08224ae21a",
   "metadata": {},
   "outputs": [],
   "source": [
    "--------"
   ]
  },
  {
   "cell_type": "code",
   "execution_count": null,
   "id": "5a2cb918-b139-4c3b-ba9e-9e45f69b961f",
   "metadata": {},
   "outputs": [],
   "source": [
    "--------"
   ]
  },
  {
   "cell_type": "code",
   "execution_count": null,
   "id": "29cbf8a9-abb4-4430-9774-40f45c66cb9b",
   "metadata": {},
   "outputs": [],
   "source": [
    "STRING:"
   ]
  },
  {
   "cell_type": "code",
   "execution_count": null,
   "id": "5e09a071-1fd8-49f4-bc61-07028380b0ca",
   "metadata": {},
   "outputs": [],
   "source": [
    "--------"
   ]
  },
  {
   "cell_type": "code",
   "execution_count": null,
   "id": "4b8a1d1f-eb08-41c2-b2fd-a9bf6feae44a",
   "metadata": {},
   "outputs": [],
   "source": [
    "--------"
   ]
  },
  {
   "cell_type": "code",
   "execution_count": null,
   "id": "d9456321-6c11-4d76-828c-eb79444c81ea",
   "metadata": {},
   "outputs": [],
   "source": [
    "--------"
   ]
  },
  {
   "cell_type": "code",
   "execution_count": 63,
   "id": "045bd8c5-ebca-4018-857e-83c03fde915b",
   "metadata": {},
   "outputs": [
    {
     "name": "stdout",
     "output_type": "stream",
     "text": [
      "{'nn', 'hi', 'kk', 'viren'}\n"
     ]
    }
   ],
   "source": [
    "#UNION\n",
    "a={\"hi\",\"viren\",\"kk\"}\n",
    "b={\"nn\"}\n",
    "c=a.union(b)\n",
    "print(c)"
   ]
  },
  {
   "cell_type": "code",
   "execution_count": 64,
   "id": "a361fcf4-426a-4d19-a285-87adb598b3a3",
   "metadata": {},
   "outputs": [
    {
     "name": "stdout",
     "output_type": "stream",
     "text": [
      "set()\n"
     ]
    }
   ],
   "source": [
    "#INTERSECTION\n",
    "a={\"hi\",\"viren\",\"kk\"}\n",
    "b={\"nn\"}\n",
    "c=a.intersection(b)\n",
    "print(c)"
   ]
  },
  {
   "cell_type": "code",
   "execution_count": 65,
   "id": "f8b102c3-4eae-4744-95d1-6465526079a5",
   "metadata": {},
   "outputs": [
    {
     "name": "stdout",
     "output_type": "stream",
     "text": [
      "{'hi', 'kk', 'viren'}\n"
     ]
    }
   ],
   "source": [
    "#DIFFERENCE\n",
    "a={\"hi\",\"viren\",\"kk\"}\n",
    "b={\"nn\"}\n",
    "c=a.difference(b)\n",
    "print(c)"
   ]
  },
  {
   "cell_type": "code",
   "execution_count": 66,
   "id": "190ec3e0-a201-4fd8-aa1c-c9d03aae1188",
   "metadata": {},
   "outputs": [
    {
     "name": "stdout",
     "output_type": "stream",
     "text": [
      "{'nn', 'hi', 'kk', 'viren'}\n"
     ]
    }
   ],
   "source": [
    "#SYMMETRIC DIFFERENCE\n",
    "a={\"hi\",\"viren\",\"kk\"}\n",
    "b={\"nn\"}\n",
    "c=a.symmetric_difference(b)\n",
    "print(c)"
   ]
  },
  {
   "cell_type": "code",
   "execution_count": 152,
   "id": "bb604321-230f-483d-8733-348b6aff0090",
   "metadata": {},
   "outputs": [
    {
     "name": "stdout",
     "output_type": "stream",
     "text": [
      "{'nn', 'hi', 'kk', 'viren'}\n",
      "{'nn', 'hi', 'kk', 'viren'}\n",
      "{'hi', 'kk', 'viren'}\n"
     ]
    }
   ],
   "source": [
    "#update\n",
    "a={\"hi\",\"viren\",\"kk\"}\n",
    "b={\"nn\"}\n",
    "c=a\n",
    "d=a.copy()\n",
    "a.update(b)\n",
    "print(a)\n",
    "print(c)\n",
    "print(d)"
   ]
  },
  {
   "cell_type": "code",
   "execution_count": 153,
   "id": "fa20001b-318f-4622-a593-ce9095729bc5",
   "metadata": {},
   "outputs": [
    {
     "name": "stdout",
     "output_type": "stream",
     "text": [
      "{'nn', 'hi', 'kk', 'viren'}\n",
      "{'nn', 'hi', 'kk', 'viren'}\n",
      "{'hi', 'kk', 'viren'}\n"
     ]
    }
   ],
   "source": [
    "#update\n",
    "a={\"hi\",\"viren\",\"kk\"}\n",
    "b={\"nn\"}\n",
    "c=a\n",
    "d=a.copy()\n",
    "c.update(b)\n",
    "print(a)\n",
    "print(c)\n",
    "print(d)"
   ]
  },
  {
   "cell_type": "code",
   "execution_count": 154,
   "id": "e4b2cfae-b8b6-407f-86cd-9dca39bbd748",
   "metadata": {},
   "outputs": [
    {
     "name": "stdout",
     "output_type": "stream",
     "text": [
      "{'hi', 'kk', 'viren'}\n",
      "{'hi', 'kk', 'viren'}\n",
      "{'nn', 'hi', 'kk', 'viren'}\n"
     ]
    }
   ],
   "source": [
    "#update\n",
    "a={\"hi\",\"viren\",\"kk\"}\n",
    "b={\"nn\"}\n",
    "c=a\n",
    "d=a.copy()\n",
    "d.update(b)\n",
    "print(a)\n",
    "print(c)\n",
    "print(d)"
   ]
  },
  {
   "cell_type": "code",
   "execution_count": 155,
   "id": "464af6bd-558b-46ee-b8d1-e65653ed8642",
   "metadata": {},
   "outputs": [
    {
     "name": "stdout",
     "output_type": "stream",
     "text": [
      "set()\n",
      "set()\n",
      "{'hi', 'kk', 'viren'}\n"
     ]
    }
   ],
   "source": [
    "#intersection_update\n",
    "a={\"hi\",\"viren\",\"kk\"}\n",
    "b={\"nn\"}\n",
    "c=a\n",
    "d=a.copy()\n",
    "a.intersection_update(b)\n",
    "print(a)\n",
    "print(c)\n",
    "print(d)"
   ]
  },
  {
   "cell_type": "code",
   "execution_count": 156,
   "id": "247eb9b7-db9e-44ad-a8b4-1033d7f5b529",
   "metadata": {},
   "outputs": [
    {
     "name": "stdout",
     "output_type": "stream",
     "text": [
      "set()\n",
      "set()\n",
      "{'hi', 'kk', 'viren'}\n"
     ]
    }
   ],
   "source": [
    "#intersection_update\n",
    "a={\"hi\",\"viren\",\"kk\"}\n",
    "b={\"nn\"}\n",
    "c=a\n",
    "d=a.copy()\n",
    "c.intersection_update(b)\n",
    "print(a)\n",
    "print(c)\n",
    "print(d)"
   ]
  },
  {
   "cell_type": "code",
   "execution_count": 157,
   "id": "e8d18afa-5cdc-4027-9a6f-f9703c2d3c15",
   "metadata": {},
   "outputs": [
    {
     "name": "stdout",
     "output_type": "stream",
     "text": [
      "{'hi', 'kk', 'viren'}\n",
      "{'hi', 'kk', 'viren'}\n",
      "set()\n"
     ]
    }
   ],
   "source": [
    "#intersection_update\n",
    "a={\"hi\",\"viren\",\"kk\"}\n",
    "b={\"nn\"}\n",
    "c=a\n",
    "d=a.copy()\n",
    "d.intersection_update(b)\n",
    "print(a)\n",
    "print(c)\n",
    "print(d)"
   ]
  },
  {
   "cell_type": "code",
   "execution_count": 158,
   "id": "e104f39c-d588-455d-9b2d-9564e9267f41",
   "metadata": {},
   "outputs": [
    {
     "name": "stdout",
     "output_type": "stream",
     "text": [
      "{'hi', 'kk', 'viren'}\n",
      "{'hi', 'kk', 'viren'}\n",
      "{'hi', 'kk', 'viren'}\n"
     ]
    }
   ],
   "source": [
    "#difference_update\n",
    "a={\"hi\",\"viren\",\"kk\"}\n",
    "b={\"nn\"}\n",
    "c=a\n",
    "d=a.copy()\n",
    "a.difference_update(b)\n",
    "print(a)\n",
    "print(c)\n",
    "print(d)"
   ]
  },
  {
   "cell_type": "code",
   "execution_count": 159,
   "id": "d0753422-0208-4543-883c-3bc6ec94b3f9",
   "metadata": {},
   "outputs": [
    {
     "name": "stdout",
     "output_type": "stream",
     "text": [
      "{'hi', 'kk', 'viren'}\n",
      "{'hi', 'kk', 'viren'}\n",
      "{'hi', 'kk', 'viren'}\n"
     ]
    }
   ],
   "source": [
    "#difference_update\n",
    "a={\"hi\",\"viren\",\"kk\"}\n",
    "b={\"nn\"}\n",
    "c=a\n",
    "d=a.copy()\n",
    "c.difference_update(b)\n",
    "print(a)\n",
    "print(c)\n",
    "print(d)"
   ]
  },
  {
   "cell_type": "code",
   "execution_count": 160,
   "id": "35225039-aaec-4c15-a2b7-51cc5d702e6f",
   "metadata": {},
   "outputs": [
    {
     "name": "stdout",
     "output_type": "stream",
     "text": [
      "{'hi', 'kk', 'viren'}\n",
      "{'hi', 'kk', 'viren'}\n",
      "{'hi', 'kk', 'viren'}\n"
     ]
    }
   ],
   "source": [
    "#difference_update\n",
    "a={\"hi\",\"viren\",\"kk\"}\n",
    "b={\"nn\"}\n",
    "c=a\n",
    "d=a.copy()\n",
    "d.difference_update(b)\n",
    "print(a)\n",
    "print(c)\n",
    "print(d)"
   ]
  },
  {
   "cell_type": "code",
   "execution_count": 161,
   "id": "78eb576c-7808-42e8-a813-bf5e7580ccb1",
   "metadata": {},
   "outputs": [
    {
     "name": "stdout",
     "output_type": "stream",
     "text": [
      "{'nn', 'hi', 'kk', 'viren'}\n",
      "{'nn', 'hi', 'kk', 'viren'}\n",
      "{'hi', 'kk', 'viren'}\n"
     ]
    }
   ],
   "source": [
    "#symmetric_difference_update\n",
    "a={\"hi\",\"viren\",\"kk\"}\n",
    "b={\"nn\"}\n",
    "c=a\n",
    "d=a.copy()\n",
    "a.symmetric_difference_update(b)\n",
    "print(a)\n",
    "print(c)\n",
    "print(d)"
   ]
  },
  {
   "cell_type": "code",
   "execution_count": 162,
   "id": "3c6a56ea-5775-4d5f-a638-9800a6906a8f",
   "metadata": {},
   "outputs": [
    {
     "name": "stdout",
     "output_type": "stream",
     "text": [
      "{'nn', 'hi', 'kk', 'viren'}\n",
      "{'nn', 'hi', 'kk', 'viren'}\n",
      "{'hi', 'kk', 'viren'}\n"
     ]
    }
   ],
   "source": [
    "#symmetric_difference_update\n",
    "a={\"hi\",\"viren\",\"kk\"}\n",
    "b={\"nn\"}\n",
    "c=a\n",
    "d=a.copy()\n",
    "c.symmetric_difference_update(b)\n",
    "print(a)\n",
    "print(c)\n",
    "print(d)"
   ]
  },
  {
   "cell_type": "code",
   "execution_count": 163,
   "id": "57a5a0dc-41aa-42fb-8cbe-d61c2fb2520a",
   "metadata": {},
   "outputs": [
    {
     "name": "stdout",
     "output_type": "stream",
     "text": [
      "{'hi', 'kk', 'viren'}\n",
      "{'hi', 'kk', 'viren'}\n",
      "{'nn', 'hi', 'kk', 'viren'}\n"
     ]
    }
   ],
   "source": [
    "#symmetric_difference_update\n",
    "a={\"hi\",\"viren\",\"kk\"}\n",
    "b={\"nn\"}\n",
    "c=a\n",
    "d=a.copy()\n",
    "d.symmetric_difference_update(b)\n",
    "print(a)\n",
    "print(c)\n",
    "print(d)"
   ]
  },
  {
   "cell_type": "code",
   "execution_count": 72,
   "id": "1ee43cb0-e75d-43ca-b224-20bc61c45a16",
   "metadata": {},
   "outputs": [
    {
     "name": "stdout",
     "output_type": "stream",
     "text": [
      "False\n"
     ]
    }
   ],
   "source": [
    "#issubset\n",
    "a={\"hi\",\"viren\",\"kk\"}\n",
    "b={\"nn\"}\n",
    "print(a.issubset(b))"
   ]
  },
  {
   "cell_type": "code",
   "execution_count": 73,
   "id": "d3cb58a9-ed5f-40dd-97b4-b63bfc7f7f63",
   "metadata": {},
   "outputs": [
    {
     "name": "stdout",
     "output_type": "stream",
     "text": [
      "False\n"
     ]
    }
   ],
   "source": [
    "#issuperset\n",
    "a={\"hi\",\"viren\",\"kk\"}\n",
    "b={\"nn\"}\n",
    "print(a.issuperset(b))"
   ]
  },
  {
   "cell_type": "code",
   "execution_count": 74,
   "id": "2bce0c2b-4011-464d-b8a2-ed0b724c5e17",
   "metadata": {},
   "outputs": [
    {
     "name": "stdout",
     "output_type": "stream",
     "text": [
      "True\n"
     ]
    }
   ],
   "source": [
    "#isdisjoint\n",
    "a={\"hi\",\"viren\",\"kk\"}\n",
    "b={\"nn\"}\n",
    "print(a.isdisjoint(b))"
   ]
  },
  {
   "cell_type": "code",
   "execution_count": 103,
   "id": "fe09678c-503d-4ee5-80a4-e61610e11e89",
   "metadata": {},
   "outputs": [
    {
     "ename": "AttributeError",
     "evalue": "'set' object has no attribute 'sort'",
     "output_type": "error",
     "traceback": [
      "\u001b[1;31m---------------------------------------------------------------------------\u001b[0m",
      "\u001b[1;31mAttributeError\u001b[0m                            Traceback (most recent call last)",
      "Cell \u001b[1;32mIn[103], line 3\u001b[0m\n\u001b[0;32m      1\u001b[0m \u001b[38;5;66;03m#sort\u001b[39;00m\n\u001b[0;32m      2\u001b[0m a\u001b[38;5;241m=\u001b[39m{\u001b[38;5;124m\"\u001b[39m\u001b[38;5;124mhi\u001b[39m\u001b[38;5;124m\"\u001b[39m,\u001b[38;5;124m\"\u001b[39m\u001b[38;5;124mviren\u001b[39m\u001b[38;5;124m\"\u001b[39m}\n\u001b[1;32m----> 3\u001b[0m \u001b[43ma\u001b[49m\u001b[38;5;241;43m.\u001b[39;49m\u001b[43msort\u001b[49m()\n\u001b[0;32m      4\u001b[0m \u001b[38;5;28mprint\u001b[39m(a)\n",
      "\u001b[1;31mAttributeError\u001b[0m: 'set' object has no attribute 'sort'"
     ]
    }
   ],
   "source": [
    "#sort\n",
    "a={\"hi\",\"viren\"}\n",
    "a.sort()\n",
    "print(a)"
   ]
  },
  {
   "cell_type": "code",
   "execution_count": 104,
   "id": "24c2a940-348b-43e5-9455-a883f2e21b5e",
   "metadata": {},
   "outputs": [
    {
     "ename": "AttributeError",
     "evalue": "'set' object has no attribute 'reverse'",
     "output_type": "error",
     "traceback": [
      "\u001b[1;31m---------------------------------------------------------------------------\u001b[0m",
      "\u001b[1;31mAttributeError\u001b[0m                            Traceback (most recent call last)",
      "Cell \u001b[1;32mIn[104], line 3\u001b[0m\n\u001b[0;32m      1\u001b[0m \u001b[38;5;66;03m#reverse\u001b[39;00m\n\u001b[0;32m      2\u001b[0m a\u001b[38;5;241m=\u001b[39m{\u001b[38;5;124m\"\u001b[39m\u001b[38;5;124mhi\u001b[39m\u001b[38;5;124m\"\u001b[39m,\u001b[38;5;124m\"\u001b[39m\u001b[38;5;124mviren\u001b[39m\u001b[38;5;124m\"\u001b[39m}\n\u001b[1;32m----> 3\u001b[0m \u001b[43ma\u001b[49m\u001b[38;5;241;43m.\u001b[39;49m\u001b[43mreverse\u001b[49m()\n\u001b[0;32m      4\u001b[0m \u001b[38;5;28mprint\u001b[39m(a)\n",
      "\u001b[1;31mAttributeError\u001b[0m: 'set' object has no attribute 'reverse'"
     ]
    }
   ],
   "source": [
    "#reverse\n",
    "a={\"hi\",\"viren\"}\n",
    "a.reverse()\n",
    "print(a)"
   ]
  },
  {
   "cell_type": "code",
   "execution_count": 105,
   "id": "990c156f-383c-47cd-947f-3544495b19c5",
   "metadata": {},
   "outputs": [
    {
     "name": "stdout",
     "output_type": "stream",
     "text": [
      "2\n"
     ]
    }
   ],
   "source": [
    "#len\n",
    "a={\"hi\",\"viren\"}\n",
    "print(len(a))"
   ]
  },
  {
   "cell_type": "code",
   "execution_count": 106,
   "id": "ad02ed2a-644e-4817-aa63-09174b915c9e",
   "metadata": {},
   "outputs": [
    {
     "ename": "AttributeError",
     "evalue": "'set' object has no attribute 'count'",
     "output_type": "error",
     "traceback": [
      "\u001b[1;31m---------------------------------------------------------------------------\u001b[0m",
      "\u001b[1;31mAttributeError\u001b[0m                            Traceback (most recent call last)",
      "Cell \u001b[1;32mIn[106], line 3\u001b[0m\n\u001b[0;32m      1\u001b[0m \u001b[38;5;66;03m#count\u001b[39;00m\n\u001b[0;32m      2\u001b[0m a\u001b[38;5;241m=\u001b[39m{\u001b[38;5;124m\"\u001b[39m\u001b[38;5;124mhi\u001b[39m\u001b[38;5;124m\"\u001b[39m,\u001b[38;5;124m\"\u001b[39m\u001b[38;5;124mviren\u001b[39m\u001b[38;5;124m\"\u001b[39m}\n\u001b[1;32m----> 3\u001b[0m \u001b[38;5;28mprint\u001b[39m(\u001b[43ma\u001b[49m\u001b[38;5;241;43m.\u001b[39;49m\u001b[43mcount\u001b[49m(\u001b[38;5;124m\"\u001b[39m\u001b[38;5;124mhi\u001b[39m\u001b[38;5;124m\"\u001b[39m))\n",
      "\u001b[1;31mAttributeError\u001b[0m: 'set' object has no attribute 'count'"
     ]
    }
   ],
   "source": [
    "#count\n",
    "a={\"hi\",\"viren\"}\n",
    "print(a.count(\"hi\"))"
   ]
  },
  {
   "cell_type": "code",
   "execution_count": null,
   "id": "9a6d07ae-6c44-495c-b7cb-d1ac7105be2a",
   "metadata": {},
   "outputs": [],
   "source": [
    "---------"
   ]
  },
  {
   "cell_type": "code",
   "execution_count": null,
   "id": "9e4e615c-66b9-4284-9be5-2e65254f1634",
   "metadata": {},
   "outputs": [],
   "source": [
    "---------"
   ]
  },
  {
   "cell_type": "code",
   "execution_count": null,
   "id": "8d06ac4c-2ba3-4c71-a13f-60d9404339dc",
   "metadata": {},
   "outputs": [],
   "source": [
    "---------"
   ]
  },
  {
   "cell_type": "code",
   "execution_count": null,
   "id": "632161e2-6cd5-465a-b22f-5e8770c9f6d6",
   "metadata": {},
   "outputs": [],
   "source": [
    "MIX:"
   ]
  },
  {
   "cell_type": "code",
   "execution_count": null,
   "id": "934446ef-86a7-4efc-905b-25ce9ef1fafb",
   "metadata": {},
   "outputs": [],
   "source": [
    "---------"
   ]
  },
  {
   "cell_type": "code",
   "execution_count": null,
   "id": "f4cb789a-3f7c-4349-972f-2234bc8fe5b6",
   "metadata": {},
   "outputs": [],
   "source": [
    "---------"
   ]
  },
  {
   "cell_type": "code",
   "execution_count": null,
   "id": "4df0c4d0-f1d1-426d-ac30-859b59f52791",
   "metadata": {},
   "outputs": [],
   "source": [
    "---------"
   ]
  },
  {
   "cell_type": "code",
   "execution_count": 75,
   "id": "46a58bd7-795e-431b-b645-c9cf85895136",
   "metadata": {},
   "outputs": [
    {
     "name": "stdout",
     "output_type": "stream",
     "text": [
      "{1, 2.5, (1+2j), 'hi', (3+4j), 'h'}\n"
     ]
    }
   ],
   "source": [
    "#UNION\n",
    "a={1,2.5,3+4j,\"hi\"}\n",
    "b={1,2.5,1+2j,\"h\"}\n",
    "c=a.union(b)\n",
    "print(c)"
   ]
  },
  {
   "cell_type": "code",
   "execution_count": 76,
   "id": "25ca98e0-fcbd-4715-9354-b4c6da25d0cf",
   "metadata": {},
   "outputs": [
    {
     "name": "stdout",
     "output_type": "stream",
     "text": [
      "{1, 2.5}\n"
     ]
    }
   ],
   "source": [
    "#INTERSECTION\n",
    "a={1,2.5,3+4j,\"hi\"}\n",
    "b={1,2.5,1+2j,\"h\"}\n",
    "c=a.intersection(b)\n",
    "print(c)"
   ]
  },
  {
   "cell_type": "code",
   "execution_count": 77,
   "id": "7aa244f9-5adb-4a32-a24c-99337620e132",
   "metadata": {},
   "outputs": [
    {
     "name": "stdout",
     "output_type": "stream",
     "text": [
      "{'hi', (3+4j)}\n"
     ]
    }
   ],
   "source": [
    "#DIFFERENCE\n",
    "a={1,2.5,3+4j,\"hi\"}\n",
    "b={1,2.5,1+2j,\"h\"}\n",
    "c=a.difference(b)\n",
    "print(c)"
   ]
  },
  {
   "cell_type": "code",
   "execution_count": 78,
   "id": "ff4f445b-f727-4171-ad15-bc52e7419a21",
   "metadata": {},
   "outputs": [
    {
     "name": "stdout",
     "output_type": "stream",
     "text": [
      "{'h', (1+2j), 'hi', (3+4j)}\n"
     ]
    }
   ],
   "source": [
    "#symmetric_DIFFERENCE\n",
    "a={1,2.5,3+4j,\"hi\"}\n",
    "b={1,2.5,1+2j,\"h\"}\n",
    "c=a.symmetric_difference(b)\n",
    "print(c)"
   ]
  },
  {
   "cell_type": "code",
   "execution_count": 79,
   "id": "7637b86d-6477-409f-aa2e-def93cd73c7f",
   "metadata": {},
   "outputs": [
    {
     "name": "stdout",
     "output_type": "stream",
     "text": [
      "{1, 2.5, (1+2j), 'hi', (3+4j), 'h'}\n"
     ]
    }
   ],
   "source": [
    "#update\n",
    "a={1,2.5,3+4j,\"hi\"}\n",
    "b={1,2.5,1+2j,\"h\"}\n",
    "a.update(b)\n",
    "print(a)"
   ]
  },
  {
   "cell_type": "code",
   "execution_count": 80,
   "id": "cf44f300-1243-4ef4-ad1d-77ddfa802244",
   "metadata": {},
   "outputs": [
    {
     "name": "stdout",
     "output_type": "stream",
     "text": [
      "{1, 2.5}\n"
     ]
    }
   ],
   "source": [
    "#intersection_update\n",
    "a={1,2.5,3+4j,\"hi\"}\n",
    "b={1,2.5,1+2j,\"h\"}\n",
    "a.intersection_update(b)\n",
    "print(a)"
   ]
  },
  {
   "cell_type": "code",
   "execution_count": 81,
   "id": "144a3fd5-5b95-42e8-95d8-6c00e9e0e527",
   "metadata": {},
   "outputs": [
    {
     "name": "stdout",
     "output_type": "stream",
     "text": [
      "{'hi', (3+4j)}\n"
     ]
    }
   ],
   "source": [
    "#difference_update\n",
    "a={1,2.5,3+4j,\"hi\"}\n",
    "b={1,2.5,1+2j,\"h\"}\n",
    "a.difference_update(b)\n",
    "print(a)"
   ]
  },
  {
   "cell_type": "code",
   "execution_count": 82,
   "id": "09503c5e-791b-42f7-a8fd-a0795c8a7323",
   "metadata": {},
   "outputs": [
    {
     "name": "stdout",
     "output_type": "stream",
     "text": [
      "{(1+2j), 'hi', (3+4j), 'h'}\n"
     ]
    }
   ],
   "source": [
    "#symmetric_difference_update\n",
    "a={1,2.5,3+4j,\"hi\"}\n",
    "b={1,2.5,1+2j,\"h\"}\n",
    "a.symmetric_difference_update(b)\n",
    "print(a)"
   ]
  },
  {
   "cell_type": "code",
   "execution_count": 83,
   "id": "8f85ed52-a852-4e67-a5f9-400f563bbc98",
   "metadata": {},
   "outputs": [
    {
     "name": "stdout",
     "output_type": "stream",
     "text": [
      "False\n"
     ]
    }
   ],
   "source": [
    "#issubset\n",
    "a={1,2.5,3+4j,\"hi\"}\n",
    "b={1,2.5,1+2j,\"h\"}\n",
    "print(a.issubset(b))"
   ]
  },
  {
   "cell_type": "code",
   "execution_count": 84,
   "id": "37ec6aa2-ba49-484a-a706-6e4d46ae9c1f",
   "metadata": {},
   "outputs": [
    {
     "name": "stdout",
     "output_type": "stream",
     "text": [
      "False\n"
     ]
    }
   ],
   "source": [
    "#issuperset\n",
    "a={1,2.5,3+4j,\"hi\"}\n",
    "b={1,2.5,1+2j,\"h\"}\n",
    "print(a.issuperset(b))"
   ]
  },
  {
   "cell_type": "code",
   "execution_count": 85,
   "id": "0d6814fa-8a8a-4d9c-bc6e-89b3e8258a76",
   "metadata": {},
   "outputs": [
    {
     "name": "stdout",
     "output_type": "stream",
     "text": [
      "False\n"
     ]
    }
   ],
   "source": [
    "#isdisjoint\n",
    "a={1,2.5,3+4j,\"hi\"}\n",
    "b={1,2.5,1+2j,\"h\"}\n",
    "print(a.isdisjoint(b))"
   ]
  },
  {
   "cell_type": "code",
   "execution_count": 108,
   "id": "9793f42a-0da0-4543-badc-56613d0adce4",
   "metadata": {},
   "outputs": [
    {
     "ename": "AttributeError",
     "evalue": "'set' object has no attribute 'sort'",
     "output_type": "error",
     "traceback": [
      "\u001b[1;31m---------------------------------------------------------------------------\u001b[0m",
      "\u001b[1;31mAttributeError\u001b[0m                            Traceback (most recent call last)",
      "Cell \u001b[1;32mIn[108], line 3\u001b[0m\n\u001b[0;32m      1\u001b[0m \u001b[38;5;66;03m#sort\u001b[39;00m\n\u001b[0;32m      2\u001b[0m a\u001b[38;5;241m=\u001b[39m{\u001b[38;5;241m7\u001b[39m,\u001b[38;5;241m7.5\u001b[39m,\u001b[38;5;241m3\u001b[39m\u001b[38;5;241m+\u001b[39m\u001b[38;5;241m4\u001b[39mj,\u001b[38;5;124m\"\u001b[39m\u001b[38;5;124mviren\u001b[39m\u001b[38;5;124m\"\u001b[39m}\n\u001b[1;32m----> 3\u001b[0m \u001b[43ma\u001b[49m\u001b[38;5;241;43m.\u001b[39;49m\u001b[43msort\u001b[49m()\n\u001b[0;32m      4\u001b[0m \u001b[38;5;28mprint\u001b[39m(a)\n",
      "\u001b[1;31mAttributeError\u001b[0m: 'set' object has no attribute 'sort'"
     ]
    }
   ],
   "source": [
    "#sort\n",
    "a={7,7.5,3+4j,\"viren\"}\n",
    "a.sort()\n",
    "print(a)"
   ]
  },
  {
   "cell_type": "code",
   "execution_count": 109,
   "id": "2b235cc1-e054-4ae2-89e2-aa740c7b6493",
   "metadata": {},
   "outputs": [
    {
     "ename": "AttributeError",
     "evalue": "'set' object has no attribute 'reverse'",
     "output_type": "error",
     "traceback": [
      "\u001b[1;31m---------------------------------------------------------------------------\u001b[0m",
      "\u001b[1;31mAttributeError\u001b[0m                            Traceback (most recent call last)",
      "Cell \u001b[1;32mIn[109], line 3\u001b[0m\n\u001b[0;32m      1\u001b[0m \u001b[38;5;66;03m#reverse\u001b[39;00m\n\u001b[0;32m      2\u001b[0m a\u001b[38;5;241m=\u001b[39m{\u001b[38;5;241m7\u001b[39m,\u001b[38;5;241m7.5\u001b[39m,\u001b[38;5;241m3\u001b[39m\u001b[38;5;241m+\u001b[39m\u001b[38;5;241m4\u001b[39mj,\u001b[38;5;124m\"\u001b[39m\u001b[38;5;124mviren\u001b[39m\u001b[38;5;124m\"\u001b[39m}\n\u001b[1;32m----> 3\u001b[0m \u001b[43ma\u001b[49m\u001b[38;5;241;43m.\u001b[39;49m\u001b[43mreverse\u001b[49m()\n\u001b[0;32m      4\u001b[0m \u001b[38;5;28mprint\u001b[39m(a)\n",
      "\u001b[1;31mAttributeError\u001b[0m: 'set' object has no attribute 'reverse'"
     ]
    }
   ],
   "source": [
    "#reverse\n",
    "a={7,7.5,3+4j,\"viren\"}\n",
    "a.reverse()\n",
    "print(a)"
   ]
  },
  {
   "cell_type": "code",
   "execution_count": 110,
   "id": "03e58ff2-1eb4-424a-aacf-5e9e10b579d4",
   "metadata": {},
   "outputs": [
    {
     "name": "stdout",
     "output_type": "stream",
     "text": [
      "4\n"
     ]
    }
   ],
   "source": [
    "#len\n",
    "a={7,7.5,3+4j,\"viren\"}\n",
    "print(len(a))"
   ]
  },
  {
   "cell_type": "code",
   "execution_count": 111,
   "id": "eb2e1b8b-47cf-4659-ab09-759f8e4cdf3e",
   "metadata": {},
   "outputs": [
    {
     "ename": "AttributeError",
     "evalue": "'set' object has no attribute 'count'",
     "output_type": "error",
     "traceback": [
      "\u001b[1;31m---------------------------------------------------------------------------\u001b[0m",
      "\u001b[1;31mAttributeError\u001b[0m                            Traceback (most recent call last)",
      "Cell \u001b[1;32mIn[111], line 3\u001b[0m\n\u001b[0;32m      1\u001b[0m \u001b[38;5;66;03m#count\u001b[39;00m\n\u001b[0;32m      2\u001b[0m a\u001b[38;5;241m=\u001b[39m{\u001b[38;5;241m7\u001b[39m,\u001b[38;5;241m7.5\u001b[39m,\u001b[38;5;241m3\u001b[39m\u001b[38;5;241m+\u001b[39m\u001b[38;5;241m4\u001b[39mj,\u001b[38;5;124m\"\u001b[39m\u001b[38;5;124mviren\u001b[39m\u001b[38;5;124m\"\u001b[39m}\n\u001b[1;32m----> 3\u001b[0m \u001b[38;5;28mprint\u001b[39m(\u001b[43ma\u001b[49m\u001b[38;5;241;43m.\u001b[39;49m\u001b[43mcount\u001b[49m(\u001b[38;5;241m7\u001b[39m))\n",
      "\u001b[1;31mAttributeError\u001b[0m: 'set' object has no attribute 'count'"
     ]
    }
   ],
   "source": [
    "#count\n",
    "a={7,7.5,3+4j,\"viren\"}\n",
    "print(a.count(7))"
   ]
  },
  {
   "cell_type": "code",
   "execution_count": null,
   "id": "ddcdb80a-377b-4d8e-8a21-6945523cfa9c",
   "metadata": {},
   "outputs": [],
   "source": []
  }
 ],
 "metadata": {
  "kernelspec": {
   "display_name": "Python 3 (ipykernel)",
   "language": "python",
   "name": "python3"
  },
  "language_info": {
   "codemirror_mode": {
    "name": "ipython",
    "version": 3
   },
   "file_extension": ".py",
   "mimetype": "text/x-python",
   "name": "python",
   "nbconvert_exporter": "python",
   "pygments_lexer": "ipython3",
   "version": "3.13.1"
  }
 },
 "nbformat": 4,
 "nbformat_minor": 5
}
