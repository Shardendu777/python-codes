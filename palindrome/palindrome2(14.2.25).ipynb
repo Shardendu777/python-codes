{
 "cells": [
  {
   "cell_type": "code",
   "execution_count": 12,
   "id": "d11da113-4cac-415d-bd4f-0e2c7549b408",
   "metadata": {},
   "outputs": [
    {
     "name": "stdin",
     "output_type": "stream",
     "text": [
      " 123\n"
     ]
    },
    {
     "name": "stdout",
     "output_type": "stream",
     "text": [
      "not palindrome\n"
     ]
    }
   ],
   "source": [
    "#palindrome with slicing and for loop(capslock and spaces are our concern)\n",
    "n=input()\n",
    "s=\"\"\n",
    "for i in n[ : :-1]:\n",
    "    s=s+i\n",
    "if(s==n):    #if(s): -> then it will always give a true value\n",
    "    print(\"palindrome\")\n",
    "else:\n",
    "    print(\"not palindrome\")\n",
    "    "
   ]
  },
  {
   "cell_type": "code",
   "execution_count": null,
   "id": "b021b4a6-f36c-4ff7-8604-42d1ce193177",
   "metadata": {},
   "outputs": [],
   "source": [
    "#palindrome with slicing and for loop(capslock and spaces are our concern)\n",
    "n=input()\n",
    "k=s.lower().replace(\" \",\"\")\n",
    "print(\"the refined number is\",k)\n",
    "s=\"\"\n",
    "for i in k[ : :-1]:\n",
    "    s=s+i\n",
    "if(s==k):    #if(s): -> then it will always give a true value\n",
    "    print(\"palindrome\")\n",
    "else:\n",
    "    print(\"not palindrome\")\n",
    "    "
   ]
  }
 ],
 "metadata": {
  "kernelspec": {
   "display_name": "Python 3 (ipykernel)",
   "language": "python",
   "name": "python3"
  },
  "language_info": {
   "codemirror_mode": {
    "name": "ipython",
    "version": 3
   },
   "file_extension": ".py",
   "mimetype": "text/x-python",
   "name": "python",
   "nbconvert_exporter": "python",
   "pygments_lexer": "ipython3",
   "version": "3.13.1"
  }
 },
 "nbformat": 4,
 "nbformat_minor": 5
}
