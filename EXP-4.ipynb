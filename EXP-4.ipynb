{
 "cells": [
  {
   "cell_type": "code",
   "execution_count": 8,
   "id": "ae8bd30e-fdea-4e4e-a2d6-4f6c0e341828",
   "metadata": {},
   "outputs": [
    {
     "name": "stdin",
     "output_type": "stream",
     "text": [
      "enter a number whose factorial you want :  -3\n"
     ]
    },
    {
     "name": "stdout",
     "output_type": "stream",
     "text": [
      "invalid\n"
     ]
    }
   ],
   "source": [
    "#1\n",
    "n=int(input(\"enter a number whose factorial you want : \"))\n",
    "def fac(n):\n",
    "    if(n==0 or n==1):\n",
    "        return 1\n",
    "    else:\n",
    "        return n*fac(n-1)\n",
    "if(n<0):\n",
    "    print(\"invalid\")\n",
    "else:\n",
    "    print(fac(n))"
   ]
  },
  {
   "cell_type": "code",
   "execution_count": 26,
   "id": "526c670b-428e-43bb-8d59-69a89551a636",
   "metadata": {},
   "outputs": [
    {
     "name": "stdin",
     "output_type": "stream",
     "text": [
      "enter an number :  153\n"
     ]
    },
    {
     "name": "stdout",
     "output_type": "stream",
     "text": [
      "armstrong\n"
     ]
    }
   ],
   "source": [
    "#2\n",
    "n=int(input(\"enter an number : \"))\n",
    "if(n<0):\n",
    "    print(\"invalid\")\n",
    "else:\n",
    "    org_n=n\n",
    "    sum=0\n",
    "    r=len(str(n))\n",
    "    while(n!=0):\n",
    "        t=n%10\n",
    "        sum+=t**r\n",
    "        n=n//10\n",
    "    if(sum==org_n):\n",
    "        print(\"armstrong\")\n",
    "    else:\n",
    "        print(\"not armstrong\")"
   ]
  },
  {
   "cell_type": "code",
   "execution_count": 51,
   "id": "692f61db-702b-4958-9668-d8f6b2ac2e91",
   "metadata": {},
   "outputs": [
    {
     "name": "stdin",
     "output_type": "stream",
     "text": [
      "enter the number of fibonacci numbers you want:  4\n"
     ]
    },
    {
     "name": "stdout",
     "output_type": "stream",
     "text": [
      "0\n",
      "1\n",
      "1\n",
      "2\n"
     ]
    }
   ],
   "source": [
    "#3\n",
    "n=int(input(\"enter the number of fibonacci numbers you want: \"))\n",
    "a=0\n",
    "b=1\n",
    "if(n<=0):\n",
    "    print(\"invalid\")\n",
    "elif(n==1):\n",
    "    print(a)\n",
    "elif(n==2):\n",
    "    print(a)\n",
    "    print(b)\n",
    "else:\n",
    "    print(a)\n",
    "    print(b)\n",
    "    for i in range(n-2):   \n",
    "        c=a+b\n",
    "        a=b\n",
    "        b=c\n",
    "        print(b)"
   ]
  },
  {
   "cell_type": "code",
   "execution_count": 5,
   "id": "da3e2dea-8333-4234-a394-d3532c7e6f79",
   "metadata": {},
   "outputs": [
    {
     "name": "stdin",
     "output_type": "stream",
     "text": [
      "enter a number:  8\n"
     ]
    },
    {
     "name": "stdout",
     "output_type": "stream",
     "text": [
      "not prime\n"
     ]
    },
    {
     "ename": "SystemExit",
     "evalue": "0",
     "output_type": "error",
     "traceback": [
      "An exception has occurred, use %tb to see the full traceback.\n",
      "\u001b[1;31mSystemExit\u001b[0m\u001b[1;31m:\u001b[0m 0\n"
     ]
    }
   ],
   "source": [
    "#4\n",
    "import sys\n",
    "n=int(input(\"enter a number: \"))\n",
    "for i in range(2,n):\n",
    "    if(n%i==0):\n",
    "        print(\"not prime\")\n",
    "        sys.exit(0)\n",
    "    else:\n",
    "        continue\n",
    "print(\"prime\")"
   ]
  },
  {
   "cell_type": "code",
   "execution_count": 10,
   "id": "aca58724-0164-4092-a9b9-eb8a4b10c882",
   "metadata": {},
   "outputs": [
    {
     "name": "stdin",
     "output_type": "stream",
     "text": [
      "enter a number:  aba\n"
     ]
    },
    {
     "name": "stdout",
     "output_type": "stream",
     "text": [
      "palindrome\n"
     ]
    }
   ],
   "source": [
    "#5\n",
    "n=input(\"enter a number: \")\n",
    "if(n==n[ : :-1]):\n",
    "    print(\"palindrome\")\n",
    "else:\n",
    "    print(\"not palindrome\")"
   ]
  },
  {
   "cell_type": "code",
   "execution_count": 12,
   "id": "de07ccd9-40f2-4f08-be23-cdd1d763eb1f",
   "metadata": {},
   "outputs": [
    {
     "name": "stdin",
     "output_type": "stream",
     "text": [
      "enter a number :  345\n"
     ]
    },
    {
     "name": "stdout",
     "output_type": "stream",
     "text": [
      "12\n"
     ]
    }
   ],
   "source": [
    "#6\n",
    "n=int(input(\"enter a number : \"))\n",
    "org_n=n\n",
    "sum=0\n",
    "while(n!=0):\n",
    "        t=n%10\n",
    "        sum+=t\n",
    "        n=n//10\n",
    "print(sum)"
   ]
  },
  {
   "cell_type": "code",
   "execution_count": 14,
   "id": "9776d1a0-1072-4022-8bd0-eaef1e675ea6",
   "metadata": {},
   "outputs": [
    {
     "name": "stdout",
     "output_type": "stream",
     "text": [
      "5\n",
      "7\n",
      "10\n",
      "14\n",
      "15\n",
      "20\n",
      "21\n",
      "25\n",
      "28\n",
      "30\n",
      "35\n",
      "40\n",
      "42\n",
      "45\n",
      "49\n",
      "50\n",
      "55\n",
      "56\n",
      "60\n",
      "63\n",
      "65\n",
      "70\n",
      "75\n",
      "77\n",
      "80\n",
      "84\n",
      "85\n",
      "90\n",
      "91\n",
      "95\n",
      "98\n",
      "100\n",
      "total numbers are : 32\n"
     ]
    }
   ],
   "source": [
    "#7\n",
    "count=0\n",
    "for i in range(1,101):\n",
    "    if(i%5==0 or i%7==0):\n",
    "        print(i)\n",
    "        count+=1\n",
    "print(f\"total numbers are : {count}\")"
   ]
  },
  {
   "cell_type": "code",
   "execution_count": 16,
   "id": "4f24d4dd-70ac-4f1a-acea-4acc9b3b41aa",
   "metadata": {},
   "outputs": [
    {
     "name": "stdin",
     "output_type": "stream",
     "text": [
      "enter a string:  MY NAME IS \n"
     ]
    },
    {
     "name": "stdout",
     "output_type": "stream",
     "text": [
      "my name is \n"
     ]
    }
   ],
   "source": [
    "#8\n",
    "string=input(\"enter a string: \")\n",
    "lowered_string=string.lower()\n",
    "print(lowered_string)"
   ]
  },
  {
   "cell_type": "code",
   "execution_count": 21,
   "id": "3bc90d9e-0c56-4592-a699-be8a0d5cf02b",
   "metadata": {},
   "outputs": [
    {
     "name": "stdout",
     "output_type": "stream",
     "text": [
      "1\n",
      "2\n",
      "3\n",
      "5\n",
      "7\n",
      "11\n",
      "13\n",
      "17\n",
      "19\n",
      "23\n",
      "29\n",
      "31\n",
      "37\n",
      "41\n",
      "43\n",
      "47\n",
      "53\n",
      "59\n",
      "61\n",
      "67\n",
      "71\n",
      "73\n",
      "79\n",
      "83\n",
      "89\n",
      "97\n"
     ]
    }
   ],
   "source": [
    "#9\n",
    "for i in range(1,101):\n",
    "    for j in range(2,i):\n",
    "        if(i%j==0):\n",
    "            break\n",
    "    else:\n",
    "        print(i)"
   ]
  },
  {
   "cell_type": "code",
   "execution_count": null,
   "id": "466eeb5d-6809-48c4-b516-c0e5e942e245",
   "metadata": {},
   "outputs": [],
   "source": [
    "#10\n",
    "n=int(input(\"\"enter a number : \"))\n",
    "for i in range()"
   ]
  }
 ],
 "metadata": {
  "kernelspec": {
   "display_name": "Python 3 (ipykernel)",
   "language": "python",
   "name": "python3"
  },
  "language_info": {
   "codemirror_mode": {
    "name": "ipython",
    "version": 3
   },
   "file_extension": ".py",
   "mimetype": "text/x-python",
   "name": "python",
   "nbconvert_exporter": "python",
   "pygments_lexer": "ipython3",
   "version": "3.13.1"
  }
 },
 "nbformat": 4,
 "nbformat_minor": 5
}
