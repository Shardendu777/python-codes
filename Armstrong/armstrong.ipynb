{
 "cells": [
  {
   "cell_type": "code",
   "execution_count": 12,
   "id": "5f07342b-640c-4f2a-89c4-02f39ee84d11",
   "metadata": {},
   "outputs": [
    {
     "name": "stdin",
     "output_type": "stream",
     "text": [
      " 156\n"
     ]
    },
    {
     "name": "stdout",
     "output_type": "stream",
     "text": [
      "not armstrong\n"
     ]
    }
   ],
   "source": [
    "#armstrong\n",
    "n=(input())\n",
    "if '.' in n or 'j' in n:\n",
    "    print(\"invalid\")\n",
    "else:\n",
    "    n=int(n)\n",
    "    original_n=n\n",
    "    count=0\n",
    "    arm=0\n",
    "    while(n>0):\n",
    "        n=n//10\n",
    "        count=count+1\n",
    "    n=original_n\n",
    "    while(n>0):\n",
    "        t=n%10\n",
    "        arm+=t**count\n",
    "        n=n//10\n",
    "    if(arm==original_n):\n",
    "        print(\"armstrong\")\n",
    "    else:\n",
    "        print(\"not armstrong\")\n",
    "        \n"
   ]
  },
  {
   "cell_type": "markdown",
   "id": "bcf8d004-ab19-4c43-b2aa-75217639a02f",
   "metadata": {},
   "source": []
  }
 ],
 "metadata": {
  "kernelspec": {
   "display_name": "Python 3 (ipykernel)",
   "language": "python",
   "name": "python3"
  },
  "language_info": {
   "codemirror_mode": {
    "name": "ipython",
    "version": 3
   },
   "file_extension": ".py",
   "mimetype": "text/x-python",
   "name": "python",
   "nbconvert_exporter": "python",
   "pygments_lexer": "ipython3",
   "version": "3.13.1"
  }
 },
 "nbformat": 4,
 "nbformat_minor": 5
}
