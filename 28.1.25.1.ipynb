{
 "cells": [
  {
   "cell_type": "code",
   "execution_count": 15,
   "id": "b5c57495-d10c-4f38-84a0-f75bf00895e6",
   "metadata": {},
   "outputs": [
    {
     "name": "stdout",
     "output_type": "stream",
     "text": [
      " 23\n",
      " 23\n",
      " 4\n"
     ]
    },
    {
     "name": "stdout",
     "output_type": "stream",
     "text": [
      "1.0\n"
     ]
    }
   ],
   "source": [
    "a=int(input())\n",
    "b=int(input())\n",
    "choice=int(input())\n",
    "if (choice==1):\n",
    "0    print(a+b)\n",
    "elif (choice==2):\n",
    "    print(a-b)\n",
    "elif (choice==3):\n",
    "    print(a*b)\n",
    "elif (choice==4):\n",
    "    print(a/b)"
   ]
  },
  {
   "cell_type": "code",
   "execution_count": 23,
   "id": "dbe14556-7a4e-49da-b806-0514da476e9d",
   "metadata": {},
   "outputs": [
    {
     "name": "stdout",
     "output_type": "stream",
     "text": [
      " 3\n"
     ]
    },
    {
     "name": "stdout",
     "output_type": "stream",
     "text": [
      "odd\n"
     ]
    }
   ],
   "source": [
    "num=int(input())\n",
    "if(num>0):\n",
    "    if(num%2==0):\n",
    "        print(\"even\")\n",
    "    else:\n",
    "        print(\"odd\")\n",
    "else:\n",
    "    print(\"invalid input\")"
   ]
  },
  {
   "cell_type": "code",
   "execution_count": 33,
   "id": "40429edf-03aa-4c71-8986-0a8d6ed59886",
   "metadata": {},
   "outputs": [
    {
     "name": "stdout",
     "output_type": "stream",
     "text": [
      " 17\n"
     ]
    },
    {
     "name": "stdout",
     "output_type": "stream",
     "text": [
      "normal\n"
     ]
    }
   ],
   "source": [
    "temp=int(input())\n",
    "if(temp<15):\n",
    "    print(\"very cold\")\n",
    "elif(temp>15 and temp<30):\n",
    "    print(\"normal\")\n",
    "elif(temp>30):\n",
    "    print(\"very hot\")"
   ]
  },
  {
   "cell_type": "code",
   "execution_count": 24,
   "id": "14e17826-6f2a-4fd3-b24d-355405319a2f",
   "metadata": {},
   "outputs": [
    {
     "name": "stdout",
     "output_type": "stream",
     "text": [
      "First number: 3\n",
      "second number: 4\n"
     ]
    },
    {
     "name": "stdout",
     "output_type": "stream",
     "text": [
      "4\n",
      "3\n"
     ]
    }
   ],
   "source": [
    "a=int(input(\"First number:\"))\n",
    "b=int(input(\"second number:\"))\n",
    "a,b=b,a\n",
    "print(a)\n",
    "print(b)\n"
   ]
  },
  {
   "cell_type": "code",
   "execution_count": 43,
   "id": "6e0a3057-2cab-486b-ab45-2d05c76405eb",
   "metadata": {},
   "outputs": [
    {
     "name": "stdout",
     "output_type": "stream",
     "text": [
      " 1\n",
      " 1\n"
     ]
    },
    {
     "name": "stdout",
     "output_type": "stream",
     "text": [
      "Fail\n"
     ]
    }
   ],
   "source": [
    "marks=float(input())\n",
    "project=in1t(input())\n",
    "if(marks>100):\n",
    "    print(\"invalid\")\n",
    "elif(marks<0):\n",
    "    print(\"invalid\")\n",
    "elif(marks>=90):\n",
    "    if(project==1):\n",
    "        print(\"grade=A+\")\n",
    "    elif(project==0):\n",
    "        print(\"grade=A\")\n",
    "    else:\n",
    "        print(\"invalid\")\n",
    "elif(marks<90 and marks>=80):\n",
    "    if(project==1):\n",
    "        print(\"grade=A\")\n",
    "    elif(project==0):\n",
    "        print(\"grade=B\")\n",
    "    else:\n",
    "        print(\"invalid\")\n",
    "elif(marks<80 and marks>=70):\n",
    "    if(project==1):\n",
    "        print(\"grade=B\")\n",
    "    elif(project==0):\n",
    "        print(\"grade=C\")\n",
    "    else:\n",
    "        print(\"invalid\")\n",
    "elif(marks<70 and marks>=60):\n",
    "    if(project==1):\n",
    "        print(\"grade=D\")        \n",
    "    elif(project==0):\n",
    "        print(\"grade=F\")\n",
    "    else:\n",
    "        print(\"invalid\") \n",
    "elif(marks<60):\n",
    "    print(\"Fail\")     \n"
   ]
  },
  {
   "cell_type": "code",
   "execution_count": null,
   "id": "8264a7d1-79dc-490a-97c1-e8ac23242baf",
   "metadata": {},
   "outputs": [],
   "source": []
  }
 ],
 "metadata": {
  "kernelspec": {
   "display_name": "Python 3 (ipykernel)",
   "language": "python",
   "name": "python3"
  },
  "language_info": {
   "codemirror_mode": {
    "name": "ipython",
    "version": 3
   },
   "file_extension": ".py",
   "mimetype": "text/x-python",
   "name": "python",
   "nbconvert_exporter": "python",
   "pygments_lexer": "ipython3",
   "version": "3.13.1"
  }
 },
 "nbformat": 4,
 "nbformat_minor": 5
}
