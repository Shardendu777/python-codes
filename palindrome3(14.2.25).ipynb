{
 "cells": [
  {
   "cell_type": "code",
   "execution_count": 5,
   "id": "090af438-2142-4f80-b4a8-9b119da624f5",
   "metadata": {},
   "outputs": [
    {
     "name": "stdin",
     "output_type": "stream",
     "text": [
      " abA\n"
     ]
    },
    {
     "name": "stdout",
     "output_type": "stream",
     "text": [
      "not palindrome\n"
     ]
    }
   ],
   "source": [
    "#palindrome with slicing without funtion without for loop,only if-else(capslock and spaces are not our concern)\n",
    "n=input()\n",
    "ni=n.lower().replace(\" \",\"\")\n",
    "if(ni==n[ : :-1]):\n",
    "    print(\"palindrome\")\n",
    "else:\n",
    "    print(\"not palindrome\")"
   ]
  },
  {
   "cell_type": "code",
   "execution_count": null,
   "id": "b143b867-eb00-4105-9541-10f1342a1ab5",
   "metadata": {},
   "outputs": [],
   "source": [
    "#palindrome with slicing without funtion without for loop,only if-else(capslock and spaces are not our concern)\n",
    "n=input()\n",
    "if(n==n[ : :-1]):\n",
    "    print(\"palindrome\")\n",
    "else:\n",
    "    print(\"not palindrome\")"
   ]
  }
 ],
 "metadata": {
  "kernelspec": {
   "display_name": "Python 3 (ipykernel)",
   "language": "python",
   "name": "python3"
  },
  "language_info": {
   "codemirror_mode": {
    "name": "ipython",
    "version": 3
   },
   "file_extension": ".py",
   "mimetype": "text/x-python",
   "name": "python",
   "nbconvert_exporter": "python",
   "pygments_lexer": "ipython3",
   "version": "3.13.1"
  }
 },
 "nbformat": 4,
 "nbformat_minor": 5
}
