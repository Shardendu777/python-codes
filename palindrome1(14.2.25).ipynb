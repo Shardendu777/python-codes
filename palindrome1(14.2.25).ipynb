{
 "cells": [
  {
   "cell_type": "code",
   "execution_count": 6,
   "id": "7bb49855-e6ad-44f5-8046-eba881b163e3",
   "metadata": {},
   "outputs": [
    {
     "name": "stdin",
     "output_type": "stream",
     "text": [
      "enter a value A ba\n"
     ]
    },
    {
     "name": "stdout",
     "output_type": "stream",
     "text": [
      "the refined number is aba\n",
      "palindrome\n"
     ]
    }
   ],
   "source": [
    "#palindrome using slicing and functions(capslock and spaces are not our concern)\n",
    "#not taking the cases of odd and even palindrome\n",
    "n=input(\"enter a value\")\n",
    "def is_palindrome(s):\n",
    "    s=s.lower().replace(\" \",\"\")\n",
    "    print(\"the refined number is\",s)\n",
    "    return(s==s[ : :-1])\n",
    "if is_palindrome(n):\n",
    "    print(\"palindrome\")\n",
    "else:\n",
    "    print(\"not palindrome\")"
   ]
  },
  {
   "cell_type": "code",
   "execution_count": 8,
   "id": "f045c68b-8800-4700-953e-ba522d42ca3c",
   "metadata": {},
   "outputs": [
    {
     "name": "stdin",
     "output_type": "stream",
     "text": [
      "enter a value a ba\n"
     ]
    },
    {
     "name": "stdout",
     "output_type": "stream",
     "text": [
      "the refined number is a ba\n",
      "not palindrome\n"
     ]
    }
   ],
   "source": [
    "#palindrome using slicing and functions(capslock and spaces are important)\n",
    "#not taking the cases of odd and even palindrome\n",
    "n=input(\"enter a value\")\n",
    "def is_palindrome(s):\n",
    "    print(\"the refined number is\",s)\n",
    "    return(s==s[ : :-1])\n",
    "if is_palindrome(n):\n",
    "    print(\"palindrome\")\n",
    "else:\n",
    "    print(\"not palindrome\")"
   ]
  },
  {
   "cell_type": "code",
   "execution_count": null,
   "id": "57d8daf3-fe0e-4d46-8434-781f1675db51",
   "metadata": {},
   "outputs": [],
   "source": []
  }
 ],
 "metadata": {
  "kernelspec": {
   "display_name": "Python 3 (ipykernel)",
   "language": "python",
   "name": "python3"
  },
  "language_info": {
   "codemirror_mode": {
    "name": "ipython",
    "version": 3
   },
   "file_extension": ".py",
   "mimetype": "text/x-python",
   "name": "python",
   "nbconvert_exporter": "python",
   "pygments_lexer": "ipython3",
   "version": "3.13.1"
  }
 },
 "nbformat": 4,
 "nbformat_minor": 5
}
