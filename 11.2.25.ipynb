{
 "cells": [
  {
   "cell_type": "code",
   "execution_count": 8,
   "id": "c8db6b7b-8653-40f3-8998-b6ca5f07e36e",
   "metadata": {},
   "outputs": [
    {
     "name": "stdin",
     "output_type": "stream",
     "text": [
      " 0\n"
     ]
    },
    {
     "name": "stdout",
     "output_type": "stream",
     "text": [
      "invalid\n"
     ]
    }
   ],
   "source": [
    "n=int(input())\n",
    "if(n==0 or n<0):\n",
    "    print(\"invalid\")\n",
    "else:\n",
    "    for i in range(n):\n",
    "        print(i+1)\n"
   ]
  },
  {
   "cell_type": "code",
   "execution_count": 10,
   "id": "158500f9-4b5c-4e2f-9ddf-a2ab3ab80531",
   "metadata": {},
   "outputs": [
    {
     "name": "stdin",
     "output_type": "stream",
     "text": [
      " 5\n"
     ]
    },
    {
     "name": "stdout",
     "output_type": "stream",
     "text": [
      "120\n"
     ]
    }
   ],
   "source": [
    "#factorial using while loop\n",
    "n=int(input())\n",
    "fac=1\n",
    "i=1\n",
    "if(n==0 or n==1):\n",
    "    print(\"1\")\n",
    "elif(n<0):\n",
    "    print(\"invalid\")\n",
    "else:\n",
    "    while(i!=n+1):\n",
    "        fac=fac*i\n",
    "        i+=1\n",
    "    print(fac)\n",
    "\n"
   ]
  },
  {
   "cell_type": "code",
   "execution_count": null,
   "id": "672e809a-86df-4e52-84ce-301c2d97502a",
   "metadata": {},
   "outputs": [],
   "source": [
    "#factorial using for loop\n"
   ]
  }
 ],
 "metadata": {
  "kernelspec": {
   "display_name": "Python 3 (ipykernel)",
   "language": "python",
   "name": "python3"
  },
  "language_info": {
   "codemirror_mode": {
    "name": "ipython",
    "version": 3
   },
   "file_extension": ".py",
   "mimetype": "text/x-python",
   "name": "python",
   "nbconvert_exporter": "python",
   "pygments_lexer": "ipython3",
   "version": "3.13.1"
  }
 },
 "nbformat": 4,
 "nbformat_minor": 5
}
