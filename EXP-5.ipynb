{
 "cells": [
  {
   "cell_type": "code",
   "execution_count": 6,
   "id": "87c046d7-8384-4d6c-a110-076b11d8d030",
   "metadata": {},
   "outputs": [
    {
     "name": "stdin",
     "output_type": "stream",
     "text": [
      "enter a word SharDendU\n"
     ]
    },
    {
     "name": "stdout",
     "output_type": "stream",
     "text": [
      "['S', 'D', 'U']\n",
      "the count of all the capital letters is : 3\n"
     ]
    }
   ],
   "source": [
    "#1\n",
    "a=input(\"enter a word\")\n",
    "count=0\n",
    "l=[]\n",
    "for i in range(len(a)):\n",
    "    if(a[i].isupper()):\n",
    "        l.append(a[i])\n",
    "        count=count+1\n",
    "    else:\n",
    "        continue\n",
    "print(l)\n",
    "print(f\"the count of all the capital letters is : {count}\")"
   ]
  },
  {
   "cell_type": "code",
   "execution_count": 10,
   "id": "252583ca-7008-4edd-ab80-fe78c65a9154",
   "metadata": {},
   "outputs": [
    {
     "name": "stdin",
     "output_type": "stream",
     "text": [
      "enter a word aadarsh\n"
     ]
    },
    {
     "name": "stdout",
     "output_type": "stream",
     "text": [
      "the number of vowels in the entered string are : 3\n"
     ]
    }
   ],
   "source": [
    "#2\n",
    "a=input(\"enter a word\")\n",
    "count=0\n",
    "for i in range(len(a)):\n",
    "    if(a[i]==\"a\" or a[i]==\"e\" or a[i]==\"i\" or a[i]==\"o\" or a[i]==\"u\"):\n",
    "        count=count+1\n",
    "    else:\n",
    "        continue\n",
    "print(f\"the number of vowels in the entered string are : {count}\")"
   ]
  },
  {
   "cell_type": "code",
   "execution_count": 13,
   "id": "90af5526-908b-4591-bc78-35f75c68b431",
   "metadata": {},
   "outputs": [
    {
     "name": "stdin",
     "output_type": "stream",
     "text": [
      "enter a sentence :  my name is \n"
     ]
    },
    {
     "name": "stdout",
     "output_type": "stream",
     "text": [
      "my\n",
      "name\n",
      "is\n",
      "\n"
     ]
    }
   ],
   "source": [
    "#3\n",
    "a=input(\"enter a sentence : \")\n",
    "t=a.replace(\" \",\"\\n\")\n",
    "print(t)"
   ]
  },
  {
   "cell_type": "code",
   "execution_count": 18,
   "id": "fa6035c7-9a70-4a25-b613-6cbae12f6dd5",
   "metadata": {},
   "outputs": [
    {
     "name": "stdin",
     "output_type": "stream",
     "text": [
      "Enter a string:  abcdcdc\n",
      "Enter a substring of the string:  cdc\n"
     ]
    },
    {
     "name": "stdout",
     "output_type": "stream",
     "text": [
      "2\n"
     ]
    }
   ],
   "source": [
    "#4\n",
    "a = input(\"Enter a string: \")\n",
    "b = input(\"Enter a substring of the string: \")\n",
    "\n",
    "count = 0\n",
    "for i in range(len(a) - len(b) + 1):  # Ensure valid index range\n",
    "    if a[i:i+len(b)] == b:  # Compare slices directly\n",
    "        count += 1\n",
    "\n",
    "print(count)\n"
   ]
  },
  {
   "cell_type": "code",
   "execution_count": 23,
   "id": "4847c47a-ad3e-4307-81ff-2baad5b036bf",
   "metadata": {},
   "outputs": [
    {
     "name": "stdin",
     "output_type": "stream",
     "text": [
      "Enter a string:  ABaBCbGc\n"
     ]
    },
    {
     "name": "stdout",
     "output_type": "stream",
     "text": [
      "Counter({'b': 3, 'a': 2, 'c': 2, 'g': 1})\n"
     ]
    }
   ],
   "source": [
    "#5\n",
    "from collections import Counter\n",
    "a = input(\"Enter a string: \")\n",
    "t=list(a.lower())\n",
    "print(Counter(t))\n"
   ]
  },
  {
   "cell_type": "code",
   "execution_count": 38,
   "id": "6787eb52-9f07-4840-b64f-423027606ba3",
   "metadata": {},
   "outputs": [
    {
     "name": "stdin",
     "output_type": "stream",
     "text": [
      "enter a sentence :  my my name is \n"
     ]
    },
    {
     "name": "stdout",
     "output_type": "stream",
     "text": [
      "the number of unique words are : 3\n"
     ]
    }
   ],
   "source": [
    "#6\n",
    "a=input(\"enter a sentence : \")\n",
    "t=set(a.split())\n",
    "print(f\"the number of unique words are : {len(t)}\")"
   ]
  },
  {
   "cell_type": "code",
   "execution_count": 46,
   "id": "fcb47f55-3fff-42e9-a901-dd02fbc4686c",
   "metadata": {},
   "outputs": [
    {
     "name": "stdin",
     "output_type": "stream",
     "text": [
      "enter the number of fruits in s1:  3\n",
      "enter the fruit in s1:  apple\n",
      "enter the fruit in s1:  mango\n",
      "enter the fruit in s1:  grapes\n",
      "enter the number of fruits in s2:  3\n",
      "enter the fruit in s2:  mango\n",
      "enter the fruit in s2:  banana\n",
      "enter the fruit in s2:  kaala\n"
     ]
    },
    {
     "name": "stdout",
     "output_type": "stream",
     "text": [
      "the fruits which are both in s1 and s2 are: {'mango'}\n"
     ]
    }
   ],
   "source": [
    "#7.1\n",
    "s1=set()\n",
    "ns1=int(input(\"enter the number of fruits in s1: \"))\n",
    "for i in range(ns1):\n",
    "    m=input(\"enter the fruit in s1: \")\n",
    "    s1.add(m)\n",
    "s2=set()\n",
    "ns2=int(input(\"enter the number of fruits in s2: \"))\n",
    "for i in range(ns2):\n",
    "    l=input(\"enter the fruit in s2: \")\n",
    "    s2.add(l)\n",
    "s=s1.intersection(s2)\n",
    "print(f\"the fruits which are both in s1 and s2 are: {s}\")\n"
   ]
  },
  {
   "cell_type": "code",
   "execution_count": 47,
   "id": "411f83f3-c9f9-4236-b58d-139fc4240571",
   "metadata": {},
   "outputs": [
    {
     "name": "stdin",
     "output_type": "stream",
     "text": [
      "enter the number of fruits in s1:  3\n",
      "enter the fruit in s1:  apple \n",
      "enter the fruit in s1:  banana\n",
      "enter the fruit in s1:  grapes\n",
      "enter the number of fruits in s2:  2\n",
      "enter the fruit in s2:  banana\n",
      "enter the fruit in s2:  watermelon\n"
     ]
    },
    {
     "name": "stdout",
     "output_type": "stream",
     "text": [
      "the fruits which are both in s1 and s2 are: {'grapes', 'apple '}\n"
     ]
    }
   ],
   "source": [
    "#7.2\n",
    "s1=set()\n",
    "ns1=int(input(\"enter the number of fruits in s1: \"))\n",
    "for i in range(ns1):\n",
    "    m=input(\"enter the fruit in s1: \")\n",
    "    s1.add(m)\n",
    "s2=set()\n",
    "ns2=int(input(\"enter the number of fruits in s2: \"))\n",
    "for i in range(ns2):\n",
    "    l=input(\"enter the fruit in s2: \")\n",
    "    s2.add(l)\n",
    "s=s1.difference(s2)\n",
    "print(f\"the fruits which are in s1 but not in s2 are: {s}\")\n"
   ]
  },
  {
   "cell_type": "code",
   "execution_count": 49,
   "id": "b7314235-4141-43dc-a4d1-3242e4e7ec02",
   "metadata": {},
   "outputs": [
    {
     "name": "stdin",
     "output_type": "stream",
     "text": [
      "enter the number of fruits in s1:  2\n",
      "enter the fruit in s1:  apple\n",
      "enter the fruit in s1:  grapes\n",
      "enter the number of fruits in s2:  2\n",
      "enter the fruit in s2:  banana\n",
      "enter the fruit in s2:  watermelon\n"
     ]
    },
    {
     "name": "stdout",
     "output_type": "stream",
     "text": [
      "all fruits of s1 and s2: {'grapes', 'watermelon', 'banana', 'apple'}\n"
     ]
    }
   ],
   "source": [
    "#7.3\n",
    "s1=set()\n",
    "ns1=int(input(\"enter the number of fruits in s1: \"))\n",
    "for i in range(ns1):\n",
    "    m=input(\"enter the fruit in s1: \")\n",
    "    s1.add(m)\n",
    "s2=set()\n",
    "ns2=int(input(\"enter the number of fruits in s2: \"))\n",
    "for i in range(ns2):\n",
    "    l=input(\"enter the fruit in s2: \")\n",
    "    s2.add(l)\n",
    "s=s1.union(s2)\n",
    "print(f\"all fruits of s1 and s2: {s}\")\n"
   ]
  },
  {
   "cell_type": "code",
   "execution_count": null,
   "id": "fc3782b0-5a18-40cb-99d0-619c34907bbb",
   "metadata": {},
   "outputs": [],
   "source": []
  }
 ],
 "metadata": {
  "kernelspec": {
   "display_name": "Python 3 (ipykernel)",
   "language": "python",
   "name": "python3"
  },
  "language_info": {
   "codemirror_mode": {
    "name": "ipython",
    "version": 3
   },
   "file_extension": ".py",
   "mimetype": "text/x-python",
   "name": "python",
   "nbconvert_exporter": "python",
   "pygments_lexer": "ipython3",
   "version": "3.13.1"
  }
 },
 "nbformat": 4,
 "nbformat_minor": 5
}
