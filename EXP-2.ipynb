{
 "cells": [
  {
   "cell_type": "code",
   "execution_count": 1,
   "id": "7f6fe0d6-e73d-4d8f-8efa-c9f4a2faa3f9",
   "metadata": {},
   "outputs": [
    {
     "name": "stdout",
     "output_type": "stream",
     "text": [
      "16\n",
      "2\n",
      "63\n",
      "1.2857142857142858\n"
     ]
    }
   ],
   "source": [
    "#1\n",
    "x=9\n",
    "y=7\n",
    "print(x+y)\n",
    "print(x-y)\n",
    "print(x*y)\n",
    "print(x/y)"
   ]
  },
  {
   "cell_type": "code",
   "execution_count": 2,
   "id": "20ee5b5e-18b0-4eed-88f2-34c0e8d3548a",
   "metadata": {},
   "outputs": [
    {
     "name": "stdin",
     "output_type": "stream",
     "text": [
      "enter the radius of the circle :  1\n"
     ]
    },
    {
     "name": "stdout",
     "output_type": "stream",
     "text": [
      "3.14\n"
     ]
    }
   ],
   "source": [
    "#2\n",
    "r=float(input(\"enter the radius of the circle : \"))\n",
    "print(3.14*(r**2))"
   ]
  },
  {
   "cell_type": "code",
   "execution_count": 4,
   "id": "92d94d5d-3c95-4225-8fc7-0c241ee268cf",
   "metadata": {},
   "outputs": [
    {
     "name": "stdin",
     "output_type": "stream",
     "text": [
      "enter first number :  4\n",
      "enter second number :  3\n"
     ]
    },
    {
     "name": "stdout",
     "output_type": "stream",
     "text": [
      "49\n"
     ]
    }
   ],
   "source": [
    "#3\n",
    "x=int(input(\"enter first number : \"))\n",
    "y=int(input(\"enter second number : \"))\n",
    "print((x+y)*(x+y))"
   ]
  },
  {
   "cell_type": "code",
   "execution_count": 7,
   "id": "8b875629-9fa2-46ba-b86e-f53a8c2c8fcd",
   "metadata": {},
   "outputs": [
    {
     "name": "stdin",
     "output_type": "stream",
     "text": [
      "enter side of a triangle :  3\n",
      "enter another side of a triangle :  4\n"
     ]
    },
    {
     "name": "stdout",
     "output_type": "stream",
     "text": [
      "hypotenuse=(5+0j)\n"
     ]
    }
   ],
   "source": [
    "#4\n",
    "import cmath\n",
    "a=float(input(\"enter side of a triangle : \"))\n",
    "b=float(input(\"enter another side of a triangle : \"))\n",
    "print(f\"hypotenuse={cmath.sqrt(a**2 + b**2)}\")"
   ]
  },
  {
   "cell_type": "code",
   "execution_count": 9,
   "id": "94ad8aea-d486-4692-8957-d4b2743e00bd",
   "metadata": {},
   "outputs": [
    {
     "name": "stdin",
     "output_type": "stream",
     "text": [
      "enter the principal amount :  100\n",
      "enter the rate of interset(percentage) :  5\n",
      "enter the time in years :  3\n"
     ]
    },
    {
     "name": "stdout",
     "output_type": "stream",
     "text": [
      "15.0\n"
     ]
    }
   ],
   "source": [
    "#5\n",
    "P=float(input(\"enter the principal amount : \"))\n",
    "R=float(input(\"enter the rate of interset(percentage) : \"))\n",
    "T=float(input(\"enter the time in years : \"))\n",
    "SI=P*R*T/100\n",
    "print(SI)"
   ]
  },
  {
   "cell_type": "code",
   "execution_count": 15,
   "id": "152a78cb-c704-4fff-a6f4-e217c3c52eca",
   "metadata": {},
   "outputs": [
    {
     "name": "stdin",
     "output_type": "stream",
     "text": [
      "enter side :  3\n",
      "enter side :  4\n",
      "enter side :  5\n"
     ]
    },
    {
     "name": "stdout",
     "output_type": "stream",
     "text": [
      "(6+0j)\n"
     ]
    }
   ],
   "source": [
    "#6\n",
    "import cmath\n",
    "a=float(input(\"enter side : \"))\n",
    "b=float(input(\"enter side : \"))\n",
    "c=float(input(\"enter side : \"))\n",
    "s=(a+b+c)/2\n",
    "AREA=cmath.sqrt(s*(s-a)*(s-b)*(s-c))\n",
    "print(AREA)"
   ]
  },
  {
   "cell_type": "code",
   "execution_count": 19,
   "id": "a8d1eb14-68b7-4957-8758-1e692ec6eaa8",
   "metadata": {},
   "outputs": [
    {
     "name": "stdin",
     "output_type": "stream",
     "text": [
      "enter time in seconds :  1890\n"
     ]
    },
    {
     "name": "stdout",
     "output_type": "stream",
     "text": [
      "time=0:31:30\n"
     ]
    }
   ],
   "source": [
    "#7\n",
    "time=int(input(\"enter time in seconds : \"))\n",
    "sec=time%60\n",
    "min_=time//60\n",
    "min=min_%60\n",
    "hours=min_//60\n",
    "print(f\"time={hours}:{min}:{sec}\")"
   ]
  },
  {
   "cell_type": "code",
   "execution_count": 22,
   "id": "adfe865a-0e0d-4fd7-a152-39cffeced911",
   "metadata": {},
   "outputs": [
    {
     "name": "stdin",
     "output_type": "stream",
     "text": [
      "enter a number :  12\n",
      "enter another number :  13\n"
     ]
    },
    {
     "name": "stdout",
     "output_type": "stream",
     "text": [
      "a=13.0\n",
      "b=12.0\n"
     ]
    }
   ],
   "source": [
    "#8\n",
    "a=float(input(\"enter a number : \"))\n",
    "b=float(input(\"enter another number : \"))\n",
    "a,b=b,a\n",
    "print(f\"a={a}\")\n",
    "print(f\"b={b}\")"
   ]
  },
  {
   "cell_type": "code",
   "execution_count": 27,
   "id": "214960ee-bc6a-4004-89a5-d593c137f6ed",
   "metadata": {},
   "outputs": [
    {
     "name": "stdin",
     "output_type": "stream",
     "text": [
      "enter a natural number :  4\n"
     ]
    },
    {
     "name": "stdout",
     "output_type": "stream",
     "text": [
      "10\n"
     ]
    }
   ],
   "source": [
    "#9\n",
    "n=int(input(\"enter a natural number : \"))\n",
    "def sum(n):\n",
    "    if(n==1):\n",
    "        return 1\n",
    "    else:\n",
    "        return n+sum(n-1)\n",
    "if(n<=0):\n",
    "    print(\"invalid\")\n",
    "else:\n",
    "    print(f\"{sum(n)}\")"
   ]
  },
  {
   "cell_type": "code",
   "execution_count": 38,
   "id": "3f1966f7-be27-47cc-8c9c-487badb82987",
   "metadata": {},
   "outputs": [
    {
     "name": "stdout",
     "output_type": "stream",
     "text": [
      "0 | 0=0\n",
      "0 | 1=1\n",
      "1 | 0=1\n",
      "1 | 1=1\n"
     ]
    }
   ],
   "source": [
    "#10.1\n",
    "for A in [0,1]:\n",
    "    for B in [0,1]:\n",
    "        print(f\"{A} | {B}={A|B}\")"
   ]
  },
  {
   "cell_type": "code",
   "execution_count": 39,
   "id": "c31d6b72-8970-4597-a116-a8498a869a0a",
   "metadata": {},
   "outputs": [
    {
     "name": "stdout",
     "output_type": "stream",
     "text": [
      "0 & 0=0\n",
      "0 & 1=0\n",
      "1 & 0=0\n",
      "1 & 1=1\n"
     ]
    }
   ],
   "source": [
    "#10.2\n",
    "for A in [0,1]:\n",
    "    for B in [0,1]:\n",
    "        print(f\"{A} & {B}={A and B}\")"
   ]
  },
  {
   "cell_type": "code",
   "execution_count": 40,
   "id": "904dad08-c01e-4d87-b6d7-60cc5916ed01",
   "metadata": {},
   "outputs": [
    {
     "name": "stdout",
     "output_type": "stream",
     "text": [
      "0 ^ 0=0\n",
      "0 ^ 1=1\n",
      "1 ^ 0=1\n",
      "1 ^ 1=0\n"
     ]
    }
   ],
   "source": [
    "#10.3\n",
    "for A in [0,1]:\n",
    "    for B in [0,1]:\n",
    "        print(f\"{A} ^ {B}={A ^ B}\")"
   ]
  },
  {
   "cell_type": "code",
   "execution_count": 42,
   "id": "faab1d66-c179-4579-9a1e-98d091834cef",
   "metadata": {},
   "outputs": [
    {
     "name": "stdin",
     "output_type": "stream",
     "text": [
      "enter a number :  3\n",
      "determine how much left shift :  1\n"
     ]
    },
    {
     "name": "stdout",
     "output_type": "stream",
     "text": [
      "left shift of 3 is 6\n"
     ]
    }
   ],
   "source": [
    "#11.1\n",
    "n=int(input(\"enter a number : \"))\n",
    "m=int(input(\"determine how much left shift : \"))\n",
    "print(f\"left shift of {n} is {n*(2)**m}\")"
   ]
  },
  {
   "cell_type": "code",
   "execution_count": 44,
   "id": "42ad15d9-d31f-44cf-b260-68cc00f80568",
   "metadata": {},
   "outputs": [
    {
     "name": "stdin",
     "output_type": "stream",
     "text": [
      "enter a number :  7\n",
      "determine how much right shift :  1\n"
     ]
    },
    {
     "name": "stdout",
     "output_type": "stream",
     "text": [
      "left shift of 7 is 3\n"
     ]
    }
   ],
   "source": [
    "#11.2\n",
    "n=int(input(\"enter a number : \"))\n",
    "m=int(input(\"determine how much right shift : \"))\n",
    "print(f\"left shift of {n} is {n//(2)**m}\")"
   ]
  },
  {
   "cell_type": "code",
   "execution_count": 46,
   "id": "631b0217-b1fa-4e05-9622-2976e5799087",
   "metadata": {},
   "outputs": [
    {
     "name": "stdin",
     "output_type": "stream",
     "text": [
      "enter a number :  10\n"
     ]
    },
    {
     "name": "stdout",
     "output_type": "stream",
     "text": [
      "True\n"
     ]
    }
   ],
   "source": [
    "#12\n",
    "n=float(input(\"enter a number : \"))\n",
    "a=(10,20,56,78,89)\n",
    "if(n in a):\n",
    "    print(True)\n",
    "else:\n",
    "    print(False)"
   ]
  },
  {
   "cell_type": "code",
   "execution_count": null,
   "id": "9585514c-0911-48d3-a0ea-2a957ab9e9ff",
   "metadata": {},
   "outputs": [],
   "source": [
    "#13\n",
    "c=input(\"enter a \")"
   ]
  }
 ],
 "metadata": {
  "kernelspec": {
   "display_name": "Python 3 (ipykernel)",
   "language": "python",
   "name": "python3"
  },
  "language_info": {
   "codemirror_mode": {
    "name": "ipython",
    "version": 3
   },
   "file_extension": ".py",
   "mimetype": "text/x-python",
   "name": "python",
   "nbconvert_exporter": "python",
   "pygments_lexer": "ipython3",
   "version": "3.13.1"
  }
 },
 "nbformat": 4,
 "nbformat_minor": 5
}
