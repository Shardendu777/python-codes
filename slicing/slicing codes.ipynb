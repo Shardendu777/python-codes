{
 "cells": [
  {
   "cell_type": "code",
   "execution_count": 1,
   "id": "f41ea27b-1b7c-42d9-b7f6-ca77c24a3d6f",
   "metadata": {},
   "outputs": [
    {
     "name": "stdout",
     "output_type": "stream",
     "text": [
      "hivi\n"
     ]
    }
   ],
   "source": [
    "a=\"hivirenderpython\"\n",
    "print(a[0:4])"
   ]
  },
  {
   "cell_type": "code",
   "execution_count": 2,
   "id": "25158615-0d72-44c8-bb6c-510d9849f9be",
   "metadata": {},
   "outputs": [
    {
     "name": "stdout",
     "output_type": "stream",
     "text": [
      "hivi\n"
     ]
    }
   ],
   "source": [
    "print(a[-16:-12])"
   ]
  },
  {
   "cell_type": "code",
   "execution_count": 3,
   "id": "e11bf1fc-e376-4545-96d7-f0c2dec7cda2",
   "metadata": {},
   "outputs": [
    {
     "name": "stdout",
     "output_type": "stream",
     "text": [
      "\n"
     ]
    }
   ],
   "source": [
    "print(a[0:0])"
   ]
  },
  {
   "cell_type": "code",
   "execution_count": 4,
   "id": "7f85a219-00f8-44b7-a5d8-2b9f07f69032",
   "metadata": {},
   "outputs": [
    {
     "name": "stdout",
     "output_type": "stream",
     "text": [
      "\n"
     ]
    }
   ],
   "source": [
    "print(a[4:0])"
   ]
  },
  {
   "cell_type": "code",
   "execution_count": 5,
   "id": "db7ee3b9-bc13-4cfb-b429-25643b22a4d3",
   "metadata": {},
   "outputs": [
    {
     "name": "stdout",
     "output_type": "stream",
     "text": [
      "\n"
     ]
    }
   ],
   "source": [
    "print(a[-12:-14])"
   ]
  },
  {
   "cell_type": "code",
   "execution_count": 6,
   "id": "a5ae77c9-151d-4a0c-ab14-fc4708e479a5",
   "metadata": {},
   "outputs": [
    {
     "name": "stdout",
     "output_type": "stream",
     "text": [
      "ivirenderp\n"
     ]
    }
   ],
   "source": [
    "print(a[1:11])"
   ]
  },
  {
   "cell_type": "code",
   "execution_count": 8,
   "id": "f16aad56-07e7-4f1f-a3f3-2d6a4d02a8d0",
   "metadata": {},
   "outputs": [
    {
     "name": "stdout",
     "output_type": "stream",
     "text": [
      "ivirenderp\n"
     ]
    }
   ],
   "source": [
    "print(a[-15:-5])"
   ]
  },
  {
   "cell_type": "code",
   "execution_count": 9,
   "id": "b1ad21dc-0f4c-4c75-a2a5-52cfa92bd30a",
   "metadata": {},
   "outputs": [
    {
     "name": "stdout",
     "output_type": "stream",
     "text": [
      "\n"
     ]
    }
   ],
   "source": [
    "print(a[4:4])"
   ]
  },
  {
   "cell_type": "code",
   "execution_count": 11,
   "id": "081d7c0e-8e97-4228-ab43-33c83b06dcee",
   "metadata": {},
   "outputs": [
    {
     "name": "stdout",
     "output_type": "stream",
     "text": [
      "\n"
     ]
    }
   ],
   "source": [
    "print(a[5:-16])"
   ]
  },
  {
   "cell_type": "code",
   "execution_count": 12,
   "id": "b26e0876-7128-4aad-a33d-6ddca99abdd0",
   "metadata": {},
   "outputs": [
    {
     "name": "stdout",
     "output_type": "stream",
     "text": [
      "\n"
     ]
    }
   ],
   "source": [
    "print(a[-11:0])"
   ]
  },
  {
   "cell_type": "code",
   "execution_count": 13,
   "id": "21043f75-534b-4959-8b76-9c816adb26f1",
   "metadata": {},
   "outputs": [
    {
     "name": "stdout",
     "output_type": "stream",
     "text": [
      "hivirenderpython\n"
     ]
    }
   ],
   "source": [
    "print(a[0:20])"
   ]
  },
  {
   "cell_type": "code",
   "execution_count": 14,
   "id": "de351400-ea17-49ab-81ad-3aa91dbf2098",
   "metadata": {},
   "outputs": [
    {
     "name": "stdout",
     "output_type": "stream",
     "text": [
      "hivirenderpython\n"
     ]
    }
   ],
   "source": [
    "print(a[0: ])"
   ]
  },
  {
   "cell_type": "code",
   "execution_count": 15,
   "id": "2d5e4bff-5a55-4ec8-8987-18e3caaf92a5",
   "metadata": {},
   "outputs": [
    {
     "name": "stdout",
     "output_type": "stream",
     "text": [
      "hivirenderpython\n"
     ]
    }
   ],
   "source": [
    "print(a[0:200])"
   ]
  },
  {
   "cell_type": "code",
   "execution_count": 16,
   "id": "5751fae3-63d9-4eee-8d5d-d87ec7b9d0d0",
   "metadata": {},
   "outputs": [
    {
     "name": "stdout",
     "output_type": "stream",
     "text": [
      "hivirenderpython\n"
     ]
    }
   ],
   "source": [
    "print(a[-16:200])"
   ]
  },
  {
   "cell_type": "code",
   "execution_count": 17,
   "id": "bd7c6ec4-f1f9-44e5-a4e8-8196bf205fc5",
   "metadata": {},
   "outputs": [
    {
     "name": "stdout",
     "output_type": "stream",
     "text": [
      "\n"
     ]
    }
   ],
   "source": [
    "print(a[-4:-4])"
   ]
  },
  {
   "cell_type": "code",
   "execution_count": 18,
   "id": "968fb753-78d9-47d2-bda9-e0985bdbd738",
   "metadata": {},
   "outputs": [
    {
     "name": "stdout",
     "output_type": "stream",
     "text": [
      "\n"
     ]
    }
   ],
   "source": [
    "print(a[200:0])"
   ]
  },
  {
   "cell_type": "code",
   "execution_count": 19,
   "id": "f8945c90-b320-4bf9-921d-4a16079b0052",
   "metadata": {},
   "outputs": [
    {
     "name": "stdout",
     "output_type": "stream",
     "text": [
      "\n"
     ]
    }
   ],
   "source": [
    "print(a[200:-16])"
   ]
  },
  {
   "cell_type": "code",
   "execution_count": 20,
   "id": "8c8e8a07-7fa7-4045-92c1-4710824ef63e",
   "metadata": {},
   "outputs": [
    {
     "name": "stdout",
     "output_type": "stream",
     "text": [
      "renderpython\n"
     ]
    }
   ],
   "source": [
    "print(a[4: ])"
   ]
  },
  {
   "cell_type": "code",
   "execution_count": 21,
   "id": "1c190db3-9211-415d-84c0-667401c8932b",
   "metadata": {},
   "outputs": [
    {
     "name": "stdout",
     "output_type": "stream",
     "text": [
      "hv\n"
     ]
    }
   ],
   "source": [
    "print(a[0:4:2])"
   ]
  },
  {
   "cell_type": "code",
   "execution_count": 22,
   "id": "446c899e-fc55-47fe-8bda-88f9babbda5a",
   "metadata": {},
   "outputs": [
    {
     "name": "stdout",
     "output_type": "stream",
     "text": [
      "hv\n"
     ]
    }
   ],
   "source": [
    "print(a[-16:-12:2])"
   ]
  },
  {
   "cell_type": "code",
   "execution_count": 23,
   "id": "80932a32-ba90-4b97-b965-c22ff37dd14b",
   "metadata": {},
   "outputs": [
    {
     "name": "stdout",
     "output_type": "stream",
     "text": [
      "rr\n"
     ]
    }
   ],
   "source": [
    "print(a[4:10:5])"
   ]
  },
  {
   "cell_type": "code",
   "execution_count": 24,
   "id": "e91e3503-43e5-4883-b91f-966009c5253c",
   "metadata": {},
   "outputs": [
    {
     "name": "stdout",
     "output_type": "stream",
     "text": [
      "rr\n"
     ]
    }
   ],
   "source": [
    "print(a[-12:-6:5])"
   ]
  },
  {
   "cell_type": "code",
   "execution_count": 25,
   "id": "c4914fa3-3ba9-469d-9cbd-f2306af4c8de",
   "metadata": {},
   "outputs": [
    {
     "name": "stdout",
     "output_type": "stream",
     "text": [
      "nohtyprednerivi\n"
     ]
    }
   ],
   "source": [
    "print(a[15:0:-1])"
   ]
  },
  {
   "cell_type": "code",
   "execution_count": 27,
   "id": "c3a552f5-8458-46ca-929f-b340fc579f86",
   "metadata": {},
   "outputs": [
    {
     "name": "stdout",
     "output_type": "stream",
     "text": [
      "nohtyprednerivi\n"
     ]
    }
   ],
   "source": [
    "print(a[-1:-16:-1])"
   ]
  },
  {
   "cell_type": "code",
   "execution_count": 28,
   "id": "ce502033-7b15-49d8-933d-f5d3e13dafd0",
   "metadata": {},
   "outputs": [
    {
     "name": "stdout",
     "output_type": "stream",
     "text": [
      "nohtyprednerivih\n"
     ]
    }
   ],
   "source": [
    "print(a[15:-17:-1])"
   ]
  },
  {
   "cell_type": "code",
   "execution_count": 29,
   "id": "bf6d4c35-42bd-4356-ad48-a64aa0a6b3cc",
   "metadata": {},
   "outputs": [
    {
     "name": "stdout",
     "output_type": "stream",
     "text": [
      "\n"
     ]
    }
   ],
   "source": [
    "print(a[4:10:-1])"
   ]
  },
  {
   "cell_type": "code",
   "execution_count": 30,
   "id": "79d63bfa-d344-411d-ab70-302491f7a854",
   "metadata": {},
   "outputs": [
    {
     "name": "stdout",
     "output_type": "stream",
     "text": [
      "\n"
     ]
    }
   ],
   "source": [
    "print(a[10:4:1])"
   ]
  },
  {
   "cell_type": "code",
   "execution_count": 31,
   "id": "2dabcb8b-1c27-4ff7-9af6-95a2c50c6fa7",
   "metadata": {},
   "outputs": [
    {
     "ename": "ValueError",
     "evalue": "slice step cannot be zero",
     "output_type": "error",
     "traceback": [
      "\u001b[1;31m---------------------------------------------------------------------------\u001b[0m",
      "\u001b[1;31mValueError\u001b[0m                                Traceback (most recent call last)",
      "Cell \u001b[1;32mIn[31], line 1\u001b[0m\n\u001b[1;32m----> 1\u001b[0m \u001b[38;5;28mprint\u001b[39m(\u001b[43ma\u001b[49m\u001b[43m[\u001b[49m\u001b[43m \u001b[49m\u001b[43m:\u001b[49m\u001b[43m \u001b[49m\u001b[43m:\u001b[49m\u001b[38;5;241;43m0\u001b[39;49m\u001b[43m]\u001b[49m)\n",
      "\u001b[1;31mValueError\u001b[0m: slice step cannot be zero"
     ]
    }
   ],
   "source": [
    "print(a[ : :0])"
   ]
  },
  {
   "cell_type": "code",
   "execution_count": null,
   "id": "00e93e31-85b8-4811-910d-422092551e51",
   "metadata": {},
   "outputs": [],
   "source": []
  }
 ],
 "metadata": {
  "kernelspec": {
   "display_name": "Python 3 (ipykernel)",
   "language": "python",
   "name": "python3"
  },
  "language_info": {
   "codemirror_mode": {
    "name": "ipython",
    "version": 3
   },
   "file_extension": ".py",
   "mimetype": "text/x-python",
   "name": "python",
   "nbconvert_exporter": "python",
   "pygments_lexer": "ipython3",
   "version": "3.13.1"
  }
 },
 "nbformat": 4,
 "nbformat_minor": 5
}
