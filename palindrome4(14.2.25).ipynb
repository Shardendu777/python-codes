{
 "cells": [
  {
   "cell_type": "code",
   "execution_count": 11,
   "id": "328f2ae7-4567-496d-9a0f-c4b573b8aeb1",
   "metadata": {},
   "outputs": [
    {
     "name": "stdin",
     "output_type": "stream",
     "text": [
      " 123\n"
     ]
    },
    {
     "name": "stdout",
     "output_type": "stream",
     "text": [
      "the refined string is 123\n",
      "not palindrome\n"
     ]
    },
    {
     "ename": "SystemExit",
     "evalue": "1",
     "output_type": "error",
     "traceback": [
      "An exception has occurred, use %tb to see the full traceback.\n",
      "\u001b[1;31mSystemExit\u001b[0m\u001b[1;31m:\u001b[0m 1\n"
     ]
    }
   ],
   "source": [
    "#palindrome with while loop without functions and slicing(capslock and spaces are not our concern) \n",
    "import sys\n",
    "n=input()\n",
    "ni=n.lower().replace(\" \",\"\")\n",
    "print(\"the refined string is\",ni)\n",
    "left=0\n",
    "right=len(ni)-1\n",
    "while(left<right):\n",
    "    if(ni[left] != ni[right]):\n",
    "        print(\"not palindrome\")\n",
    "        sys.exit(1)\n",
    "    \n",
    "    left+=1\n",
    "    right-=1\n",
    "print(\"palindrome\")"
   ]
  },
  {
   "cell_type": "code",
   "execution_count": 1,
   "id": "bf7c5258-ce12-43a0-ac9d-fd3878dfe2bc",
   "metadata": {},
   "outputs": [
    {
     "name": "stdin",
     "output_type": "stream",
     "text": [
      "Enter a string:  123\n"
     ]
    },
    {
     "name": "stdout",
     "output_type": "stream",
     "text": [
      "not palindrome\n"
     ]
    }
   ],
   "source": [
    "n = input(\"Enter a string: \")\n",
    "\n",
    "# Normalize the string (remove spaces and convert to lowercase)\n",
    "normalized_n = n.replace(\" \", \"\").lower()\n",
    "\n",
    "# Initialize pointers for the beginning and the end of the string\n",
    "left = 0\n",
    "right = len(normalized_n) - 1\n",
    "\n",
    "# Check if the string is a palindrome using a while loop\n",
    "while left < right:\n",
    "    if normalized_n[left] != normalized_n[right]:\n",
    "        print(\"not palindrome\")\n",
    "        break\n",
    "    left += 1\n",
    "    right -= 1\n",
    "else:\n",
    "    print(\"palindrome\")\n"
   ]
  },
  {
   "cell_type": "code",
   "execution_count": null,
   "id": "27536c2f-2677-4989-b7c3-85ccf7b36ac1",
   "metadata": {},
   "outputs": [],
   "source": []
  }
 ],
 "metadata": {
  "kernelspec": {
   "display_name": "Python 3 (ipykernel)",
   "language": "python",
   "name": "python3"
  },
  "language_info": {
   "codemirror_mode": {
    "name": "ipython",
    "version": 3
   },
   "file_extension": ".py",
   "mimetype": "text/x-python",
   "name": "python",
   "nbconvert_exporter": "python",
   "pygments_lexer": "ipython3",
   "version": "3.13.1"
  }
 },
 "nbformat": 4,
 "nbformat_minor": 5
}
