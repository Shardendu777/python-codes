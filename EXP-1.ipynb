{
 "cells": [
  {
   "cell_type": "code",
   "execution_count": 1,
   "id": "40bb31c0-21d1-43d2-84d4-76335616d8c4",
   "metadata": {},
   "outputs": [
    {
     "name": "stdout",
     "output_type": "stream",
     "text": [
      "Hello Everyone !!!\n"
     ]
    }
   ],
   "source": [
    "#2.1\n",
    "print(\"Hello Everyone !!!\")"
   ]
  },
  {
   "cell_type": "code",
   "execution_count": 2,
   "id": "3492331f-472e-4b5e-888c-fe4f609da64c",
   "metadata": {},
   "outputs": [
    {
     "name": "stdout",
     "output_type": "stream",
     "text": [
      "Hello\n",
      "World\n"
     ]
    }
   ],
   "source": [
    "#2.2\n",
    "print(\"Hello\\nWorld\")"
   ]
  },
  {
   "cell_type": "code",
   "execution_count": 3,
   "id": "7a7e7e27-8e2d-473a-9d1f-9c47fd5aac2c",
   "metadata": {},
   "outputs": [
    {
     "name": "stdout",
     "output_type": "stream",
     "text": [
      "Hello\n",
      "\tWorld\n"
     ]
    }
   ],
   "source": [
    "#2.3\n",
    "print(\"Hello\\n\\tWorld\")"
   ]
  },
  {
   "cell_type": "code",
   "execution_count": 4,
   "id": "754951c3-f75a-4635-b50a-28de8ac7e1e0",
   "metadata": {},
   "outputs": [
    {
     "name": "stdout",
     "output_type": "stream",
     "text": [
      "Rohit’ s date of birth is 12\u0005\u0001999\n"
     ]
    }
   ],
   "source": [
    "#2.4\n",
    "print(\"Rohit’ s date of birth is 12\\05\\1999\")"
   ]
  },
  {
   "cell_type": "code",
   "execution_count": 5,
   "id": "e211e7a5-5213-47e3-81ed-7bc4fc511f99",
   "metadata": {},
   "outputs": [
    {
     "name": "stdout",
     "output_type": "stream",
     "text": [
      "Hello\n"
     ]
    }
   ],
   "source": [
    "#3\n",
    "x=\"Hello\"\n",
    "print(x)\n"
   ]
  },
  {
   "cell_type": "code",
   "execution_count": 7,
   "id": "936359df-34e4-40d9-9a22-78017459bc26",
   "metadata": {},
   "outputs": [
    {
     "name": "stdout",
     "output_type": "stream",
     "text": [
      "Hello 1 1.2\n"
     ]
    }
   ],
   "source": [
    "#4\n",
    "x=\"Hello\"\n",
    "y=1\n",
    "z=1.2\n",
    "print(x,y,z)"
   ]
  },
  {
   "cell_type": "code",
   "execution_count": 9,
   "id": "c3b4589c-aae0-4ffb-8247-1b6e4c70da5c",
   "metadata": {},
   "outputs": [
    {
     "name": "stdout",
     "output_type": "stream",
     "text": [
      "Shardendu Khali\n"
     ]
    }
   ],
   "source": [
    "#5\n",
    "a=\"Virender \"\n",
    "b=\"Kadyan\"\n",
    "print(a+b)"
   ]
  },
  {
   "cell_type": "code",
   "execution_count": 11,
   "id": "ded71aca-58b8-44dc-a7b3-a062369aaafe",
   "metadata": {},
   "outputs": [
    {
     "name": "stdout",
     "output_type": "stream",
     "text": [
      "Virender (Viren) Kadyan\n"
     ]
    }
   ],
   "source": [
    "#6\n",
    "a=\"Virender\"\n",
    "b=\"Kadyan\"\n",
    "c=\"Viren\"\n",
    "print(f\"{a} ({c}) {b}\")\n"
   ]
  },
  {
   "cell_type": "code",
   "execution_count": 17,
   "id": "94c6899e-de74-492f-b642-29d3a2ec4402",
   "metadata": {},
   "outputs": [
    {
     "name": "stdout",
     "output_type": "stream",
     "text": [
      "NAME : NIKUNJ BANSAL\n",
      "SAP ID : 500069944\n",
      "DATE OF BIRTH : 13 Oct 1999\n",
      "ADDRESS : UPES\n",
      "\t  Bidholi Campus\n",
      "\t  Pincode : 248007\n",
      "Programme : AI & ML\n",
      "Semester : 2\n"
     ]
    }
   ],
   "source": [
    "#7\n",
    "a=\"NAME : NIKUNJ BANSAL\"\n",
    "b=\"SAP ID : 500069944\"\n",
    "c=\"DATE OF BIRTH : 13 Oct 1999\"\n",
    "d=\"ADDRESS : UPES\"\n",
    "e=\"Bidholi Campus\"\n",
    "f=\"Pincode : 248007\"\n",
    "g=\"Programme : AI & ML\"                                                                                     \n",
    "h=\"Semester : 2\"\n",
    "print(f\"{a}\\n{b}\\n{c}\\n{d}\\n\\t  {e}\\n\\t  {f}\\n{g}\\n{h}\")\n"
   ]
  },
  {
   "cell_type": "code",
   "execution_count": null,
   "id": "55551602-1f03-4a14-89f7-fa7223b73f87",
   "metadata": {},
   "outputs": [],
   "source": []
  }
 ],
 "metadata": {
  "kernelspec": {
   "display_name": "Python 3 (ipykernel)",
   "language": "python",
   "name": "python3"
  },
  "language_info": {
   "codemirror_mode": {
    "name": "ipython",
    "version": 3
   },
   "file_extension": ".py",
   "mimetype": "text/x-python",
   "name": "python",
   "nbconvert_exporter": "python",
   "pygments_lexer": "ipython3",
   "version": "3.13.1"
  }
 },
 "nbformat": 4,
 "nbformat_minor": 5
}
