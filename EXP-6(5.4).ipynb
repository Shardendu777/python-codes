{
 "cells": [
  {
   "cell_type": "code",
   "execution_count": null,
   "id": "d198c576-d0c5-4648-b69c-e44941529319",
   "metadata": {},
   "outputs": [],
   "source": []
  },
  {
   "cell_type": "code",
   "execution_count": null,
   "id": "1ebf1289-8652-4fa9-b01f-8579bccbf2a1",
   "metadata": {},
   "outputs": [],
   "source": []
  },
  {
   "cell_type": "code",
   "execution_count": null,
   "id": "84c0d796-c799-4bb9-bb57-d59b31356847",
   "metadata": {},
   "outputs": [],
   "source": []
  },
  {
   "cell_type": "code",
   "execution_count": null,
   "id": "eee18802-2367-45ce-b2c1-0defd3cc2ca1",
   "metadata": {},
   "outputs": [],
   "source": []
  },
  {
   "cell_type": "code",
   "execution_count": null,
   "id": "23182bb0-cb33-4dcb-a39c-d037da70920c",
   "metadata": {},
   "outputs": [],
   "source": []
  },
  {
   "cell_type": "code",
   "execution_count": null,
   "id": "d04d9c09-370b-4abb-a011-75df82790004",
   "metadata": {},
   "outputs": [],
   "source": []
  },
  {
   "cell_type": "code",
   "execution_count": null,
   "id": "d105c7cb-a11b-4e4e-8101-4795701274a7",
   "metadata": {},
   "outputs": [],
   "source": []
  },
  {
   "cell_type": "code",
   "execution_count": null,
   "id": "bc048f03-8bbd-4882-91a3-4f4b3aa4a982",
   "metadata": {},
   "outputs": [],
   "source": []
  },
  {
   "cell_type": "code",
   "execution_count": null,
   "id": "fc9a21f9-c35f-4965-8106-e738b4171eae",
   "metadata": {},
   "outputs": [],
   "source": []
  },
  {
   "cell_type": "code",
   "execution_count": null,
   "id": "15b82825-59f6-4916-a81b-dc8278c144d2",
   "metadata": {},
   "outputs": [],
   "source": []
  },
  {
   "cell_type": "code",
   "execution_count": null,
   "id": "96db439e-14c7-4e80-84bc-02c274e035ac",
   "metadata": {},
   "outputs": [],
   "source": []
  },
  {
   "cell_type": "code",
   "execution_count": null,
   "id": "db26f8c6-8a75-4d1a-b1d0-a29ba8fd469e",
   "metadata": {},
   "outputs": [],
   "source": []
  },
  {
   "cell_type": "code",
   "execution_count": null,
   "id": "73225424-fe4d-4895-9268-06cdc9aecdfa",
   "metadata": {},
   "outputs": [],
   "source": []
  },
  {
   "cell_type": "code",
   "execution_count": null,
   "id": "2fbcf66e-6233-4154-bb91-9452aea8374a",
   "metadata": {},
   "outputs": [],
   "source": [
    "#5.1\n",
    "n=int(input(\"enter the number of times you want to enter a movie: \"))\n",
    "l={}\n",
    "for i in range(n):\n",
    "    movieName=input(\"enter the movie name: \")\n",
    "    details=[]\n",
    "    year=input(\"enter the year in which movie is released: \")\n",
    "    details.append(year)\n",
    "    director_name=input(\"enter the director of the movie: \")\n",
    "    details.append(director_name)\n",
    "    production_cost=input(\"enter the production cost of the movie: \")\n",
    "    details.append(production_cost)\n",
    "    collection_made=input(\"enter the collection of the movie: \")\n",
    "    details.append(collection_made)\n",
    "    l[movieName]=details\n",
    "print(l.items())"
   ]
  },
  {
   "cell_type": "code",
   "execution_count": null,
   "id": "a2af891c-f1ec-4011-a7af-096d6e16afda",
   "metadata": {},
   "outputs": [],
   "source": [
    "#5.2\n",
    "n=int(input(\"enter the number of times you want to enter a movie: \"))\n",
    "l={}\n",
    "for i in range(n):\n",
    "    movieName=input(\"enter the movie name: \")\n",
    "    details=[]\n",
    "    year=int(input(\"enter the year in which movie is released: \"))\n",
    "    details.append(year)\n",
    "    director_name=input(\"enter the director of the movie: \")\n",
    "    details.append(director_name)\n",
    "    production_cost=input(\"enter the production cost of the movie: \")\n",
    "    details.append(production_cost)\n",
    "    collection_made=input(\"enter the collection of the movie: \")\n",
    "    details.append(collection_made)\n",
    "    l[movieName]=details\n",
    "m=[movieName for movieName in l.keys() if l[movieName][0]<2015]\n",
    "print(m)"
   ]
  },
  {
   "cell_type": "code",
   "execution_count": null,
   "id": "a0681fb2-9a88-46b4-b356-3e159ed428a7",
   "metadata": {},
   "outputs": [],
   "source": [
    "#5.3\n",
    "n=int(input(\"enter the number of times you want to enter a movie: \"))\n",
    "l={}\n",
    "for i in range(n):\n",
    "    movieName=input(\"enter the movie name: \")\n",
    "    details=[]\n",
    "    year=int(input(\"enter the year in which movie is released: \"))\n",
    "    details.append(year)\n",
    "    director_name=input(\"enter the director of the movie: \")\n",
    "    details.append(director_name)\n",
    "    production_cost=input(\"enter the production cost of the movie: \")\n",
    "    details.append(production_cost)\n",
    "    collection_made=input(\"enter the collection of the movie: \")\n",
    "    details.append(collection_made)\n",
    "    l[movieName]=details\n",
    "m=[movieName for movieName in l.keys() if l[movieName][2]>l[movieName][3]]\n",
    "print(m)"
   ]
  },
  {
   "cell_type": "code",
   "execution_count": 2,
   "id": "bfbce7ea-b227-4a00-9a45-d9980350c280",
   "metadata": {},
   "outputs": [
    {
     "name": "stdin",
     "output_type": "stream",
     "text": [
      "enter the number of times you want to enter a movie:  2\n",
      "enter the movie name:  baaghi\n",
      "enter the year in which movie is released:  20166\n",
      "enter the director of the movie:  ahmed khan\n",
      "enter the production cost of the movie:  50cr\n",
      "enter the collection of the movie:  200cr\n",
      "enter the movie name:  baaghi2\n",
      "enter the year in which movie is released:  2020\n",
      "enter the director of the movie:  ahmed khan\n",
      "enter the production cost of the movie:  100cr\n",
      "enter the collection of the movie:  109cr\n",
      "enter the name of the director whose movies you want to know:  ahmed khan\n"
     ]
    },
    {
     "name": "stdout",
     "output_type": "stream",
     "text": [
      "the movies directed by ahmed khan are ['baaghi', 'baaghi2']\n"
     ]
    }
   ],
   "source": [
    "#5.4\n",
    "n=int(input(\"enter the number of times you want to enter a movie: \"))\n",
    "l={}\n",
    "for i in range(n):\n",
    "    movieName=input(\"enter the movie name: \")\n",
    "    details=[]\n",
    "    year=int(input(\"enter the year in which movie is released: \"))\n",
    "    details.append(year)\n",
    "    director_name=input(\"enter the director of the movie: \")\n",
    "    details.append(director_name)\n",
    "    production_cost=input(\"enter the production cost of the movie: \")\n",
    "    details.append(production_cost)\n",
    "    collection_made=input(\"enter the collection of the movie: \")\n",
    "    details.append(collection_made)\n",
    "    l[movieName]=details\n",
    "directorName=input(\"enter the name of the director whose movies you want to know: \")\n",
    "k=[]\n",
    "for movieName,details in l.items():\n",
    "    if (directorName==details[1]):\n",
    "        k.append(movieName)\n",
    "    else:\n",
    "        continue\n",
    "print(f\"the movies directed by {directorName} are {k}\")\n",
    "                \n"
   ]
  },
  {
   "cell_type": "code",
   "execution_count": null,
   "id": "8fd1c18e-e4a8-440b-84d4-7496d3163987",
   "metadata": {},
   "outputs": [],
   "source": []
  }
 ],
 "metadata": {
  "kernelspec": {
   "display_name": "Python 3 (ipykernel)",
   "language": "python",
   "name": "python3"
  },
  "language_info": {
   "codemirror_mode": {
    "name": "ipython",
    "version": 3
   },
   "file_extension": ".py",
   "mimetype": "text/x-python",
   "name": "python",
   "nbconvert_exporter": "python",
   "pygments_lexer": "ipython3",
   "version": "3.13.1"
  }
 },
 "nbformat": 4,
 "nbformat_minor": 5
}
